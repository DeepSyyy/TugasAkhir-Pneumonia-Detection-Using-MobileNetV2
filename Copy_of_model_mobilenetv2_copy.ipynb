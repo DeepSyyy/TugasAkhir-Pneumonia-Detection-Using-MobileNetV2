{
 "cells": [
  {
   "cell_type": "code",
   "execution_count": 2,
   "metadata": {
    "id": "VF2kX1lMKJ2G"
   },
   "outputs": [],
   "source": [
    "import numpy as np\n",
    "import pandas as pd\n",
    "import os\n",
    "import tensorflow as tf\n",
    "from tensorflow.keras.preprocessing.image import ImageDataGenerator\n",
    "from tensorflow.keras.applications import MobileNetV2\n",
    "from tensorflow.keras.layers import Dense, GlobalAveragePooling2D\n",
    "from tensorflow.keras.models import Model\n",
    "from tensorflow.keras.optimizers import Adam\n",
    "from sklearn.metrics import classification_report, confusion_matrix, f1_score\n",
    "from tensorflow.keras.layers import BatchNormalization\n",
    "from tensorflow.keras.callbacks import ReduceLROnPlateau, EarlyStopping, ModelCheckpoint\n",
    "from tensorflow.keras.regularizers import l2\n",
    "from tensorflow.keras.models import Model\n",
    "from tensorflow.keras.optimizers import Adam\n",
    "from tensorflow.keras.layers import Dropout\n",
    "import matplotlib.pyplot as plt\n",
    "import seaborn as sns\n",
    "import os\n",
    "import shutil\n",
    "import zipfile\n",
    "from tensorflow.keras.metrics import Precision, Recall, F1Score"
   ]
  },
  {
   "cell_type": "code",
   "execution_count": 3,
   "metadata": {
    "colab": {
     "base_uri": "https://localhost:8080/"
    },
    "id": "ewuykVY0KMam",
    "outputId": "85017a50-5b45-42d5-d9cf-9f002cb683cd"
   },
   "outputs": [
    {
     "name": "stdout",
     "output_type": "stream",
     "text": [
      "Downloading...\n",
      "From (original): https://drive.google.com/uc?id=16-fTRjDeMr_3KYivyx17S3Y-wUYrvZer\n",
      "From (redirected): https://drive.google.com/uc?id=16-fTRjDeMr_3KYivyx17S3Y-wUYrvZer&confirm=t&uuid=28aa7cc4-5a1c-49bd-ae7f-61ac0dae50b3\n",
      "To: /workspace/tubes_icikiwir/data.zip\n",
      "100%|██████████████████████████████████████| 2.46G/2.46G [00:48<00:00, 51.0MB/s]\n"
     ]
    }
   ],
   "source": [
    "!gdown 16-fTRjDeMr_3KYivyx17S3Y-wUYrvZer"
   ]
  },
  {
   "cell_type": "markdown",
   "metadata": {
    "id": "sizL6vN1KJ2K"
   },
   "source": [
    "### Mendefinisikan root folder"
   ]
  },
  {
   "cell_type": "code",
   "execution_count": 6,
   "metadata": {
    "id": "5g8zWHLdKJ2O"
   },
   "outputs": [],
   "source": [
    "root_folder = '.'"
   ]
  },
  {
   "cell_type": "markdown",
   "metadata": {
    "id": "iAvKnLiOKJ2P"
   },
   "source": [
    "### Memuat zip dan mengekstraknya"
   ]
  },
  {
   "cell_type": "code",
   "execution_count": 7,
   "metadata": {
    "id": "13IuY_7uKJ2Q"
   },
   "outputs": [],
   "source": [
    "zip_file_path = root_folder + '/data.zip'\n",
    "folder_path = root_folder + '/Dataset'\n",
    "# Extract the zip file to the specified folder\n",
    "with zipfile.ZipFile(zip_file_path, 'r') as zip_ref:\n",
    "    zip_ref.extractall(folder_path)"
   ]
  },
  {
   "cell_type": "code",
   "execution_count": 8,
   "metadata": {
    "id": "2Spp8wohKJ2R"
   },
   "outputs": [],
   "source": [
    "input_folder_path = root_folder + \"/Dataset/chest_xray/chest_xray\""
   ]
  },
  {
   "cell_type": "code",
   "execution_count": 9,
   "metadata": {
    "id": "fBQEAA5bKJ2S"
   },
   "outputs": [],
   "source": [
    "# Define the classes in your dataset\n",
    "classes = [\"NORMAL\", \"PNEUMONIA\"]"
   ]
  },
  {
   "cell_type": "code",
   "execution_count": 10,
   "metadata": {
    "id": "eOnHNtOAKJ2T"
   },
   "outputs": [],
   "source": [
    "# Create dictionary to store the file paths from class names\n",
    "file_paths = {class_name: [] for class_name in classes}"
   ]
  },
  {
   "cell_type": "code",
   "execution_count": 11,
   "metadata": {
    "id": "LbP6yvnSKJ2U"
   },
   "outputs": [],
   "source": [
    "# Loop through the train, test, and val folders\n",
    "for split in [\"train\", \"test\", \"val\"]:\n",
    "    split_folder_path = os.path.join(input_folder_path, split)\n",
    "\n",
    "    # Loop through the NORMAL and PNEUMONIA folders in each split folder\n",
    "    for class_name in file_paths.keys():\n",
    "        class_folder_path = os.path.join(split_folder_path, class_name)\n",
    "\n",
    "        # Loop through the image files in each class folder and copy them to the output folder\n",
    "        for file_name in os.listdir(class_folder_path):\n",
    "            if file_name.endswith(\".jpeg\"):\n",
    "                src_path = os.path.join(class_folder_path, file_name)\n",
    "\n",
    "                # Append the file path to the dictionary\n",
    "                file_paths[class_name].append(src_path)"
   ]
  },
  {
   "cell_type": "code",
   "execution_count": 12,
   "metadata": {
    "colab": {
     "base_uri": "https://localhost:8080/"
    },
    "id": "r99aQrJJKJ2W",
    "outputId": "0319219f-76da-45e9-a154-51c946894a88"
   },
   "outputs": [
    {
     "name": "stdout",
     "output_type": "stream",
     "text": [
      "NORMAL: 1583\n",
      "PNEUMONIA: 4273\n"
     ]
    }
   ],
   "source": [
    "# Display the number of images in each class in tablular format\n",
    "for class_name, paths in file_paths.items():\n",
    "    print(f\"{class_name}: {len(paths)}\")"
   ]
  },
  {
   "cell_type": "markdown",
   "metadata": {
    "id": "Sv2FTmPFKJ2X"
   },
   "source": [
    "### Membagi data"
   ]
  },
  {
   "cell_type": "code",
   "execution_count": 13,
   "metadata": {
    "id": "8HZ2zWczKJ2Y"
   },
   "outputs": [],
   "source": [
    "# Set the train/validation/test split ratios\n",
    "train_ratio = 0.6\n",
    "val_ratio = 0.2\n",
    "test_ratio = 0.2"
   ]
  },
  {
   "cell_type": "code",
   "execution_count": 14,
   "metadata": {
    "id": "6jSjcGoEKJ2Z"
   },
   "outputs": [],
   "source": [
    "# Define the output folder path\n",
    "output_folder_path = root_folder + \"/SplittedData\""
   ]
  },
  {
   "cell_type": "code",
   "execution_count": 15,
   "metadata": {
    "id": "aZmFyj2PKJ2Z"
   },
   "outputs": [],
   "source": [
    "# Remove the output folder if it already exists\n",
    "if os.path.exists(output_folder_path):\n",
    "    shutil.rmtree(output_folder_path)"
   ]
  },
  {
   "cell_type": "code",
   "execution_count": 16,
   "metadata": {
    "id": "Y6ygiSZxKJ2a"
   },
   "outputs": [],
   "source": [
    "# Create the output directories\n",
    "for split in [\"train\", \"val\", \"test\"]:\n",
    "    for class_name in classes:\n",
    "        split_folder_path = os.path.join(output_folder_path, split, class_name)\n",
    "        os.makedirs(split_folder_path, exist_ok=True)"
   ]
  },
  {
   "cell_type": "code",
   "execution_count": 17,
   "metadata": {
    "id": "W1TT3wEIKJ2a"
   },
   "outputs": [],
   "source": [
    "# Shuffle the lists to randomize the order\n",
    "import random\n",
    "for class_name, paths in file_paths.items():\n",
    "    random.shuffle(paths)"
   ]
  },
  {
   "cell_type": "code",
   "execution_count": 18,
   "metadata": {
    "id": "LoR0OpGYKJ2a"
   },
   "outputs": [],
   "source": [
    "# Calculate the number of images for each split\n",
    "num_of_images_per_split = {class_name: {\"all\": 0, \"train\": 0, \"val\": 0, \"test\": 0, \"reminders\": 0} for class_name in classes}\n",
    "\n",
    "from math import ceil, floor\n",
    "\n",
    "# add the number of images for each class\n",
    "for class_name, paths in file_paths.items():\n",
    "    num_of_images = len(paths)\n",
    "    num_of_images_per_split[class_name][\"all\"] = num_of_images\n",
    "    num_of_images_per_split[class_name][\"train\"] = round(num_of_images * train_ratio)\n",
    "    num_of_images_per_split[class_name][\"val\"] = round(num_of_images * val_ratio)\n",
    "    num_of_images_per_split[class_name][\"test\"] = num_of_images - num_of_images_per_split[class_name][\"train\"] - num_of_images_per_split[class_name][\"val\"]\n",
    "    num_of_images_per_split[class_name][\"reminders\"] = num_of_images - num_of_images_per_split[class_name][\"train\"] - num_of_images_per_split[class_name][\"val\"] - num_of_images_per_split[class_name][\"test\"]"
   ]
  },
  {
   "cell_type": "code",
   "execution_count": 19,
   "metadata": {
    "colab": {
     "base_uri": "https://localhost:8080/"
    },
    "id": "6gcLiVvuKJ2b",
    "outputId": "217a99fd-96dd-41ff-b68a-b5758601463d"
   },
   "outputs": [
    {
     "name": "stdout",
     "output_type": "stream",
     "text": [
      "NORMAL: {'all': 1583, 'train': 950, 'val': 317, 'test': 316, 'reminders': 0}\n",
      "PNEUMONIA: {'all': 4273, 'train': 2564, 'val': 855, 'test': 854, 'reminders': 0}\n"
     ]
    }
   ],
   "source": [
    "# Display the number of images for each split\n",
    "for class_name, splits in num_of_images_per_split.items():\n",
    "    print(f\"{class_name}: {splits}\")"
   ]
  },
  {
   "cell_type": "code",
   "execution_count": 20,
   "metadata": {
    "colab": {
     "base_uri": "https://localhost:8080/"
    },
    "id": "PnSS5ROUKJ2s",
    "outputId": "3fffadff-4a0c-44bc-8b75-a9fb3f493fef"
   },
   "outputs": [
    {
     "name": "stdout",
     "output_type": "stream",
     "text": [
      "train: 3514\n",
      "val: 1172\n",
      "test: 1170\n"
     ]
    }
   ],
   "source": [
    "# Display the number of images for train, val, and test splits\n",
    "for split in [\"train\", \"val\", \"test\"]:\n",
    "    print(f\"{split}: {sum([splits[split] for splits in num_of_images_per_split.values()])}\")"
   ]
  },
  {
   "cell_type": "code",
   "execution_count": 21,
   "metadata": {
    "id": "MWWbl9bLKJ2t"
   },
   "outputs": [],
   "source": [
    "import os\n",
    "import shutil\n",
    "\n",
    "# Iterate through each class and its associated file paths\n",
    "for class_name, paths in file_paths.items():\n",
    "    # Get the number of images for each split\n",
    "    num_of_images = len(paths)\n",
    "    num_train = num_of_images_per_split[class_name][\"train\"]\n",
    "    num_val = num_of_images_per_split[class_name][\"val\"]\n",
    "    num_test = num_of_images_per_split[class_name][\"test\"]\n",
    "\n",
    "    # Split the images into train, val, and test sets\n",
    "    train_paths = paths[:num_train]\n",
    "    val_paths = paths[num_train:num_train + num_val]\n",
    "    test_paths = paths[num_train + num_val:]\n",
    "\n",
    "    # Copy the images to the respective split folders\n",
    "    for src_path in train_paths:\n",
    "        file_name = os.path.basename(src_path)\n",
    "        dst_path = os.path.join(output_folder_path, \"train\", class_name, file_name)\n",
    "\n",
    "        # Ensure the destination directory exists\n",
    "        os.makedirs(os.path.dirname(dst_path), exist_ok=True)\n",
    "\n",
    "        # Copy the file\n",
    "        shutil.copyfile(src_path, dst_path)\n",
    "\n",
    "    for src_path in val_paths:\n",
    "        file_name = os.path.basename(src_path)\n",
    "        dst_path = os.path.join(output_folder_path, \"val\", class_name, file_name)\n",
    "\n",
    "        # Ensure the destination directory exists\n",
    "        os.makedirs(os.path.dirname(dst_path), exist_ok=True)\n",
    "\n",
    "        # Copy the file\n",
    "        shutil.copyfile(src_path, dst_path)\n",
    "\n",
    "    for src_path in test_paths:\n",
    "        file_name = os.path.basename(src_path)\n",
    "        dst_path = os.path.join(output_folder_path, \"test\", class_name, file_name)\n",
    "\n",
    "        # Ensure the destination directory exists\n",
    "        os.makedirs(os.path.dirname(dst_path), exist_ok=True)\n",
    "\n",
    "        # Copy the file\n",
    "        shutil.copyfile(src_path, dst_path)\n"
   ]
  },
  {
   "cell_type": "code",
   "execution_count": 22,
   "metadata": {
    "id": "VTGwUXx0KJ2u"
   },
   "outputs": [],
   "source": [
    "# Define paths to your dataset\n",
    "train_dir = output_folder_path + '/train'\n",
    "val_dir = output_folder_path + '/val'\n",
    "test_dir = output_folder_path + '/test'"
   ]
  },
  {
   "cell_type": "markdown",
   "metadata": {
    "id": "mjZ1VkgNKJ2v"
   },
   "source": [
    "# Tanpa Augmentasi"
   ]
  },
  {
   "cell_type": "code",
   "execution_count": 37,
   "metadata": {
    "id": "AfzpNMltKJ2v"
   },
   "outputs": [],
   "source": [
    "# Function to create datasets\n",
    "def create_datasets(train_dir, val_dir, test_dir, img_size=(260, 260)):\n",
    "    train_dataset = tf.keras.preprocessing.image_dataset_from_directory(\n",
    "        train_dir,\n",
    "        labels='inferred',\n",
    "        label_mode='int',\n",
    "        image_size=img_size,\n",
    "        shuffle=True,\n",
    "        seed=123\n",
    "    )\n",
    "\n",
    "    val_dataset = tf.keras.preprocessing.image_dataset_from_directory(\n",
    "        val_dir,\n",
    "        labels='inferred',\n",
    "        label_mode='int',\n",
    "        image_size=img_size,\n",
    "        shuffle=False,\n",
    "        seed=123\n",
    "    )\n",
    "\n",
    "    test_dataset = tf.keras.preprocessing.image_dataset_from_directory(\n",
    "        test_dir,\n",
    "        labels='inferred',\n",
    "        label_mode='int',\n",
    "        image_size=img_size,\n",
    "        shuffle=False  # Don't shuffle the test data\n",
    "    )\n",
    "\n",
    "    return train_dataset, val_dataset, test_dataset"
   ]
  },
  {
   "cell_type": "code",
   "execution_count": 38,
   "metadata": {
    "id": "Nzi1VUQoKJ20"
   },
   "outputs": [],
   "source": [
    "# Function to create the model with added regularization\n",
    "def create_model(input_shape=(260, 260, 3), learning_rate=0.00005):\n",
    "    # Load the base MobileNetV2 model, excluding the top layers\n",
    "    base_model = MobileNetV2(weights='imagenet', include_top=False, input_shape=input_shape)\n",
    "    base_model.trainable = True\n",
    "\n",
    "    # Add custom layers on top of it\n",
    "    x = base_model.output\n",
    "    x = GlobalAveragePooling2D()(x)\n",
    "\n",
    "    # First Dense layer with BatchNormalization and Dropout\n",
    "    x = Dense(256, activation='relu', kernel_regularizer=l2(0.001))(x)\n",
    "    x = Dropout(0.25)(x)\n",
    "\n",
    "    # Second Dense layer with BatchNormalization and Dropout\n",
    "    x = Dense(512, activation='relu', kernel_regularizer=l2(0.001))(x)\n",
    "    x = Dropout(0.25)(x)\n",
    "\n",
    "    # Output layer for binary classification\n",
    "    predictions = Dense(1, activation='sigmoid')(x)\n",
    "\n",
    "    # Create the model\n",
    "    model = Model(inputs=base_model.input, outputs=predictions)\n",
    "\n",
    "    # Unfreeze all layers in the base model for fine-tuning\n",
    "\n",
    "    # Compile the model with an appropriate optimizer and loss function\n",
    "    model.compile(optimizer=Adam(learning_rate=learning_rate),\n",
    "                  loss='binary_crossentropy',\n",
    "                  metrics=['accuracy', Recall(), Precision()])\n",
    "\n",
    "    return model"
   ]
  },
  {
   "cell_type": "code",
   "execution_count": 40,
   "metadata": {
    "id": "Me3j8igzKJ21"
   },
   "outputs": [],
   "source": [
    "# Function to train the model\n",
    "def train_model(model, train_dataset, val_dataset, epochs=50):\n",
    "    # Define callbacks\n",
    "    reduce_lr = ReduceLROnPlateau(monitor='val_loss', factor=0.2, patience=3, min_lr=1e-6)\n",
    "    early_stopping = EarlyStopping(monitor='val_loss', patience=5, restore_best_weights=True)  # Aggressive patience\n",
    "\n",
    "    # Train the model\n",
    "    history = model.fit(\n",
    "        train_dataset,\n",
    "        epochs=epochs,\n",
    "        validation_data=val_dataset,\n",
    "        callbacks=[reduce_lr, early_stopping]\n",
    "    )\n",
    "\n",
    "    return history"
   ]
  },
  {
   "cell_type": "code",
   "execution_count": 41,
   "metadata": {
    "id": "Xo7NQsYhKJ22"
   },
   "outputs": [],
   "source": [
    "# Main function to run the training\n",
    "def main(train_dir, val_dir, test_dir):\n",
    "    # Create datasets\n",
    "    train_dataset, val_dataset, test_dataset = create_datasets(train_dir, val_dir, test_dir)\n",
    "\n",
    "    # Create the model\n",
    "    model = create_model()\n",
    "\n",
    "    # Train the model\n",
    "    history = train_model(model, train_dataset, val_dataset)\n",
    "\n",
    "    # Return the trained model and history\n",
    "    return model, history, test_dataset"
   ]
  },
  {
   "cell_type": "code",
   "execution_count": 42,
   "metadata": {
    "colab": {
     "base_uri": "https://localhost:8080/"
    },
    "id": "-dzN11LyKJ22",
    "outputId": "c331bd52-d5e0-4934-e81f-9a7dbcdb7c7c"
   },
   "outputs": [
    {
     "name": "stdout",
     "output_type": "stream",
     "text": [
      "Found 3514 files belonging to 2 classes.\n",
      "Found 1172 files belonging to 2 classes.\n",
      "Found 1170 files belonging to 2 classes.\n",
      "WARNING:tensorflow:`input_shape` is undefined or non-square, or `rows` is not in [96, 128, 160, 192, 224]. Weights for input shape (224, 224) will be loaded as the default.\n",
      "Epoch 1/50\n",
      "110/110 [==============================] - 24s 60ms/step - loss: 0.9861 - accuracy: 0.9041 - val_loss: 1.3138 - val_accuracy: 0.7295 - lr: 5.0000e-05\n",
      "Epoch 2/50\n",
      "110/110 [==============================] - 7s 58ms/step - loss: 0.8066 - accuracy: 0.9727 - val_loss: 1.0822 - val_accuracy: 0.8191 - lr: 5.0000e-05\n",
      "Epoch 3/50\n",
      "110/110 [==============================] - 7s 60ms/step - loss: 0.7285 - accuracy: 0.9849 - val_loss: 0.8518 - val_accuracy: 0.9309 - lr: 5.0000e-05\n",
      "Epoch 4/50\n",
      "110/110 [==============================] - 7s 60ms/step - loss: 0.6699 - accuracy: 0.9963 - val_loss: 0.7690 - val_accuracy: 0.9488 - lr: 5.0000e-05\n",
      "Epoch 5/50\n",
      "110/110 [==============================] - 7s 61ms/step - loss: 0.6301 - accuracy: 0.9969 - val_loss: 0.7273 - val_accuracy: 0.9480 - lr: 5.0000e-05\n",
      "Epoch 6/50\n",
      "110/110 [==============================] - 7s 62ms/step - loss: 0.6017 - accuracy: 0.9954 - val_loss: 0.6968 - val_accuracy: 0.9531 - lr: 5.0000e-05\n",
      "Epoch 7/50\n",
      "110/110 [==============================] - 7s 61ms/step - loss: 0.5637 - accuracy: 0.9960 - val_loss: 0.6963 - val_accuracy: 0.9531 - lr: 5.0000e-05\n",
      "Epoch 8/50\n",
      "110/110 [==============================] - 7s 61ms/step - loss: 0.5258 - accuracy: 0.9989 - val_loss: 0.6198 - val_accuracy: 0.9625 - lr: 5.0000e-05\n",
      "Epoch 9/50\n",
      "110/110 [==============================] - 7s 60ms/step - loss: 0.4962 - accuracy: 0.9983 - val_loss: 0.5746 - val_accuracy: 0.9727 - lr: 5.0000e-05\n",
      "Epoch 10/50\n",
      "110/110 [==============================] - 7s 60ms/step - loss: 0.4700 - accuracy: 0.9960 - val_loss: 0.5592 - val_accuracy: 0.9667 - lr: 5.0000e-05\n",
      "Epoch 11/50\n",
      "110/110 [==============================] - 7s 60ms/step - loss: 0.4409 - accuracy: 0.9969 - val_loss: 0.5214 - val_accuracy: 0.9718 - lr: 5.0000e-05\n",
      "Epoch 12/50\n",
      "110/110 [==============================] - 7s 60ms/step - loss: 0.4091 - accuracy: 0.9989 - val_loss: 0.5279 - val_accuracy: 0.9659 - lr: 5.0000e-05\n",
      "Epoch 13/50\n",
      "110/110 [==============================] - 7s 59ms/step - loss: 0.3817 - accuracy: 0.9997 - val_loss: 0.4903 - val_accuracy: 0.9684 - lr: 5.0000e-05\n",
      "Epoch 14/50\n",
      "110/110 [==============================] - 7s 61ms/step - loss: 0.3601 - accuracy: 0.9983 - val_loss: 0.4750 - val_accuracy: 0.9701 - lr: 5.0000e-05\n",
      "Epoch 15/50\n",
      "110/110 [==============================] - 7s 59ms/step - loss: 0.3346 - accuracy: 0.9997 - val_loss: 0.4387 - val_accuracy: 0.9761 - lr: 5.0000e-05\n",
      "Epoch 16/50\n",
      "110/110 [==============================] - 7s 61ms/step - loss: 0.3154 - accuracy: 0.9986 - val_loss: 0.4330 - val_accuracy: 0.9701 - lr: 5.0000e-05\n",
      "Epoch 17/50\n",
      "110/110 [==============================] - 6s 58ms/step - loss: 0.2936 - accuracy: 0.9986 - val_loss: 0.4148 - val_accuracy: 0.9667 - lr: 5.0000e-05\n",
      "Epoch 18/50\n",
      "110/110 [==============================] - 7s 58ms/step - loss: 0.2742 - accuracy: 0.9989 - val_loss: 0.5034 - val_accuracy: 0.9488 - lr: 5.0000e-05\n",
      "Epoch 19/50\n",
      "110/110 [==============================] - 6s 54ms/step - loss: 0.2554 - accuracy: 0.9989 - val_loss: 0.5164 - val_accuracy: 0.9556 - lr: 5.0000e-05\n",
      "Epoch 20/50\n",
      "110/110 [==============================] - 7s 60ms/step - loss: 0.2364 - accuracy: 1.0000 - val_loss: 0.4046 - val_accuracy: 0.9650 - lr: 5.0000e-05\n",
      "Epoch 21/50\n",
      "110/110 [==============================] - 6s 58ms/step - loss: 0.2225 - accuracy: 0.9989 - val_loss: 0.4578 - val_accuracy: 0.9573 - lr: 5.0000e-05\n",
      "Epoch 22/50\n",
      "110/110 [==============================] - 7s 58ms/step - loss: 0.2055 - accuracy: 0.9997 - val_loss: 0.4854 - val_accuracy: 0.9471 - lr: 5.0000e-05\n",
      "Epoch 23/50\n",
      "110/110 [==============================] - 6s 58ms/step - loss: 0.1924 - accuracy: 0.9991 - val_loss: 0.3981 - val_accuracy: 0.9616 - lr: 5.0000e-05\n",
      "Epoch 24/50\n",
      "110/110 [==============================] - 6s 58ms/step - loss: 0.1819 - accuracy: 0.9983 - val_loss: 0.3829 - val_accuracy: 0.9565 - lr: 5.0000e-05\n",
      "Epoch 25/50\n",
      "110/110 [==============================] - 6s 56ms/step - loss: 0.1650 - accuracy: 1.0000 - val_loss: 0.3729 - val_accuracy: 0.9616 - lr: 5.0000e-05\n",
      "Epoch 26/50\n",
      "110/110 [==============================] - 6s 55ms/step - loss: 0.1577 - accuracy: 0.9986 - val_loss: 0.3239 - val_accuracy: 0.9616 - lr: 5.0000e-05\n",
      "Epoch 27/50\n",
      "110/110 [==============================] - 7s 64ms/step - loss: 0.1453 - accuracy: 0.9986 - val_loss: 0.2766 - val_accuracy: 0.9667 - lr: 5.0000e-05\n",
      "Epoch 28/50\n",
      "110/110 [==============================] - 7s 59ms/step - loss: 0.1385 - accuracy: 0.9969 - val_loss: 0.2327 - val_accuracy: 0.9744 - lr: 5.0000e-05\n",
      "Epoch 29/50\n",
      "110/110 [==============================] - 7s 60ms/step - loss: 0.1249 - accuracy: 0.9994 - val_loss: 0.2520 - val_accuracy: 0.9735 - lr: 5.0000e-05\n",
      "Epoch 30/50\n",
      "110/110 [==============================] - 7s 61ms/step - loss: 0.1155 - accuracy: 1.0000 - val_loss: 0.2242 - val_accuracy: 0.9761 - lr: 5.0000e-05\n",
      "Epoch 31/50\n",
      "110/110 [==============================] - 7s 61ms/step - loss: 0.1070 - accuracy: 1.0000 - val_loss: 0.2193 - val_accuracy: 0.9770 - lr: 5.0000e-05\n",
      "Epoch 32/50\n",
      "110/110 [==============================] - 6s 58ms/step - loss: 0.0991 - accuracy: 1.0000 - val_loss: 0.2090 - val_accuracy: 0.9787 - lr: 5.0000e-05\n",
      "Epoch 33/50\n",
      "110/110 [==============================] - 7s 61ms/step - loss: 0.0919 - accuracy: 1.0000 - val_loss: 0.2001 - val_accuracy: 0.9795 - lr: 5.0000e-05\n",
      "Epoch 34/50\n",
      "110/110 [==============================] - 7s 60ms/step - loss: 0.0849 - accuracy: 1.0000 - val_loss: 0.1911 - val_accuracy: 0.9778 - lr: 5.0000e-05\n",
      "Epoch 35/50\n",
      "110/110 [==============================] - 7s 63ms/step - loss: 0.0783 - accuracy: 1.0000 - val_loss: 0.1869 - val_accuracy: 0.9753 - lr: 5.0000e-05\n",
      "Epoch 36/50\n",
      "110/110 [==============================] - 7s 58ms/step - loss: 0.0720 - accuracy: 1.0000 - val_loss: 0.1841 - val_accuracy: 0.9744 - lr: 5.0000e-05\n",
      "Epoch 37/50\n",
      "110/110 [==============================] - 7s 59ms/step - loss: 0.0662 - accuracy: 1.0000 - val_loss: 0.1736 - val_accuracy: 0.9770 - lr: 5.0000e-05\n",
      "Epoch 38/50\n",
      "110/110 [==============================] - 6s 58ms/step - loss: 0.0607 - accuracy: 1.0000 - val_loss: 0.1663 - val_accuracy: 0.9761 - lr: 5.0000e-05\n",
      "Epoch 39/50\n",
      "110/110 [==============================] - 7s 60ms/step - loss: 0.0554 - accuracy: 1.0000 - val_loss: 0.1573 - val_accuracy: 0.9770 - lr: 5.0000e-05\n",
      "Epoch 40/50\n",
      "110/110 [==============================] - 7s 59ms/step - loss: 0.0523 - accuracy: 0.9991 - val_loss: 0.1719 - val_accuracy: 0.9735 - lr: 5.0000e-05\n",
      "Epoch 41/50\n",
      "110/110 [==============================] - 7s 61ms/step - loss: 0.0501 - accuracy: 0.9983 - val_loss: 0.4165 - val_accuracy: 0.9249 - lr: 5.0000e-05\n",
      "Epoch 42/50\n",
      "110/110 [==============================] - 7s 63ms/step - loss: 0.0438 - accuracy: 1.0000 - val_loss: 0.2183 - val_accuracy: 0.9650 - lr: 5.0000e-05\n",
      "Epoch 43/50\n",
      "110/110 [==============================] - 7s 63ms/step - loss: 0.0413 - accuracy: 1.0000 - val_loss: 0.1981 - val_accuracy: 0.9650 - lr: 1.0000e-05\n",
      "Epoch 44/50\n",
      "110/110 [==============================] - 6s 58ms/step - loss: 0.0411 - accuracy: 0.9994 - val_loss: 0.1858 - val_accuracy: 0.9701 - lr: 1.0000e-05\n"
     ]
    }
   ],
   "source": [
    "# Run the training process\n",
    "model, history, test_dataset = main(train_dir, val_dir, test_dir)"
   ]
  },
  {
   "cell_type": "code",
   "execution_count": 43,
   "metadata": {
    "colab": {
     "base_uri": "https://localhost:8080/",
     "height": 1000
    },
    "id": "51tjzuYWKJ23",
    "outputId": "5b9ee1fe-25f5-4f73-f809-1dadb797e778"
   },
   "outputs": [
    {
     "data": {
      "image/png": "[encoded data removed]",
      "text/plain": [
       "<Figure size 800x600 with 1 Axes>"
      ]
     },
     "metadata": {},
     "output_type": "display_data"
    },
    {
     "data": {
      "image/png": "[encoded data removed]",
      "text/plain": [
       "<Figure size 800x600 with 1 Axes>"
      ]
     },
     "metadata": {},
     "output_type": "display_data"
    }
   ],
   "source": [
    "# Plotting training & validation accuracy values\n",
    "plt.figure(figsize=(8, 6))\n",
    "plt.plot(history.history['accuracy'])\n",
    "plt.plot(history.history['val_accuracy'])\n",
    "plt.title('Model accuracy')\n",
    "plt.ylabel('Accuracy')\n",
    "plt.xlabel('Epoch')\n",
    "plt.legend(['Train', 'Validation'], loc='upper left')\n",
    "plt.show()\n",
    "\n",
    "# Plotting training & validation loss values\n",
    "plt.figure(figsize=(8, 6))\n",
    "plt.plot(history.history['loss'])\n",
    "plt.plot(history.history['val_loss'])\n",
    "plt.title('Model loss')\n",
    "plt.ylabel('Loss')\n",
    "plt.xlabel('Epoch')\n",
    "plt.legend(['Train', 'Validation'], loc='upper left')\n",
    "plt.show()"
   ]
  },
  {
   "cell_type": "code",
   "execution_count": 44,
   "metadata": {
    "colab": {
     "base_uri": "https://localhost:8080/",
     "height": 1000
    },
    "id": "ssAhulPCKJ24",
    "outputId": "281c4a9e-e01d-409f-b37c-f9dd0b540ca6"
   },
   "outputs": [
    {
     "name": "stdout",
     "output_type": "stream",
     "text": [
      "37/37 [==============================] - 1s 23ms/step - loss: 0.1399 - accuracy: 0.9812\n",
      "Test Accuracy: 0.9812\n",
      "1/1 [==============================] - 1s 574ms/step\n",
      "1/1 [==============================] - 0s 28ms/step\n",
      "1/1 [==============================] - 0s 30ms/step\n",
      "1/1 [==============================] - 0s 27ms/step\n",
      "1/1 [==============================] - 0s 30ms/step\n",
      "1/1 [==============================] - 0s 26ms/step\n",
      "1/1 [==============================] - 0s 27ms/step\n",
      "1/1 [==============================] - 0s 26ms/step\n",
      "1/1 [==============================] - 0s 27ms/step\n",
      "1/1 [==============================] - 0s 26ms/step\n",
      "1/1 [==============================] - 0s 28ms/step\n",
      "1/1 [==============================] - 0s 26ms/step\n",
      "1/1 [==============================] - 0s 26ms/step\n",
      "1/1 [==============================] - 0s 26ms/step\n",
      "1/1 [==============================] - 0s 26ms/step\n",
      "1/1 [==============================] - 0s 27ms/step\n",
      "1/1 [==============================] - 0s 32ms/step\n",
      "1/1 [==============================] - 0s 25ms/step\n",
      "1/1 [==============================] - 0s 27ms/step\n",
      "1/1 [==============================] - 0s 26ms/step\n",
      "1/1 [==============================] - 0s 26ms/step\n",
      "1/1 [==============================] - 0s 27ms/step\n",
      "1/1 [==============================] - 0s 32ms/step\n",
      "1/1 [==============================] - 0s 28ms/step\n",
      "1/1 [==============================] - 0s 27ms/step\n",
      "1/1 [==============================] - 0s 27ms/step\n",
      "1/1 [==============================] - 0s 33ms/step\n",
      "1/1 [==============================] - 0s 27ms/step\n",
      "1/1 [==============================] - 0s 30ms/step\n",
      "1/1 [==============================] - 0s 41ms/step\n",
      "1/1 [==============================] - 0s 25ms/step\n",
      "1/1 [==============================] - 0s 25ms/step\n",
      "1/1 [==============================] - 0s 25ms/step\n",
      "1/1 [==============================] - 0s 24ms/step\n",
      "1/1 [==============================] - 0s 26ms/step\n",
      "1/1 [==============================] - 0s 25ms/step\n",
      "1/1 [==============================] - 1s 644ms/step\n",
      "Confusion Matrix\n"
     ]
    },
    {
     "data": {
      "image/png": "[encoded data removed]",
      "text/plain": [
       "<Figure size 640x480 with 2 Axes>"
      ]
     },
     "metadata": {},
     "output_type": "display_data"
    },
    {
     "name": "stdout",
     "output_type": "stream",
     "text": [
      "              precision    recall  f1-score   support\n",
      "\n",
      "      NORMAL       0.96      0.97      0.97       316\n",
      "   PNEUMONIA       0.99      0.98      0.99       854\n",
      "\n",
      "    accuracy                           0.98      1170\n",
      "   macro avg       0.97      0.98      0.98      1170\n",
      "weighted avg       0.98      0.98      0.98      1170\n",
      "\n",
      "Test F1 Score: 0.9871\n"
     ]
    }
   ],
   "source": [
    "# Evaluate the model on the test set\n",
    "test_loss, test_accuracy = model.evaluate(test_dataset)\n",
    "print(f'Test Accuracy: {test_accuracy:.4f}')\n",
    "\n",
    "# Predict the test dataset\n",
    "y_pred = []\n",
    "y_true = []\n",
    "\n",
    "class_names = ['NORMAL', 'PNEUMONIA']  # Assuming 0 is 'NORMAL' and 1 is 'PNEUMONIA'\n",
    "\n",
    "for images, labels in test_dataset:\n",
    "    y_true.extend(labels.numpy())\n",
    "    predictions = model.predict(images)\n",
    "    y_pred.extend(predictions)\n",
    "\n",
    "# Convert predictions and true labels to numpy arrays\n",
    "y_pred = np.array(y_pred)\n",
    "y_true = np.array(y_true)\n",
    "\n",
    "# Convert probabilities to binary outcomes\n",
    "y_pred = (y_pred > 0.5).astype(int)\n",
    "\n",
    "# Confusion Matrix\n",
    "print('Confusion Matrix')\n",
    "cm = confusion_matrix(y_true, y_pred)\n",
    "sns.heatmap(cm, annot=True, fmt='d', cmap='Blues', xticklabels=class_names, yticklabels=class_names)\n",
    "plt.xlabel('Predicted')\n",
    "plt.ylabel('True')\n",
    "plt.show()\n",
    "\n",
    "\n",
    "# Classification report and F1 Score\n",
    "print(classification_report(y_true, y_pred, target_names=class_names))\n",
    "f1 = f1_score(y_true, y_pred)\n",
    "print(f'Test F1 Score: {f1:.4f}')"
   ]
  },
  {
   "cell_type": "markdown",
   "metadata": {
    "id": "UirFYEOwKJ25"
   },
   "source": [
    "# Augmentasi"
   ]
  },
  {
   "cell_type": "code",
   "execution_count": 45,
   "metadata": {
    "id": "MkTNS0_BKJ25"
   },
   "outputs": [],
   "source": [
    "# Parameters\n",
    "IMG_SIZE = (224, 224)\n",
    "BATCH_SIZE = 32\n",
    "\n",
    "def create_data_generators(train_dir, val_dir, test_dir, img_size=IMG_SIZE):\n",
    "    # Data Augmentation for Training based on the paper\n",
    "    train_datagen = ImageDataGenerator(\n",
    "        rotation_range=20,        # Randomly rotate images by up to 20 degrees\n",
    "        width_shift_range=0.2,    # Shift the image horizontally by 20%\n",
    "        height_shift_range=0.2,   # Shift the image vertically by 20%\n",
    "        shear_range=0.2,          # Shear intensity (similar to cropping)\n",
    "        zoom_range=0.2,           # Random zoom by 20%\n",
    "        horizontal_flip=True,     # Flip images horizontally\n",
    "        vertical_flip=True,       # Flip images vertically\n",
    "        fill_mode='nearest'       # Fill any empty pixels after augmentation\n",
    "    )\n",
    "\n",
    "    # Validation and Test data without augmentation\n",
    "    val_datagen = ImageDataGenerator()  # No rescale\n",
    "    test_datagen = ImageDataGenerator()  # No rescale\n",
    "\n",
    "    # Prepare data generators\n",
    "    train_generator = train_datagen.flow_from_directory(\n",
    "        train_dir,\n",
    "        target_size=img_size,\n",
    "        batch_size=BATCH_SIZE,\n",
    "        class_mode='binary'\n",
    "    )\n",
    "\n",
    "    validation_generator = val_datagen.flow_from_directory(\n",
    "        val_dir,\n",
    "        target_size=img_size,\n",
    "        batch_size=BATCH_SIZE,\n",
    "        class_mode='binary'\n",
    "    )\n",
    "\n",
    "    test_generator = test_datagen.flow_from_directory(\n",
    "        test_dir,\n",
    "        target_size=img_size,\n",
    "        batch_size=BATCH_SIZE,\n",
    "        class_mode='binary',\n",
    "        shuffle=False  # Don't shuffle for testing\n",
    "    )\n",
    "\n",
    "    return train_generator, validation_generator, test_generator\n"
   ]
  },
  {
   "cell_type": "code",
   "execution_count": 46,
   "metadata": {
    "id": "SnjyRMcTKJ26"
   },
   "outputs": [],
   "source": [
    "def create_model(learning_rate=0.00005, units=512):\n",
    "    # Load the base MobileNetV2 model, excluding the top layers\n",
    "    input = tf.keras.layers.Input(shape=(224, 224, 3))\n",
    "    base_model = MobileNetV2(weights='imagenet', include_top=False, input_shape=(224,224,3))\n",
    "    base_model.trainable = True\n",
    "\n",
    "    # Add custom layers on top of it\n",
    "    x = base_model.output\n",
    "    x = GlobalAveragePooling2D()(x)\n",
    "\n",
    "    # First Dense layer with BatchNormalization and Dropout\n",
    "    x = Dense(256, activation='relu', kernel_regularizer=l2(0.001))(x)\n",
    "    x = Dropout(0.25)(x)\n",
    "\n",
    "    # Second Dense layer with BatchNormalization and Dropout\n",
    "    x = Dense(512, activation='relu', kernel_regularizer=l2(0.001))(x)\n",
    "    x = Dropout(0.25)(x)\n",
    "\n",
    "    # Output layer for binary classification\n",
    "    predictions = Dense(1, activation='sigmoid')(x)\n",
    "\n",
    "    # Create the model\n",
    "    model = Model(inputs=base_model.input, outputs=predictions)\n",
    "\n",
    "    # Compile the model with an appropriate optimizer and loss function\n",
    "    model.compile(optimizer=Adam(learning_rate=learning_rate),\n",
    "                  loss='binary_crossentropy',\n",
    "                  metrics=['accuracy', Precision(), Recall()])\n",
    "\n",
    "    return model"
   ]
  },
  {
   "cell_type": "code",
   "execution_count": 48,
   "metadata": {
    "id": "MUovut88KJ26"
   },
   "outputs": [],
   "source": [
    "# Function to train the model\n",
    "def train_model(model, train_generator, validation_generator, epochs=50):\n",
    "    # Define callbacks\n",
    "    reduce_lr = ReduceLROnPlateau(monitor='val_loss', factor=0.2, patience=3, min_lr=1e-6)\n",
    "    early_stopping = EarlyStopping(monitor='val_loss', patience=5, restore_best_weights=True)\n",
    "\n",
    "    # Fit the model\n",
    "    history = model.fit(\n",
    "        train_generator,\n",
    "        # steps_per_epoch=train_generator.samples // train_generator.batch_size,\n",
    "        validation_data=validation_generator,\n",
    "        # validation_steps=validation_generator.samples // validation_generator.batch_size,\n",
    "        epochs=epochs,\n",
    "        callbacks=[reduce_lr, early_stopping]\n",
    "    )\n",
    "\n",
    "    return history"
   ]
  },
  {
   "cell_type": "code",
   "execution_count": 49,
   "metadata": {
    "id": "HLK6XZidKJ27"
   },
   "outputs": [],
   "source": [
    "# Main function to orchestrate the process\n",
    "def main(train_dir, val_dir, test_dir):\n",
    "    # Create data generators\n",
    "    train_generator, validation_generator, test_generator = create_data_generators(train_dir, val_dir, test_dir)\n",
    "\n",
    "    # Create the model\n",
    "    model = create_model()\n",
    "\n",
    "    # Train the model\n",
    "    history = train_model(model, train_generator, validation_generator)\n",
    "\n",
    "    return model, history, test_generator"
   ]
  },
  {
   "cell_type": "code",
   "execution_count": 50,
   "metadata": {
    "colab": {
     "base_uri": "https://localhost:8080/"
    },
    "id": "Zm591VCOKJ27",
    "outputId": "29647113-f2d3-4b99-cabf-f940c5c7cb2b"
   },
   "outputs": [
    {
     "name": "stdout",
     "output_type": "stream",
     "text": [
      "Found 3514 images belonging to 2 classes.\n",
      "Found 1172 images belonging to 2 classes.\n",
      "Found 1170 images belonging to 2 classes.\n",
      "Epoch 1/50\n",
      "110/110 [==============================] - 59s 383ms/step - loss: 1.0725 - accuracy: 0.8571 - precision_1: 0.8894 - recall_1: 0.9185 - val_loss: 1.5310 - val_accuracy: 0.7295 - val_precision_1: 0.7299 - val_recall_1: 0.9988 - lr: 5.0000e-05\n",
      "Epoch 2/50\n",
      "110/110 [==============================] - 42s 385ms/step - loss: 0.9044 - accuracy: 0.9351 - precision_1: 0.9482 - recall_1: 0.9637 - val_loss: 1.8764 - val_accuracy: 0.7295 - val_precision_1: 0.7295 - val_recall_1: 1.0000 - lr: 5.0000e-05\n",
      "Epoch 3/50\n",
      "110/110 [==============================] - 41s 376ms/step - loss: 0.8551 - accuracy: 0.9451 - precision_1: 0.9597 - recall_1: 0.9653 - val_loss: 1.6988 - val_accuracy: 0.7346 - val_precision_1: 0.7333 - val_recall_1: 1.0000 - lr: 5.0000e-05\n",
      "Epoch 4/50\n",
      "110/110 [==============================] - 42s 381ms/step - loss: 0.8076 - accuracy: 0.9556 - precision_1: 0.9674 - recall_1: 0.9719 - val_loss: 0.9698 - val_accuracy: 0.9053 - val_precision_1: 0.8908 - val_recall_1: 0.9918 - lr: 5.0000e-05\n",
      "Epoch 5/50\n",
      "110/110 [==============================] - 42s 383ms/step - loss: 0.7721 - accuracy: 0.9602 - precision_1: 0.9720 - recall_1: 0.9735 - val_loss: 0.8069 - val_accuracy: 0.9488 - val_precision_1: 0.9606 - val_recall_1: 0.9696 - lr: 5.0000e-05\n",
      "Epoch 6/50\n",
      "110/110 [==============================] - 42s 379ms/step - loss: 0.7445 - accuracy: 0.9616 - precision_1: 0.9724 - recall_1: 0.9750 - val_loss: 0.7529 - val_accuracy: 0.9582 - val_precision_1: 0.9697 - val_recall_1: 0.9731 - lr: 5.0000e-05\n",
      "Epoch 7/50\n",
      "110/110 [==============================] - 42s 386ms/step - loss: 0.7206 - accuracy: 0.9607 - precision_1: 0.9705 - recall_1: 0.9758 - val_loss: 0.7927 - val_accuracy: 0.9343 - val_precision_1: 0.9265 - val_recall_1: 0.9883 - lr: 5.0000e-05\n",
      "Epoch 8/50\n",
      "110/110 [==============================] - 42s 381ms/step - loss: 0.6928 - accuracy: 0.9599 - precision_1: 0.9709 - recall_1: 0.9743 - val_loss: 0.7128 - val_accuracy: 0.9590 - val_precision_1: 0.9786 - val_recall_1: 0.9649 - lr: 5.0000e-05\n",
      "Epoch 9/50\n",
      "110/110 [==============================] - 42s 378ms/step - loss: 0.6591 - accuracy: 0.9676 - precision_1: 0.9763 - recall_1: 0.9793 - val_loss: 0.6936 - val_accuracy: 0.9625 - val_precision_1: 0.9743 - val_recall_1: 0.9743 - lr: 5.0000e-05\n",
      "Epoch 10/50\n",
      "110/110 [==============================] - 42s 382ms/step - loss: 0.6264 - accuracy: 0.9715 - precision_1: 0.9771 - recall_1: 0.9840 - val_loss: 0.6628 - val_accuracy: 0.9633 - val_precision_1: 0.9721 - val_recall_1: 0.9778 - lr: 5.0000e-05\n",
      "Epoch 11/50\n",
      "110/110 [==============================] - 42s 384ms/step - loss: 0.6096 - accuracy: 0.9710 - precision_1: 0.9812 - recall_1: 0.9789 - val_loss: 0.6251 - val_accuracy: 0.9659 - val_precision_1: 0.9777 - val_recall_1: 0.9754 - lr: 5.0000e-05\n",
      "Epoch 12/50\n",
      "110/110 [==============================] - 42s 380ms/step - loss: 0.5886 - accuracy: 0.9704 - precision_1: 0.9786 - recall_1: 0.9809 - val_loss: 0.6260 - val_accuracy: 0.9608 - val_precision_1: 0.9891 - val_recall_1: 0.9567 - lr: 5.0000e-05\n",
      "Epoch 13/50\n",
      "110/110 [==============================] - 44s 400ms/step - loss: 0.5647 - accuracy: 0.9735 - precision_1: 0.9809 - recall_1: 0.9828 - val_loss: 0.6001 - val_accuracy: 0.9633 - val_precision_1: 0.9754 - val_recall_1: 0.9743 - lr: 5.0000e-05\n",
      "Epoch 14/50\n",
      "110/110 [==============================] - 41s 377ms/step - loss: 0.5506 - accuracy: 0.9718 - precision_1: 0.9805 - recall_1: 0.9809 - val_loss: 0.5792 - val_accuracy: 0.9667 - val_precision_1: 0.9857 - val_recall_1: 0.9684 - lr: 5.0000e-05\n",
      "Epoch 15/50\n",
      "110/110 [==============================] - 43s 393ms/step - loss: 0.5171 - accuracy: 0.9744 - precision_1: 0.9798 - recall_1: 0.9852 - val_loss: 0.5733 - val_accuracy: 0.9659 - val_precision_1: 0.9788 - val_recall_1: 0.9743 - lr: 5.0000e-05\n",
      "Epoch 16/50\n",
      "110/110 [==============================] - 42s 383ms/step - loss: 0.4958 - accuracy: 0.9761 - precision_1: 0.9829 - recall_1: 0.9844 - val_loss: 0.5197 - val_accuracy: 0.9710 - val_precision_1: 0.9812 - val_recall_1: 0.9789 - lr: 5.0000e-05\n",
      "Epoch 17/50\n",
      "110/110 [==============================] - 43s 396ms/step - loss: 0.4771 - accuracy: 0.9784 - precision_1: 0.9833 - recall_1: 0.9871 - val_loss: 0.5409 - val_accuracy: 0.9625 - val_precision_1: 0.9856 - val_recall_1: 0.9626 - lr: 5.0000e-05\n",
      "Epoch 18/50\n",
      "110/110 [==============================] - 43s 387ms/step - loss: 0.4744 - accuracy: 0.9738 - precision_1: 0.9832 - recall_1: 0.9809 - val_loss: 0.5185 - val_accuracy: 0.9642 - val_precision_1: 0.9903 - val_recall_1: 0.9602 - lr: 5.0000e-05\n",
      "Epoch 19/50\n",
      "110/110 [==============================] - 42s 379ms/step - loss: 0.4586 - accuracy: 0.9750 - precision_1: 0.9825 - recall_1: 0.9832 - val_loss: 0.4616 - val_accuracy: 0.9667 - val_precision_1: 0.9700 - val_recall_1: 0.9848 - lr: 5.0000e-05\n",
      "Epoch 20/50\n",
      "110/110 [==============================] - 44s 397ms/step - loss: 0.4304 - accuracy: 0.9778 - precision_1: 0.9833 - recall_1: 0.9863 - val_loss: 0.4513 - val_accuracy: 0.9693 - val_precision_1: 0.9858 - val_recall_1: 0.9719 - lr: 5.0000e-05\n",
      "Epoch 21/50\n",
      "110/110 [==============================] - 42s 382ms/step - loss: 0.4086 - accuracy: 0.9838 - precision_1: 0.9868 - recall_1: 0.9910 - val_loss: 0.4850 - val_accuracy: 0.9608 - val_precision_1: 0.9891 - val_recall_1: 0.9567 - lr: 5.0000e-05\n",
      "Epoch 22/50\n",
      "110/110 [==============================] - 43s 393ms/step - loss: 0.3901 - accuracy: 0.9841 - precision_1: 0.9876 - recall_1: 0.9906 - val_loss: 0.5384 - val_accuracy: 0.9531 - val_precision_1: 0.9878 - val_recall_1: 0.9474 - lr: 5.0000e-05\n",
      "Epoch 23/50\n",
      "110/110 [==============================] - 42s 377ms/step - loss: 0.3935 - accuracy: 0.9769 - precision_1: 0.9836 - recall_1: 0.9848 - val_loss: 0.4531 - val_accuracy: 0.9625 - val_precision_1: 0.9833 - val_recall_1: 0.9649 - lr: 5.0000e-05\n",
      "Epoch 24/50\n",
      "110/110 [==============================] - 43s 389ms/step - loss: 0.3685 - accuracy: 0.9826 - precision_1: 0.9879 - recall_1: 0.9883 - val_loss: 0.4606 - val_accuracy: 0.9625 - val_precision_1: 0.9845 - val_recall_1: 0.9637 - lr: 1.0000e-05\n",
      "Epoch 25/50\n",
      "110/110 [==============================] - 42s 385ms/step - loss: 0.3697 - accuracy: 0.9818 - precision_1: 0.9864 - recall_1: 0.9887 - val_loss: 0.4649 - val_accuracy: 0.9616 - val_precision_1: 0.9844 - val_recall_1: 0.9626 - lr: 1.0000e-05\n"
     ]
    }
   ],
   "source": [
    "# Run the training process\n",
    "model, history, test_generator = main(train_dir, val_dir, test_dir)"
   ]
  },
  {
   "cell_type": "code",
   "execution_count": 53,
   "metadata": {
    "colab": {
     "base_uri": "https://localhost:8080/",
     "height": 1000
    },
    "id": "i9W_E66gKJ28",
    "outputId": "32636050-e94a-4152-a8c0-1da5803f5765"
   },
   "outputs": [
    {
     "data": {
      "image/png": "[encoded data removed]",
      "text/plain": [
       "<Figure size 800x600 with 1 Axes>"
      ]
     },
     "metadata": {},
     "output_type": "display_data"
    },
    {
     "data": {
      "image/png": "[encoded data removed]",
      "text/plain": [
       "<Figure size 800x600 with 1 Axes>"
      ]
     },
     "metadata": {},
     "output_type": "display_data"
    }
   ],
   "source": [
    "# Plotting training & validation accuracy values\n",
    "plt.figure(figsize=(8, 6))\n",
    "plt.plot(history.history['accuracy'])\n",
    "plt.plot(history.history['val_accuracy'])\n",
    "plt.title('Model accuracy')\n",
    "plt.ylabel('Accuracy')\n",
    "plt.xlabel('Epoch')\n",
    "plt.legend(['Train', 'Validation'], loc='upper left')\n",
    "plt.show()\n",
    "\n",
    "# Plotting training & validation loss values\n",
    "plt.figure(figsize=(8, 6))\n",
    "plt.plot(history.history['loss'])\n",
    "plt.plot(history.history['val_loss'])\n",
    "plt.title('Model loss')\n",
    "plt.ylabel('Loss')\n",
    "plt.xlabel('Epoch')\n",
    "plt.legend(['Train', 'Validation'], loc='upper left')\n",
    "plt.show()"
   ]
  },
  {
   "cell_type": "code",
   "execution_count": 52,
   "metadata": {
    "colab": {
     "base_uri": "https://localhost:8080/",
     "height": 722
    },
    "id": "H4cKFwMvKJ28",
    "outputId": "4b2a5ab2-f67f-4f74-b690-5e3691305dca"
   },
   "outputs": [
    {
     "name": "stdout",
     "output_type": "stream",
     "text": [
      "37/37 [==============================] - 6s 148ms/step - loss: 0.4527 - accuracy: 0.9718 - precision_1: 0.9904 - recall_1: 0.9707\n",
      "Test Accuracy: 0.9718\n",
      "37/37 [==============================] - 6s 142ms/step\n",
      "Confusion Matrix\n"
     ]
    },
    {
     "data": {
      "image/png": "[encoded data removed]",
      "text/plain": [
       "<Figure size 640x480 with 2 Axes>"
      ]
     },
     "metadata": {},
     "output_type": "display_data"
    },
    {
     "name": "stdout",
     "output_type": "stream",
     "text": [
      "              precision    recall  f1-score   support\n",
      "\n",
      "      NORMAL       0.92      0.97      0.95       316\n",
      "   PNEUMONIA       0.99      0.97      0.98       854\n",
      "\n",
      "    accuracy                           0.97      1170\n",
      "   macro avg       0.96      0.97      0.96      1170\n",
      "weighted avg       0.97      0.97      0.97      1170\n",
      "\n",
      "Test F1 Score: 0.9805\n"
     ]
    }
   ],
   "source": [
    "# Evaluate the model on the test set\n",
    "test_loss, test_accuracy, test_precision, test_recall = model.evaluate(test_generator)\n",
    "print(f'Test Accuracy: {test_accuracy:.4f}')\n",
    "\n",
    "# Make sure the generator is reset before making predictions\n",
    "test_generator.reset()\n",
    "y_pred = model.predict(test_generator)\n",
    "y_pred = (y_pred > 0.5).astype(int)\n",
    "\n",
    "# Get true labels\n",
    "y_true = test_generator.classes\n",
    "\n",
    "# Define class names\n",
    "class_names = ['NORMAL', 'PNEUMONIA']  # Assuming 0 is 'NORMAL' and 1 is 'PNEUMONIA'\n",
    "\n",
    "# Confusion Matrix\n",
    "cm = confusion_matrix(y_true, y_pred)\n",
    "print('Confusion Matrix')\n",
    "sns.heatmap(cm, annot=True, fmt='d', cmap='Blues', xticklabels=class_names, yticklabels=class_names)\n",
    "plt.xlabel('Predicted')\n",
    "plt.ylabel('True')\n",
    "plt.title('Confusion Matrix')\n",
    "plt.show()\n",
    "\n",
    "# Classification report and F1 Score\n",
    "print(classification_report(y_true, y_pred, target_names=class_names))\n",
    "f1 = f1_score(y_true, y_pred)\n",
    "print(f'Test F1 Score: {f1:.4f}')"
   ]
  },
  {
   "cell_type": "markdown",
   "metadata": {
    "id": "0FOV51T0KJ29"
   },
   "source": [
    "# Hyperparametertuning (outdated)"
   ]
  },
  {
   "cell_type": "code",
   "execution_count": null,
   "metadata": {
    "id": "VxS50xneKJ2-"
   },
   "outputs": [],
   "source": [
    "def create_model(learning_rate, units):\n",
    "    base_model = MobileNetV2(weights='imagenet', include_top=False, input_shape=(224, 224, 3))\n",
    "    x = base_model.output\n",
    "    x = GlobalAveragePooling2D()(x)\n",
    "    x = Dense(units, activation='relu')(x)\n",
    "    predictions = Dense(1, activation='sigmoid')(x)\n",
    "\n",
    "    model = Model(inputs=base_model.input, outputs=predictions)\n",
    "    model.compile(optimizer=Adam(learning_rate=learning_rate),\n",
    "                  loss='binary_crossentropy',\n",
    "                  metrics=['accuracy'])\n",
    "    return model\n"
   ]
  },
  {
   "cell_type": "code",
   "execution_count": null,
   "metadata": {
    "colab": {
     "background_save": true,
     "base_uri": "https://localhost:8080/"
    },
    "id": "8F-1xNAPKJ3I",
    "outputId": "5f82f220-c42f-4bdf-e8d6-4971a5dd9bc3"
   },
   "outputs": [
    {
     "name": "stdout",
     "output_type": "stream",
     "text": [
      "\n",
      "Training with learning_rate=0.001 and units=256\n",
      "Found 3514 images belonging to 2 classes.\n",
      "Found 1172 images belonging to 2 classes.\n",
      "Epoch 1/10\n"
     ]
    },
    {
     "name": "stderr",
     "output_type": "stream",
     "text": [
      "/usr/local/lib/python3.10/dist-packages/keras/src/trainers/data_adapters/py_dataset_adapter.py:121: UserWarning: Your `PyDataset` class should call `super().__init__(**kwargs)` in its constructor. `**kwargs` can include `workers`, `use_multiprocessing`, `max_queue_size`. Do not pass these arguments to `fit()`, as they will be ignored.\n",
      "  self._warn_if_super_not_called()\n"
     ]
    },
    {
     "name": "stdout",
     "output_type": "stream",
     "text": [
      "\u001b[1m110/110\u001b[0m \u001b[32m━━━━━━━━━━━━━━━━━━━━\u001b[0m\u001b[37m\u001b[0m \u001b[1m128s\u001b[0m 712ms/step - accuracy: 0.8948 - loss: 0.2250 - val_accuracy: 0.6246 - val_loss: 2.1496\n",
      "Epoch 2/10\n",
      "\u001b[1m110/110\u001b[0m \u001b[32m━━━━━━━━━━━━━━━━━━━━\u001b[0m\u001b[37m\u001b[0m \u001b[1m81s\u001b[0m 388ms/step - accuracy: 0.9675 - loss: 0.0884 - val_accuracy: 0.8387 - val_loss: 0.9117\n",
      "Epoch 3/10\n",
      "\u001b[1m110/110\u001b[0m \u001b[32m━━━━━━━━━━━━━━━━━━━━\u001b[0m\u001b[37m\u001b[0m \u001b[1m81s\u001b[0m 382ms/step - accuracy: 0.9733 - loss: 0.0667 - val_accuracy: 0.7935 - val_loss: 1.4040\n",
      "Epoch 4/10\n",
      "\u001b[1m110/110\u001b[0m \u001b[32m━━━━━━━━━━━━━━━━━━━━\u001b[0m\u001b[37m\u001b[0m \u001b[1m83s\u001b[0m 388ms/step - accuracy: 0.9771 - loss: 0.0648 - val_accuracy: 0.2986 - val_loss: 7.3448\n",
      "Epoch 5/10\n",
      "\u001b[1m110/110\u001b[0m \u001b[32m━━━━━━━━━━━━━━━━━━━━\u001b[0m\u001b[37m\u001b[0m \u001b[1m80s\u001b[0m 382ms/step - accuracy: 0.9829 - loss: 0.0511 - val_accuracy: 0.2705 - val_loss: 12.0726\n",
      "\u001b[1m74/74\u001b[0m \u001b[32m━━━━━━━━━━━━━━━━━━━━\u001b[0m\u001b[37m\u001b[0m \u001b[1m11s\u001b[0m 149ms/step - accuracy: 0.8400 - loss: 0.9331\n",
      "Validation accuracy: 0.8387371897697449\n",
      "\n",
      "Training with learning_rate=0.001 and units=512\n",
      "Found 3514 images belonging to 2 classes.\n",
      "Found 1172 images belonging to 2 classes.\n",
      "Epoch 1/10\n",
      "\u001b[1m110/110\u001b[0m \u001b[32m━━━━━━━━━━━━━━━━━━━━\u001b[0m\u001b[37m\u001b[0m \u001b[1m112s\u001b[0m 613ms/step - accuracy: 0.9166 - loss: 0.2174 - val_accuracy: 0.7295 - val_loss: 12.7755\n",
      "Epoch 2/10\n",
      "\u001b[1m110/110\u001b[0m \u001b[32m━━━━━━━━━━━━━━━━━━━━\u001b[0m\u001b[37m\u001b[0m \u001b[1m98s\u001b[0m 382ms/step - accuracy: 0.9661 - loss: 0.1042 - val_accuracy: 0.7295 - val_loss: 5.1161\n",
      "Epoch 3/10\n",
      "\u001b[1m110/110\u001b[0m \u001b[32m━━━━━━━━━━━━━━━━━━━━\u001b[0m\u001b[37m\u001b[0m \u001b[1m44s\u001b[0m 382ms/step - accuracy: 0.9743 - loss: 0.0800 - val_accuracy: 0.9181 - val_loss: 0.3638\n",
      "Epoch 4/10\n",
      "\u001b[1m110/110\u001b[0m \u001b[32m━━━━━━━━━━━━━━━━━━━━\u001b[0m\u001b[37m\u001b[0m \u001b[1m56s\u001b[0m 493ms/step - accuracy: 0.9832 - loss: 0.0518 - val_accuracy: 0.9300 - val_loss: 0.2642\n",
      "Epoch 5/10\n",
      "\u001b[1m110/110\u001b[0m \u001b[32m━━━━━━━━━━━━━━━━━━━━\u001b[0m\u001b[37m\u001b[0m \u001b[1m81s\u001b[0m 483ms/step - accuracy: 0.9851 - loss: 0.0481 - val_accuracy: 0.8106 - val_loss: 1.3812\n",
      "Epoch 6/10\n",
      "\u001b[1m110/110\u001b[0m \u001b[32m━━━━━━━━━━━━━━━━━━━━\u001b[0m\u001b[37m\u001b[0m \u001b[1m73s\u001b[0m 396ms/step - accuracy: 0.9826 - loss: 0.0545 - val_accuracy: 0.9019 - val_loss: 0.4659\n",
      "Epoch 7/10\n",
      "\u001b[1m110/110\u001b[0m \u001b[32m━━━━━━━━━━━━━━━━━━━━\u001b[0m\u001b[37m\u001b[0m \u001b[1m44s\u001b[0m 385ms/step - accuracy: 0.9837 - loss: 0.0385 - val_accuracy: 0.6374 - val_loss: 4.2955\n",
      "\u001b[1m74/74\u001b[0m \u001b[32m━━━━━━━━━━━━━━━━━━━━\u001b[0m\u001b[37m\u001b[0m \u001b[1m11s\u001b[0m 144ms/step - accuracy: 0.9320 - loss: 0.2763\n",
      "Validation accuracy: 0.9300341010093689\n",
      "\n",
      "Training with learning_rate=0.0001 and units=256\n",
      "Found 3514 images belonging to 2 classes.\n",
      "Found 1172 images belonging to 2 classes.\n",
      "Epoch 1/10\n",
      "\u001b[1m110/110\u001b[0m \u001b[32m━━━━━━━━━━━━━━━━━━━━\u001b[0m\u001b[37m\u001b[0m \u001b[1m104s\u001b[0m 575ms/step - accuracy: 0.8944 - loss: 0.2470 - val_accuracy: 0.7295 - val_loss: 1.2664\n",
      "Epoch 2/10\n",
      "\u001b[1m110/110\u001b[0m \u001b[32m━━━━━━━━━━━━━━━━━━━━\u001b[0m\u001b[37m\u001b[0m \u001b[1m45s\u001b[0m 385ms/step - accuracy: 0.9889 - loss: 0.0396 - val_accuracy: 0.7295 - val_loss: 1.3250\n",
      "Epoch 3/10\n",
      "\u001b[1m110/110\u001b[0m \u001b[32m━━━━━━━━━━━━━━━━━━━━\u001b[0m\u001b[37m\u001b[0m \u001b[1m45s\u001b[0m 393ms/step - accuracy: 0.9941 - loss: 0.0180 - val_accuracy: 0.7483 - val_loss: 0.6833\n",
      "Epoch 4/10\n",
      "\u001b[1m110/110\u001b[0m \u001b[32m━━━━━━━━━━━━━━━━━━━━\u001b[0m\u001b[37m\u001b[0m \u001b[1m81s\u001b[0m 383ms/step - accuracy: 0.9951 - loss: 0.0145 - val_accuracy: 0.7329 - val_loss: 1.4797\n",
      "Epoch 5/10\n",
      "\u001b[1m110/110\u001b[0m \u001b[32m━━━━━━━━━━━━━━━━━━━━\u001b[0m\u001b[37m\u001b[0m \u001b[1m43s\u001b[0m 376ms/step - accuracy: 0.9937 - loss: 0.0160 - val_accuracy: 0.7756 - val_loss: 0.9936\n",
      "Epoch 6/10\n",
      "\u001b[1m110/110\u001b[0m \u001b[32m━━━━━━━━━━━━━━━━━━━━\u001b[0m\u001b[37m\u001b[0m \u001b[1m45s\u001b[0m 386ms/step - accuracy: 0.9986 - loss: 0.0047 - val_accuracy: 0.8302 - val_loss: 0.6695\n",
      "Epoch 7/10\n",
      "\u001b[1m110/110\u001b[0m \u001b[32m━━━━━━━━━━━━━━━━━━━━\u001b[0m\u001b[37m\u001b[0m \u001b[1m54s\u001b[0m 474ms/step - accuracy: 0.9968 - loss: 0.0080 - val_accuracy: 0.8908 - val_loss: 0.4868\n",
      "Epoch 8/10\n",
      "\u001b[1m110/110\u001b[0m \u001b[32m━━━━━━━━━━━━━━━━━━━━\u001b[0m\u001b[37m\u001b[0m \u001b[1m44s\u001b[0m 382ms/step - accuracy: 0.9972 - loss: 0.0113 - val_accuracy: 0.8183 - val_loss: 0.9759\n",
      "Epoch 9/10\n",
      "\u001b[1m110/110\u001b[0m \u001b[32m━━━━━━━━━━━━━━━━━━━━\u001b[0m\u001b[37m\u001b[0m \u001b[1m81s\u001b[0m 378ms/step - accuracy: 0.9960 - loss: 0.0147 - val_accuracy: 0.8669 - val_loss: 0.7362\n",
      "Epoch 10/10\n",
      "\u001b[1m110/110\u001b[0m \u001b[32m━━━━━━━━━━━━━━━━━━━━\u001b[0m\u001b[37m\u001b[0m \u001b[1m43s\u001b[0m 378ms/step - accuracy: 0.9993 - loss: 0.0038 - val_accuracy: 0.9087 - val_loss: 0.4872\n",
      "\u001b[1m74/74\u001b[0m \u001b[32m━━━━━━━━━━━━━━━━━━━━\u001b[0m\u001b[37m\u001b[0m \u001b[1m11s\u001b[0m 145ms/step - accuracy: 0.8972 - loss: 0.4342\n",
      "Validation accuracy: 0.8907849788665771\n",
      "\n",
      "Training with learning_rate=0.0001 and units=512\n",
      "Found 3514 images belonging to 2 classes.\n",
      "Found 1172 images belonging to 2 classes.\n",
      "Epoch 1/10\n",
      "\u001b[1m110/110\u001b[0m \u001b[32m━━━━━━━━━━━━━━━━━━━━\u001b[0m\u001b[37m\u001b[0m \u001b[1m107s\u001b[0m 606ms/step - accuracy: 0.8801 - loss: 0.2513 - val_accuracy: 0.8387 - val_loss: 0.3135\n",
      "Epoch 2/10\n",
      "\u001b[1m110/110\u001b[0m \u001b[32m━━━━━━━━━━━━━━━━━━━━\u001b[0m\u001b[37m\u001b[0m \u001b[1m50s\u001b[0m 431ms/step - accuracy: 0.9888 - loss: 0.0450 - val_accuracy: 0.9241 - val_loss: 0.1710\n",
      "Epoch 3/10\n",
      "\u001b[1m110/110\u001b[0m \u001b[32m━━━━━━━━━━━━━━━━━━━━\u001b[0m\u001b[37m\u001b[0m \u001b[1m51s\u001b[0m 435ms/step - accuracy: 0.9958 - loss: 0.0145 - val_accuracy: 0.8942 - val_loss: 0.3071\n",
      "Epoch 4/10\n",
      "\u001b[1m110/110\u001b[0m \u001b[32m━━━━━━━━━━━━━━━━━━━━\u001b[0m\u001b[37m\u001b[0m \u001b[1m82s\u001b[0m 441ms/step - accuracy: 0.9983 - loss: 0.0080 - val_accuracy: 0.8575 - val_loss: 0.4253\n",
      "Epoch 5/10\n",
      "\u001b[1m110/110\u001b[0m \u001b[32m━━━━━━━━━━━━━━━━━━━━\u001b[0m\u001b[37m\u001b[0m \u001b[1m82s\u001b[0m 440ms/step - accuracy: 0.9953 - loss: 0.0103 - val_accuracy: 0.7892 - val_loss: 0.9308\n",
      "\u001b[1m74/74\u001b[0m \u001b[32m━━━━━━━━━━━━━━━━━━━━\u001b[0m\u001b[37m\u001b[0m \u001b[1m11s\u001b[0m 147ms/step - accuracy: 0.9164 - loss: 0.1878\n",
      "Validation accuracy: 0.9240614175796509\n"
     ]
    }
   ],
   "source": [
    "# Grid search parameters\n",
    "learning_rates = [1e-3, 1e-4]\n",
    "units_list = [256, 512]\n",
    "\n",
    "# List to store results\n",
    "results = []\n",
    "\n",
    "# Grid search loop\n",
    "for lr in learning_rates:\n",
    "    for units in units_list:\n",
    "        print(f\"\\nTraining with learning_rate={lr} and units={units}\")\n",
    "\n",
    "        # Clear session to reset the model state\n",
    "        tf.keras.backend.clear_session()\n",
    "\n",
    "        # Create model\n",
    "        model = create_model(learning_rate=lr, units=units)\n",
    "\n",
    "        # Prepare the data generators\n",
    "        train_datagen = ImageDataGenerator(rescale=1./255)\n",
    "        train_generator = train_datagen.flow_from_directory(\n",
    "            train_dir,\n",
    "            target_size=(224, 224),\n",
    "            batch_size=32,\n",
    "            class_mode='binary'\n",
    "        )\n",
    "\n",
    "        val_datagen = ImageDataGenerator(rescale=1./255)\n",
    "        val_generator = val_datagen.flow_from_directory(\n",
    "            val_dir,\n",
    "            target_size=(224, 224),\n",
    "            batch_size=16,\n",
    "            class_mode='binary'\n",
    "        )\n",
    "\n",
    "        # Define callbacks\n",
    "        early_stopping = EarlyStopping(monitor='val_loss', patience=3, restore_best_weights=True)\n",
    "\n",
    "        # Train the model\n",
    "        history = model.fit(\n",
    "            train_generator,\n",
    "            epochs=10,\n",
    "            validation_data=val_generator,\n",
    "            callbacks=[early_stopping]\n",
    "        )\n",
    "\n",
    "        # Evaluate the model\n",
    "        val_loss, val_acc = model.evaluate(val_generator)\n",
    "        print(f\"Validation accuracy: {val_acc}\")\n",
    "\n",
    "        # Append results\n",
    "        results.append({\n",
    "            'learning_rate': lr,\n",
    "            'units': units,\n",
    "            'val_accuracy': val_acc\n",
    "        })\n",
    "\n",
    "# Convert results to DataFrame for analysis\n",
    "df_results = pd.DataFrame(results)\n",
    "\n",
    "# Find the best parameters\n",
    "best_params = df_results.loc[df_results['val_accuracy'].idxmax()]"
   ]
  },
  {
   "cell_type": "code",
   "execution_count": null,
   "metadata": {
    "colab": {
     "background_save": true
    },
    "id": "SeKYwyZeKJ3J",
    "outputId": "7c03abc8-8759-490a-da13-922fa97db577"
   },
   "outputs": [
    {
     "name": "stdout",
     "output_type": "stream",
     "text": [
      "\n",
      "Best Parameters:\n",
      "learning_rate      0.001000\n",
      "units            512.000000\n",
      "val_accuracy       0.930034\n",
      "Name: 1, dtype: float64\n"
     ]
    }
   ],
   "source": [
    "print(\"\\nBest Parameters:\")\n",
    "print(best_params)"
   ]
  },
  {
   "cell_type": "code",
   "execution_count": null,
   "metadata": {
    "colab": {
     "background_save": true
    },
    "id": "qkZhwiG3KJ3K",
    "outputId": "da6af4d6-8f2e-485b-a846-4f291dc93407"
   },
   "outputs": [
    {
     "data": {
      "image/png": "[encoded data removed]",
      "text/plain": [
       "<Figure size 1000x600 with 2 Axes>"
      ]
     },
     "metadata": {},
     "output_type": "display_data"
    }
   ],
   "source": [
    "# Create a pivot table\n",
    "pivot_df = df_results.pivot_table(index='learning_rate', columns='units', values='val_accuracy')\n",
    "\n",
    "# Plot the results\n",
    "plt.figure(figsize=(10, 6))\n",
    "sns.heatmap(pivot_df, annot=True, fmt='.3f', cmap='viridis')\n",
    "plt.title('Validation Accuracy for Different Parameter Combinations')\n",
    "plt.show()"
   ]
  },
  {
   "cell_type": "markdown",
   "metadata": {
    "id": "q4VL0GU1KJ3K"
   },
   "source": [
    "# Time and Inference"
   ]
  },
  {
   "cell_type": "code",
   "execution_count": null,
   "metadata": {
    "colab": {
     "background_save": true
    },
    "id": "Oq7sf45SKJ3K"
   },
   "outputs": [],
   "source": [
    "from tensorflow.keras.preprocessing import image\n",
    "from tensorflow.keras.applications.mobilenet_v2 import preprocess_input\n",
    "import time"
   ]
  },
  {
   "cell_type": "code",
   "execution_count": null,
   "metadata": {
    "colab": {
     "background_save": true
    },
    "id": "6Ci9JMzcKJ3L"
   },
   "outputs": [],
   "source": [
    "def create_mobilenetv2_model(input_shape=(224, 224, 3), num_classes=2):\n",
    "    base_model = MobileNetV2(input_shape=input_shape, weights='imagenet', include_top=False)\n",
    "    model = tf.keras.Sequential([\n",
    "        base_model,\n",
    "        tf.keras.layers.GlobalAveragePooling2D(),\n",
    "        tf.keras.layers.Dense(num_classes, activation='softmax')\n",
    "    ])\n",
    "    return model"
   ]
  },
  {
   "cell_type": "code",
   "execution_count": null,
   "metadata": {
    "colab": {
     "background_save": true
    },
    "id": "rf0kWNnhX8R4"
   },
   "outputs": [],
   "source": [
    "def create_datasets_for_time(train_dir, val_dir, test_dir, img_size=(260, 260)):\n",
    "    train_dataset = tf.keras.preprocessing.image_dataset_from_directory(\n",
    "        train_dir,\n",
    "        labels='inferred',\n",
    "        label_mode='int',\n",
    "        image_size=img_size,\n",
    "        shuffle=True,\n",
    "        seed=123\n",
    "    )\n",
    "\n",
    "    val_dataset = tf.keras.preprocessing.image_dataset_from_directory(\n",
    "        val_dir,\n",
    "        labels='inferred',\n",
    "        label_mode='int',\n",
    "        image_size=img_size,\n",
    "        shuffle=False,\n",
    "        seed=123\n",
    "    )\n",
    "\n",
    "    test_dataset = tf.keras.preprocessing.image_dataset_from_directory(\n",
    "        test_dir,\n",
    "        labels='inferred',\n",
    "        label_mode='int',\n",
    "        image_size=img_size,\n",
    "        shuffle=False  # Don't shuffle the test data\n",
    "    )\n",
    "\n",
    "    return train_dataset, val_dataset, test_dataset"
   ]
  },
  {
   "cell_type": "code",
   "execution_count": null,
   "metadata": {
    "id": "eaYJf9pMWExK"
   },
   "outputs": [],
   "source": [
    "# Function to create MobileNetV2 with custom input size and additional layers\n",
    "def create_custom_mobilenetv2(input_size=(128, 128, 3), learning_rate=0.00005, num_classes=1):\n",
    "    # # Load the base MobileNetV2 model with a new input size\n",
    "    # base_model = MobileNetV2(weights='imagenet', include_top=False, input_shape=input_size)\n",
    "\n",
    "    # # Add custom layers on top of it\n",
    "    # x = base_model.output\n",
    "    # x = GlobalAveragePooling2D()(x)\n",
    "\n",
    "    # # First Dense layer with BatchNormalization and Dropout\n",
    "    # x = Dense(256, activation='relu', kernel_regularizer=l2(0.001))(x)\n",
    "    # x = Dropout(0.4)(x)\n",
    "\n",
    "    # # Second Dense layer with BatchNormalization and Dropout\n",
    "    # x = Dense(512, activation='relu', kernel_regularizer=l2(0.001))(x)\n",
    "    # x = Dropout(0.4)(x)\n",
    "\n",
    "    # # Output layer for binary classification\n",
    "    # predictions = Dense(1, activation='sigmoid')(x)\n",
    "\n",
    "    # # Create the model\n",
    "    # model = Model(inputs=base_model.input, outputs=predictions)\n",
    "\n",
    "    # # Compile the model with an appropriate optimizer and loss function\n",
    "    # model.compile(optimizer=Adam(learning_rate=learning_rate),\n",
    "    #               loss='binary_crossentropy',\n",
    "    #               metrics=['accuracy'])\n",
    "\n",
    "    # return model\n",
    "\n",
    "    # Load the base MobileNetV2 model, excluding the top layers\n",
    "    base_model = MobileNetV2(weights='imagenet', include_top=False, input_shape=input_shape)\n",
    "    base_model.trainable = True\n",
    "\n",
    "    # Add custom layers on top of it\n",
    "    x = base_model.output\n",
    "    x = GlobalAveragePooling2D()(x)\n",
    "\n",
    "    # First Dense layer with BatchNormalization and Dropout\n",
    "    x = Dense(256, activation='relu', kernel_regularizer=l2(0.001))(x)\n",
    "    x = Dropout(0.25)(x)\n",
    "\n",
    "    # Second Dense layer with BatchNormalization and Dropout\n",
    "    x = Dense(512, activation='relu', kernel_regularizer=l2(0.001))(x)\n",
    "    x = Dropout(0.25)(x)\n",
    "\n",
    "    # Output layer for binary classification\n",
    "    predictions = Dense(1, activation='sigmoid')(x)\n",
    "\n",
    "    # Create the model\n",
    "    model = Model(inputs=base_model.input, outputs=predictions)\n",
    "\n",
    "    # Unfreeze all layers in the base model for fine-tuning\n",
    "\n",
    "    # Compile the model with an appropriate optimizer and loss function\n",
    "    model.compile(optimizer=Adam(learning_rate=learning_rate),\n",
    "                  loss='binary_crossentropy',\n",
    "                  metrics=['accuracy', Recall(), Precision()])\n",
    "\n",
    "    return model\n",
    "\n",
    "# List of input sizes to loop over (dimen size)\n",
    "input_sizes = [(128, 128, 3), (160, 160, 3), (192, 192, 3), (224, 224, 3)]\n",
    "\n",
    "# Loop through each input size, create the model, and measure training time and accuracy\n",
    "for size in input_sizes:\n",
    "    print(f\"\\nCreating and training model with input size {size}...\")\n",
    "\n",
    "    # Create the model for the current input size\n",
    "    model = create_custom_mobilenetv2(input_size=size, learning_rate=1e-3)\n",
    "\n",
    "    # Start timer\n",
    "    start_time = time.time()\n",
    "\n",
    "    # Train the model (you would need to set up train_generator, val_generator, etc.)\n",
    "    train_dataset, val_dataset, test_dataset = create_datasets_for_time(train_dir, val_dir, test_dir, img_size=(size[0], size[1]))\n",
    "    history = model.fit(\n",
    "        train_dataset,\n",
    "        # steps_per_epoch=len(train_dataset),\n",
    "        validation_data=val_dataset,\n",
    "        # validation_steps=len(val_dataset),\n",
    "        epochs=10  # Number of epochs for training\n",
    "    )\n",
    "\n",
    "    # End timer\n",
    "    end_time = time.time()\n",
    "\n",
    "    # Calculate total training time\n",
    "    total_time = end_time - start_time\n",
    "\n",
    "    # Get final validation accuracy from the history object\n",
    "    final_val_accuracy = history.history['val_accuracy'][-1]  # Get the last epoch's validation accuracy\n",
    "\n",
    "    print(f\"Training complete for input size {size}\")\n",
    "    print(f\"Total training time for input size {size}: {total_time:.2f} seconds\")\n",
    "    print(f\"Final validation accuracy for input size {size}: {final_val_accuracy:.4f}\\n\")"
   ]
  },
  {
   "cell_type": "markdown",
   "metadata": {},
   "source": [
    "# Hyperparameter Tuning"
   ]
  },
  {
   "cell_type": "code",
   "execution_count": null,
   "metadata": {
    "id": "UjiaZ2i7nAFp"
   },
   "outputs": [],
   "source": [
    "# Function to create a MobileNetV2-based model with dropout rate as a hyperparameter\n",
    "def create_model_for_tuning(learning_rate, dropout_rate, input_shape=(224, 224, 3)):\n",
    "    # Load the base MobileNetV2 model, excluding the top layers\n",
    "    base_model = MobileNetV2(weights='imagenet', include_top=False, input_shape=input_shape)\n",
    "    base_model.trainable = True\n",
    "\n",
    "    # Add custom layers on top of it\n",
    "    x = base_model.output\n",
    "    x = GlobalAveragePooling2D()(x)\n",
    "\n",
    "    # First Dense layer with BatchNormalization and Dropout\n",
    "    x = Dense(256, activation='relu', kernel_regularizer=l2(0.001))(x)\n",
    "    x = Dropout(0.25)(x)\n",
    "\n",
    "    # Second Dense layer with BatchNormalization and Dropout\n",
    "    x = Dense(512, activation='relu', kernel_regularizer=l2(0.001))(x)\n",
    "    x = Dropout(0.25)(x)\n",
    "\n",
    "    # Output layer for binary classification\n",
    "    predictions = Dense(1, activation='sigmoid')(x)\n",
    "\n",
    "    # Create the model\n",
    "    model = Model(inputs=base_model.input, outputs=predictions)\n",
    "\n",
    "    # Unfreeze all layers in the base model for fine-tuning\n",
    "\n",
    "    # Compile the model with an appropriate optimizer and loss function\n",
    "    model.compile(optimizer=Adam(learning_rate=learning_rate),\n",
    "                  loss='binary_crossentropy',\n",
    "                  metrics=['accuracy', Recall(), Precision()])\n",
    "\n",
    "    return model\n"
   ]
  },
  {
   "cell_type": "code",
   "execution_count": null,
   "metadata": {
    "id": "PpIOiPuMnxgU"
   },
   "outputs": [],
   "source": [
    "# Hyperparameters to test\n",
    "learning_rates = [1e-3, 1e-4, 1e-5]  # Learning rates to try\n",
    "dropout_rates = [0.1, 0.2, 0.3]      # Dropout rates to try\n",
    "\n",
    "# List to store results\n",
    "results = []\n",
    "\n",
    "# Grid search loop for hyperparameter tuning\n",
    "for lr in learning_rates:\n",
    "    for dropout in dropout_rates:\n",
    "        print(f\"\\nTraining with learning_rate={lr} and dropout_rate={dropout}\")\n",
    "\n",
    "        # Clear session to reset the model state\n",
    "        tf.keras.backend.clear_session()\n",
    "\n",
    "        # Create model with current hyperparameters\n",
    "        model = create_model_for_tuning(learning_rate=lr, dropout_rate=dropout)\n",
    "\n",
    "        # Prepare the data generators (assuming you have directories train_dir and val_dir)\n",
    "        train_datagen = ImageDataGenerator(rescale=1./255)\n",
    "        train_generator = train_datagen.flow_from_directory(\n",
    "            train_dir,\n",
    "            target_size=(224, 224),\n",
    "            batch_size=32,  # Fixed batch size\n",
    "            class_mode='binary'\n",
    "        )\n",
    "\n",
    "        val_datagen = ImageDataGenerator(rescale=1./255)\n",
    "        val_generator = val_datagen.flow_from_directory(\n",
    "            val_dir,\n",
    "            target_size=(224, 224),\n",
    "            batch_size=32,  # Fixed batch size\n",
    "            class_mode='binary'\n",
    "        )\n",
    "\n",
    "        # Define callbacks\n",
    "        early_stopping = EarlyStopping(monitor='val_loss', patience=3, restore_best_weights=True)\n",
    "\n",
    "        # Train the model\n",
    "        history = model.fit(\n",
    "            train_generator,\n",
    "            epochs=10,\n",
    "            validation_data=val_generator,\n",
    "            callbacks=[early_stopping],\n",
    "            verbose=1\n",
    "        )\n",
    "\n",
    "        # Evaluate the model\n",
    "        val_loss, val_acc = model.evaluate(val_generator)\n",
    "        print(f\"Validation accuracy: {val_acc:.4f}\")\n",
    "\n",
    "        # Append results to the list\n",
    "        results.append({\n",
    "            'learning_rate': lr,\n",
    "            'dropout_rate': dropout,\n",
    "            'val_accuracy': val_acc\n",
    "        })\n",
    "\n",
    "# Convert results to DataFrame for analysis\n",
    "df_results = pd.DataFrame(results)\n",
    "\n",
    "# Print the DataFrame with all results\n",
    "print(\"\\nResults from hyperparameter tuning:\")\n",
    "print(df_results)\n",
    "\n",
    "# Find and print the best hyperparameters based on validation accuracy\n",
    "best_params = df_results.loc[df_results['val_accuracy'].idxmax()]\n",
    "print(\"\\nBest Hyperparameters:\")\n",
    "print(best_params)"
   ]
  },
  {
   "cell_type": "code",
   "execution_count": null,
   "metadata": {},
   "outputs": [],
   "source": [
    "# Create a pivot table for heatmap (Learning Rate vs Dropout Rate)\n",
    "pivot_df = df_results.pivot(\"learning_rate\", \"dropout_rate\", \"val_accuracy\")\n",
    "\n",
    "# Plot the heatmap\n",
    "plt.figure(figsize=(8, 6))\n",
    "sns.heatmap(pivot_df, annot=True, cmap='viridis', fmt=\".4f\")\n",
    "plt.title(\"Validation Accuracy for Learning Rate and Dropout Rate\")\n",
    "plt.xlabel(\"Dropout Rate\")\n",
    "plt.ylabel(\"Learning Rate\")\n",
    "plt.show()"
   ]
  }
 ],
 "metadata": {
  "accelerator": "GPU",
  "colab": {
   "gpuType": "T4",
   "provenance": []
  },
  "kernelspec": {
   "display_name": "Python 3 (ipykernel)",
   "language": "python",
   "name": "python3"
  },
  "language_info": {
   "codemirror_mode": {
    "name": "ipython",
    "version": 3
   },
   "file_extension": ".py",
   "mimetype": "text/x-python",
   "name": "python",
   "nbconvert_exporter": "python",
   "pygments_lexer": "ipython3",
   "version": "3.11.0rc1"
  }
 },
 "nbformat": 4,
 "nbformat_minor": 4
}
