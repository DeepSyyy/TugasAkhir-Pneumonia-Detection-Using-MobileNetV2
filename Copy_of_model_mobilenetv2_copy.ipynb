{
 "cells": [
  {
   "cell_type": "code",
   "execution_count": 1,
   "metadata": {
    "id": "VF2kX1lMKJ2G"
   },
   "outputs": [
    {
     "name": "stderr",
     "output_type": "stream",
     "text": [
      "2024-10-18 10:36:43.493334: I tensorflow/core/util/port.cc:111] oneDNN custom operations are on. You may see slightly different numerical results due to floating-point round-off errors from different computation orders. To turn them off, set the environment variable `TF_ENABLE_ONEDNN_OPTS=0`.\n",
      "2024-10-18 10:36:43.601868: E tensorflow/compiler/xla/stream_executor/cuda/cuda_dnn.cc:9342] Unable to register cuDNN factory: Attempting to register factory for plugin cuDNN when one has already been registered\n",
      "2024-10-18 10:36:43.601909: E tensorflow/compiler/xla/stream_executor/cuda/cuda_fft.cc:609] Unable to register cuFFT factory: Attempting to register factory for plugin cuFFT when one has already been registered\n",
      "2024-10-18 10:36:43.602118: E tensorflow/compiler/xla/stream_executor/cuda/cuda_blas.cc:1518] Unable to register cuBLAS factory: Attempting to register factory for plugin cuBLAS when one has already been registered\n",
      "2024-10-18 10:36:43.641518: I tensorflow/core/platform/cpu_feature_guard.cc:182] This TensorFlow binary is optimized to use available CPU instructions in performance-critical operations.\n",
      "To enable the following instructions: AVX2 AVX512F AVX512_VNNI FMA, in other operations, rebuild TensorFlow with the appropriate compiler flags.\n"
     ]
    }
   ],
   "source": [
    "import numpy as np\n",
    "import pandas as pd\n",
    "import os\n",
    "import tensorflow as tf\n",
    "from tensorflow.keras.preprocessing.image import ImageDataGenerator\n",
    "from tensorflow.keras.applications import MobileNetV2\n",
    "from tensorflow.keras.layers import Dense, GlobalAveragePooling2D\n",
    "from tensorflow.keras.models import Model\n",
    "from tensorflow.keras.optimizers import Adam\n",
    "from sklearn.metrics import classification_report, confusion_matrix, f1_score\n",
    "from tensorflow.keras.layers import BatchNormalization\n",
    "from tensorflow.keras.callbacks import ReduceLROnPlateau, EarlyStopping, ModelCheckpoint\n",
    "from tensorflow.keras.regularizers import l2\n",
    "from tensorflow.keras.models import Model\n",
    "from tensorflow.keras.optimizers import Adam\n",
    "from tensorflow.keras.layers import Dropout\n",
    "import matplotlib.pyplot as plt\n",
    "import seaborn as sns\n",
    "import os\n",
    "import shutil\n",
    "import zipfile\n",
    "from tensorflow.keras.metrics import Precision, Recall, F1Score\n",
    "from tensorflow.keras.models import load_model"
   ]
  },
  {
   "cell_type": "code",
   "execution_count": 2,
   "metadata": {
    "colab": {
     "base_uri": "https://localhost:8080/"
    },
    "id": "ewuykVY0KMam",
    "outputId": "85017a50-5b45-42d5-d9cf-9f002cb683cd"
   },
   "outputs": [
    {
     "name": "stdout",
     "output_type": "stream",
     "text": [
      "Downloading...\n",
      "From (original): https://drive.google.com/uc?id=16-fTRjDeMr_3KYivyx17S3Y-wUYrvZer\n",
      "From (redirected): https://drive.google.com/uc?id=16-fTRjDeMr_3KYivyx17S3Y-wUYrvZer&confirm=t&uuid=cd519368-e449-42cc-a94e-a08ef521a0a0\n",
      "To: /workspace/tubes_ai/data.zip\n",
      "100%|██████████████████████████████████████| 2.46G/2.46G [01:16<00:00, 32.0MB/s]\n"
     ]
    }
   ],
   "source": [
    "!gdown 16-fTRjDeMr_3KYivyx17S3Y-wUYrvZer"
   ]
  },
  {
   "cell_type": "markdown",
   "metadata": {
    "id": "sizL6vN1KJ2K"
   },
   "source": [
    "### Mendefinisikan root folder"
   ]
  },
  {
   "cell_type": "code",
   "execution_count": 3,
   "metadata": {
    "id": "5g8zWHLdKJ2O"
   },
   "outputs": [],
   "source": [
    "root_folder = '.'"
   ]
  },
  {
   "cell_type": "markdown",
   "metadata": {
    "id": "iAvKnLiOKJ2P"
   },
   "source": [
    "### Memuat zip dan mengekstraknya"
   ]
  },
  {
   "cell_type": "code",
   "execution_count": 4,
   "metadata": {
    "id": "13IuY_7uKJ2Q"
   },
   "outputs": [],
   "source": [
    "zip_file_path = root_folder + '/data.zip'\n",
    "folder_path = root_folder + '/Dataset'\n",
    "# Extract the zip file to the specified folder\n",
    "with zipfile.ZipFile(zip_file_path, 'r') as zip_ref:\n",
    "    zip_ref.extractall(folder_path)"
   ]
  },
  {
   "cell_type": "code",
   "execution_count": 5,
   "metadata": {
    "id": "2Spp8wohKJ2R"
   },
   "outputs": [],
   "source": [
    "input_folder_path = root_folder + \"/Dataset/chest_xray/chest_xray\""
   ]
  },
  {
   "cell_type": "code",
   "execution_count": 6,
   "metadata": {
    "id": "fBQEAA5bKJ2S"
   },
   "outputs": [],
   "source": [
    "# Define the classes in your dataset\n",
    "classes = [\"NORMAL\", \"PNEUMONIA\"]"
   ]
  },
  {
   "cell_type": "code",
   "execution_count": 7,
   "metadata": {
    "id": "eOnHNtOAKJ2T"
   },
   "outputs": [],
   "source": [
    "# Create dictionary to store the file paths from class names\n",
    "file_paths = {class_name: [] for class_name in classes}"
   ]
  },
  {
   "cell_type": "code",
   "execution_count": 8,
   "metadata": {
    "id": "LbP6yvnSKJ2U"
   },
   "outputs": [],
   "source": [
    "# Loop through the train, test, and val folders\n",
    "for split in [\"train\", \"test\", \"val\"]:\n",
    "    split_folder_path = os.path.join(input_folder_path, split)\n",
    "\n",
    "    # Loop through the NORMAL and PNEUMONIA folders in each split folder\n",
    "    for class_name in file_paths.keys():\n",
    "        class_folder_path = os.path.join(split_folder_path, class_name)\n",
    "\n",
    "        # Loop through the image files in each class folder and copy them to the output folder\n",
    "        for file_name in os.listdir(class_folder_path):\n",
    "            if file_name.endswith(\".jpeg\"):\n",
    "                src_path = os.path.join(class_folder_path, file_name)\n",
    "\n",
    "                # Append the file path to the dictionary\n",
    "                file_paths[class_name].append(src_path)"
   ]
  },
  {
   "cell_type": "code",
   "execution_count": 9,
   "metadata": {
    "colab": {
     "base_uri": "https://localhost:8080/"
    },
    "id": "r99aQrJJKJ2W",
    "outputId": "0319219f-76da-45e9-a154-51c946894a88"
   },
   "outputs": [
    {
     "name": "stdout",
     "output_type": "stream",
     "text": [
      "NORMAL: 1583\n",
      "PNEUMONIA: 4273\n"
     ]
    }
   ],
   "source": [
    "# Display the number of images in each class in tablular format\n",
    "for class_name, paths in file_paths.items():\n",
    "    print(f\"{class_name}: {len(paths)}\")"
   ]
  },
  {
   "cell_type": "markdown",
   "metadata": {
    "id": "Sv2FTmPFKJ2X"
   },
   "source": [
    "### Membagi data"
   ]
  },
  {
   "cell_type": "code",
   "execution_count": 10,
   "metadata": {
    "id": "8HZ2zWczKJ2Y"
   },
   "outputs": [],
   "source": [
    "# Set the train/validation/test split ratios\n",
    "train_ratio = 0.6\n",
    "val_ratio = 0.2\n",
    "test_ratio = 0.2"
   ]
  },
  {
   "cell_type": "code",
   "execution_count": 11,
   "metadata": {
    "id": "6jSjcGoEKJ2Z"
   },
   "outputs": [],
   "source": [
    "# Define the output folder path\n",
    "output_folder_path = root_folder + \"/SplittedData\""
   ]
  },
  {
   "cell_type": "code",
   "execution_count": 12,
   "metadata": {
    "id": "aZmFyj2PKJ2Z"
   },
   "outputs": [],
   "source": [
    "# Remove the output folder if it already exists\n",
    "if os.path.exists(output_folder_path):\n",
    "    shutil.rmtree(output_folder_path)"
   ]
  },
  {
   "cell_type": "code",
   "execution_count": 13,
   "metadata": {
    "id": "Y6ygiSZxKJ2a"
   },
   "outputs": [],
   "source": [
    "# Create the output directories\n",
    "for split in [\"train\", \"val\", \"test\"]:\n",
    "    for class_name in classes:\n",
    "        split_folder_path = os.path.join(output_folder_path, split, class_name)\n",
    "        os.makedirs(split_folder_path, exist_ok=True)"
   ]
  },
  {
   "cell_type": "code",
   "execution_count": 14,
   "metadata": {
    "id": "W1TT3wEIKJ2a"
   },
   "outputs": [],
   "source": [
    "# Shuffle the lists to randomize the order\n",
    "import random\n",
    "for class_name, paths in file_paths.items():\n",
    "    random.shuffle(paths)"
   ]
  },
  {
   "cell_type": "code",
   "execution_count": 15,
   "metadata": {
    "id": "LoR0OpGYKJ2a"
   },
   "outputs": [],
   "source": [
    "# Calculate the number of images for each split\n",
    "num_of_images_per_split = {class_name: {\"all\": 0, \"train\": 0, \"val\": 0, \"test\": 0, \"reminders\": 0} for class_name in classes}\n",
    "\n",
    "from math import ceil, floor\n",
    "\n",
    "# add the number of images for each class\n",
    "for class_name, paths in file_paths.items():\n",
    "    num_of_images = len(paths)\n",
    "    num_of_images_per_split[class_name][\"all\"] = num_of_images\n",
    "    num_of_images_per_split[class_name][\"train\"] = round(num_of_images * train_ratio)\n",
    "    num_of_images_per_split[class_name][\"val\"] = round(num_of_images * val_ratio)\n",
    "    num_of_images_per_split[class_name][\"test\"] = num_of_images - num_of_images_per_split[class_name][\"train\"] - num_of_images_per_split[class_name][\"val\"]\n",
    "    num_of_images_per_split[class_name][\"reminders\"] = num_of_images - num_of_images_per_split[class_name][\"train\"] - num_of_images_per_split[class_name][\"val\"] - num_of_images_per_split[class_name][\"test\"]"
   ]
  },
  {
   "cell_type": "code",
   "execution_count": 16,
   "metadata": {
    "colab": {
     "base_uri": "https://localhost:8080/"
    },
    "id": "6gcLiVvuKJ2b",
    "outputId": "217a99fd-96dd-41ff-b68a-b5758601463d"
   },
   "outputs": [
    {
     "name": "stdout",
     "output_type": "stream",
     "text": [
      "NORMAL: {'all': 1583, 'train': 950, 'val': 317, 'test': 316, 'reminders': 0}\n",
      "PNEUMONIA: {'all': 4273, 'train': 2564, 'val': 855, 'test': 854, 'reminders': 0}\n"
     ]
    }
   ],
   "source": [
    "# Display the number of images for each split\n",
    "for class_name, splits in num_of_images_per_split.items():\n",
    "    print(f\"{class_name}: {splits}\")"
   ]
  },
  {
   "cell_type": "code",
   "execution_count": 17,
   "metadata": {
    "colab": {
     "base_uri": "https://localhost:8080/"
    },
    "id": "PnSS5ROUKJ2s",
    "outputId": "3fffadff-4a0c-44bc-8b75-a9fb3f493fef"
   },
   "outputs": [
    {
     "name": "stdout",
     "output_type": "stream",
     "text": [
      "train: 3514\n",
      "val: 1172\n",
      "test: 1170\n"
     ]
    }
   ],
   "source": [
    "# Display the number of images for train, val, and test splits\n",
    "for split in [\"train\", \"val\", \"test\"]:\n",
    "    print(f\"{split}: {sum([splits[split] for splits in num_of_images_per_split.values()])}\")"
   ]
  },
  {
   "cell_type": "code",
   "execution_count": 18,
   "metadata": {
    "id": "MWWbl9bLKJ2t"
   },
   "outputs": [],
   "source": [
    "import os\n",
    "import shutil\n",
    "\n",
    "# Iterate through each class and its associated file paths\n",
    "for class_name, paths in file_paths.items():\n",
    "    # Get the number of images for each split\n",
    "    num_of_images = len(paths)\n",
    "    num_train = num_of_images_per_split[class_name][\"train\"]\n",
    "    num_val = num_of_images_per_split[class_name][\"val\"]\n",
    "    num_test = num_of_images_per_split[class_name][\"test\"]\n",
    "\n",
    "    # Split the images into train, val, and test sets\n",
    "    train_paths = paths[:num_train]\n",
    "    val_paths = paths[num_train:num_train + num_val]\n",
    "    test_paths = paths[num_train + num_val:]\n",
    "\n",
    "    # Copy the images to the respective split folders\n",
    "    for src_path in train_paths:\n",
    "        file_name = os.path.basename(src_path)\n",
    "        dst_path = os.path.join(output_folder_path, \"train\", class_name, file_name)\n",
    "\n",
    "        # Ensure the destination directory exists\n",
    "        os.makedirs(os.path.dirname(dst_path), exist_ok=True)\n",
    "\n",
    "        # Copy the file\n",
    "        shutil.copyfile(src_path, dst_path)\n",
    "\n",
    "    for src_path in val_paths:\n",
    "        file_name = os.path.basename(src_path)\n",
    "        dst_path = os.path.join(output_folder_path, \"val\", class_name, file_name)\n",
    "\n",
    "        # Ensure the destination directory exists\n",
    "        os.makedirs(os.path.dirname(dst_path), exist_ok=True)\n",
    "\n",
    "        # Copy the file\n",
    "        shutil.copyfile(src_path, dst_path)\n",
    "\n",
    "    for src_path in test_paths:\n",
    "        file_name = os.path.basename(src_path)\n",
    "        dst_path = os.path.join(output_folder_path, \"test\", class_name, file_name)\n",
    "\n",
    "        # Ensure the destination directory exists\n",
    "        os.makedirs(os.path.dirname(dst_path), exist_ok=True)\n",
    "\n",
    "        # Copy the file\n",
    "        shutil.copyfile(src_path, dst_path)\n"
   ]
  },
  {
   "cell_type": "code",
   "execution_count": 19,
   "metadata": {
    "id": "VTGwUXx0KJ2u"
   },
   "outputs": [],
   "source": [
    "# Define paths to your dataset\n",
    "train_dir = output_folder_path + '/train'\n",
    "val_dir = output_folder_path + '/val'\n",
    "test_dir = output_folder_path + '/test'"
   ]
  },
  {
   "cell_type": "code",
   "execution_count": 20,
   "metadata": {},
   "outputs": [],
   "source": [
    "model_no_augmented = 'model_no_augmented'\n",
    "model_augmented = 'model_augmented'"
   ]
  },
  {
   "cell_type": "markdown",
   "metadata": {
    "id": "mjZ1VkgNKJ2v"
   },
   "source": [
    "# Tanpa Augmentasi"
   ]
  },
  {
   "cell_type": "code",
   "execution_count": 21,
   "metadata": {
    "id": "AfzpNMltKJ2v"
   },
   "outputs": [],
   "source": [
    "# Function to create datasets\n",
    "def create_datasets(train_dir, val_dir, test_dir, img_size=(224, 224)):\n",
    "    train_dataset = tf.keras.preprocessing.image_dataset_from_directory(\n",
    "        train_dir,\n",
    "        labels='inferred',\n",
    "        label_mode='int',\n",
    "        image_size=img_size,\n",
    "        shuffle=True,\n",
    "        seed=123\n",
    "    )\n",
    "\n",
    "    val_dataset = tf.keras.preprocessing.image_dataset_from_directory(\n",
    "        val_dir,\n",
    "        labels='inferred',\n",
    "        label_mode='int',\n",
    "        image_size=img_size,\n",
    "        shuffle=False,\n",
    "        seed=123\n",
    "    )\n",
    "\n",
    "    test_dataset = tf.keras.preprocessing.image_dataset_from_directory(\n",
    "        test_dir,\n",
    "        labels='inferred',\n",
    "        label_mode='int',\n",
    "        image_size=img_size,\n",
    "        shuffle=False  # Don't shuffle the test data\n",
    "    )\n",
    "\n",
    "    return train_dataset, val_dataset, test_dataset"
   ]
  },
  {
   "cell_type": "code",
   "execution_count": 22,
   "metadata": {
    "id": "Nzi1VUQoKJ20"
   },
   "outputs": [],
   "source": [
    "# Function to create the model with added regularization\n",
    "def create_model(input_shape=(224, 224, 3), learning_rate=0.00005):\n",
    "    # Load the base MobileNetV2 model, excluding the top layers\n",
    "    base_model = MobileNetV2(weights='imagenet', include_top=False, input_shape=input_shape)\n",
    "    base_model.trainable = True\n",
    "\n",
    "    # Add custom layers on top of it\n",
    "    x = base_model.output\n",
    "    x = GlobalAveragePooling2D()(x)\n",
    "\n",
    "    # First Dense layer with BatchNormalization and Dropout\n",
    "    x = Dense(256, activation='relu', kernel_regularizer=l2(0.001))(x)\n",
    "    x = Dropout(0.25)(x)\n",
    "\n",
    "    # Second Dense layer with BatchNormalization and Dropout\n",
    "    x = Dense(512, activation='relu', kernel_regularizer=l2(0.001))(x)\n",
    "    x = Dropout(0.25)(x)\n",
    "\n",
    "    # Output layer for binary classification\n",
    "    predictions = Dense(1, activation='sigmoid')(x)\n",
    "\n",
    "    # Create the model\n",
    "    model = Model(inputs=base_model.input, outputs=predictions)\n",
    "\n",
    "    # Unfreeze all layers in the base model for fine-tuning\n",
    "\n",
    "    # Compile the model with an appropriate optimizer and loss function\n",
    "    model.compile(optimizer=Adam(learning_rate=learning_rate),\n",
    "                  loss='binary_crossentropy',\n",
    "                  metrics=['accuracy', Recall(), Precision()])\n",
    "\n",
    "    return model"
   ]
  },
  {
   "cell_type": "code",
   "execution_count": 23,
   "metadata": {
    "id": "Me3j8igzKJ21"
   },
   "outputs": [],
   "source": [
    "# Function to train the model\n",
    "def train_model(model, train_dataset, val_dataset, epochs=50):\n",
    "    # Define callbacks\n",
    "    reduce_lr = ReduceLROnPlateau(monitor='val_loss', factor=0.2, patience=3, min_lr=1e-6)\n",
    "    early_stopping = EarlyStopping(monitor='val_loss', patience=5, restore_best_weights=True)  # Aggressive patience\n",
    "\n",
    "    # Train the model\n",
    "    history = model.fit(\n",
    "        train_dataset,\n",
    "        epochs=epochs,\n",
    "        validation_data=val_dataset,\n",
    "        callbacks=[reduce_lr, early_stopping]\n",
    "    )\n",
    "\n",
    "    return history"
   ]
  },
  {
   "cell_type": "code",
   "execution_count": 24,
   "metadata": {},
   "outputs": [],
   "source": [
    "# Function to save the model\n",
    "def save_model(model, model_name, save_format=\"h5\"):\n",
    "    \"\"\"\n",
    "    Save the Keras model to disk.\n",
    "\n",
    "    Args:\n",
    "    model (tf.keras.Model): The trained Keras model to save.\n",
    "    model_name (str): Name of the file to save the model as (default: 'my_model').\n",
    "    save_format (str): Format to save the model, either 'h5' (default) or 'tf'.\n",
    "                       'h5' saves as HDF5 file, 'tf' saves as TensorFlow SavedModel format.\n",
    "    \n",
    "    Returns:\n",
    "    str: Path to the saved model.\n",
    "    \"\"\"\n",
    "    if save_format == 'h5':\n",
    "        model_path = f\"{model_name}.h5\"\n",
    "        model.save(model_path)\n",
    "    else:\n",
    "        model_path = model_name\n",
    "        model.save(model_path, save_format='tf')\n",
    "    \n",
    "    print(f\"Model saved to: {model_path}\")\n",
    "    return model_path"
   ]
  },
  {
   "cell_type": "code",
   "execution_count": 25,
   "metadata": {
    "id": "Xo7NQsYhKJ22"
   },
   "outputs": [],
   "source": [
    "# Main function to run the training\n",
    "def main(train_dir, val_dir, test_dir, model_name=model_no_augmented, save_format=\"h5\"):\n",
    "    # Create datasets\n",
    "    train_dataset, val_dataset, test_dataset = create_datasets(train_dir, val_dir, test_dir)\n",
    "\n",
    "    # Create the model\n",
    "    model = create_model()\n",
    "\n",
    "    # Train the model\n",
    "    history = train_model(model, train_dataset, val_dataset)\n",
    "\n",
    "    save_model(model, model_name, save_format=save_format)\n",
    "\n",
    "    # Return the trained model and history\n",
    "    return model, history, test_dataset"
   ]
  },
  {
   "cell_type": "code",
   "execution_count": 26,
   "metadata": {
    "colab": {
     "base_uri": "https://localhost:8080/"
    },
    "id": "-dzN11LyKJ22",
    "outputId": "c331bd52-d5e0-4934-e81f-9a7dbcdb7c7c"
   },
   "outputs": [
    {
     "name": "stdout",
     "output_type": "stream",
     "text": [
      "Found 3514 files belonging to 2 classes.\n"
     ]
    },
    {
     "name": "stderr",
     "output_type": "stream",
     "text": [
      "2024-10-18 10:42:27.804772: I tensorflow/core/common_runtime/gpu/gpu_device.cc:1886] Created device /job:localhost/replica:0/task:0/device:GPU:0 with 43598 MB memory:  -> device: 0, name: NVIDIA A40, pci bus id: 0000:d1:00.0, compute capability: 8.6\n",
      "2024-10-18 10:42:28.551041: I tensorflow/tsl/platform/default/subprocess.cc:304] Start cannot spawn child process: No such file or directory\n"
     ]
    },
    {
     "name": "stdout",
     "output_type": "stream",
     "text": [
      "Found 1172 files belonging to 2 classes.\n",
      "Found 1170 files belonging to 2 classes.\n",
      "Downloading data from https://storage.googleapis.com/tensorflow/keras-applications/mobilenet_v2/mobilenet_v2_weights_tf_dim_ordering_tf_kernels_1.0_224_no_top.h5\n",
      "9406464/9406464 [==============================] - 0s 0us/step\n",
      "Epoch 1/50\n"
     ]
    },
    {
     "name": "stderr",
     "output_type": "stream",
     "text": [
      "2024-10-18 10:42:40.967043: I tensorflow/compiler/xla/stream_executor/cuda/cuda_dnn.cc:442] Loaded cuDNN version 8905\n",
      "2024-10-18 10:42:41.094045: I tensorflow/tsl/platform/default/subprocess.cc:304] Start cannot spawn child process: No such file or directory\n",
      "2024-10-18 10:42:43.278603: I tensorflow/compiler/xla/service/service.cc:168] XLA service 0x79cb08646070 initialized for platform CUDA (this does not guarantee that XLA will be used). Devices:\n",
      "2024-10-18 10:42:43.278634: I tensorflow/compiler/xla/service/service.cc:176]   StreamExecutor device (0): NVIDIA A40, Compute Capability 8.6\n",
      "2024-10-18 10:42:43.284233: I tensorflow/compiler/mlir/tensorflow/utils/dump_mlir_util.cc:269] disabling MLIR crash reproducer, set env var `MLIR_CRASH_REPRODUCER_DIRECTORY` to enable.\n",
      "2024-10-18 10:42:43.393365: I ./tensorflow/compiler/jit/device_compiler.h:186] Compiled cluster using XLA!  This line is logged at most once for the lifetime of the process.\n"
     ]
    },
    {
     "name": "stdout",
     "output_type": "stream",
     "text": [
      "110/110 [==============================] - 36s 113ms/step - loss: 1.0049 - accuracy: 0.8987 - recall: 0.9481 - precision: 0.9160 - val_loss: 1.4903 - val_accuracy: 0.7304 - val_recall: 0.9977 - val_precision: 0.7309 - lr: 5.0000e-05\n",
      "Epoch 2/50\n",
      "110/110 [==============================] - 12s 103ms/step - loss: 0.8152 - accuracy: 0.9710 - recall: 0.9821 - precision: 0.9782 - val_loss: 1.2704 - val_accuracy: 0.7841 - val_recall: 0.9906 - val_precision: 0.7756 - lr: 5.0000e-05\n",
      "Epoch 3/50\n",
      "110/110 [==============================] - 13s 109ms/step - loss: 0.7409 - accuracy: 0.9875 - recall: 0.9910 - precision: 0.9918 - val_loss: 1.0851 - val_accuracy: 0.8575 - val_recall: 0.9883 - val_precision: 0.8433 - lr: 5.0000e-05\n",
      "Epoch 4/50\n",
      "110/110 [==============================] - 13s 113ms/step - loss: 0.6914 - accuracy: 0.9954 - recall: 0.9977 - precision: 0.9961 - val_loss: 0.9240 - val_accuracy: 0.9078 - val_recall: 0.9906 - val_precision: 0.8944 - lr: 5.0000e-05\n",
      "Epoch 5/50\n",
      "110/110 [==============================] - 13s 111ms/step - loss: 0.6581 - accuracy: 0.9954 - recall: 0.9973 - precision: 0.9965 - val_loss: 0.7982 - val_accuracy: 0.9497 - val_recall: 0.9930 - val_precision: 0.9412 - lr: 5.0000e-05\n",
      "Epoch 6/50\n",
      "110/110 [==============================] - 13s 113ms/step - loss: 0.6222 - accuracy: 0.9966 - recall: 0.9977 - precision: 0.9977 - val_loss: 0.8017 - val_accuracy: 0.9394 - val_recall: 0.9895 - val_precision: 0.9317 - lr: 5.0000e-05\n",
      "Epoch 7/50\n",
      "110/110 [==============================] - 13s 110ms/step - loss: 0.5878 - accuracy: 0.9983 - recall: 0.9988 - precision: 0.9988 - val_loss: 0.7247 - val_accuracy: 0.9565 - val_recall: 0.9895 - val_precision: 0.9527 - lr: 5.0000e-05\n",
      "Epoch 8/50\n",
      "110/110 [==============================] - 13s 114ms/step - loss: 0.5533 - accuracy: 0.9989 - recall: 0.9996 - precision: 0.9988 - val_loss: 0.6404 - val_accuracy: 0.9693 - val_recall: 0.9754 - val_precision: 0.9823 - lr: 5.0000e-05\n",
      "Epoch 9/50\n",
      "110/110 [==============================] - 13s 112ms/step - loss: 0.5366 - accuracy: 0.9943 - recall: 0.9965 - precision: 0.9957 - val_loss: 0.6723 - val_accuracy: 0.9590 - val_recall: 0.9895 - val_precision: 0.9559 - lr: 5.0000e-05\n",
      "Epoch 10/50\n",
      "110/110 [==============================] - 13s 113ms/step - loss: 0.5001 - accuracy: 0.9963 - recall: 0.9973 - precision: 0.9977 - val_loss: 0.6576 - val_accuracy: 0.9565 - val_recall: 0.9871 - val_precision: 0.9548 - lr: 5.0000e-05\n",
      "Epoch 11/50\n",
      "110/110 [==============================] - 13s 114ms/step - loss: 0.4694 - accuracy: 0.9980 - recall: 0.9984 - precision: 0.9988 - val_loss: 0.5819 - val_accuracy: 0.9684 - val_recall: 0.9848 - val_precision: 0.9723 - lr: 5.0000e-05\n",
      "Epoch 12/50\n",
      "110/110 [==============================] - 13s 112ms/step - loss: 0.4391 - accuracy: 0.9994 - recall: 0.9996 - precision: 0.9996 - val_loss: 0.5827 - val_accuracy: 0.9599 - val_recall: 0.9731 - val_precision: 0.9720 - lr: 5.0000e-05\n",
      "Epoch 13/50\n",
      "110/110 [==============================] - 13s 110ms/step - loss: 0.4145 - accuracy: 0.9989 - recall: 0.9992 - precision: 0.9992 - val_loss: 0.5535 - val_accuracy: 0.9590 - val_recall: 0.9696 - val_precision: 0.9741 - lr: 5.0000e-05\n",
      "Epoch 14/50\n",
      "110/110 [==============================] - 11s 98ms/step - loss: 0.3905 - accuracy: 0.9983 - recall: 0.9988 - precision: 0.9988 - val_loss: 0.4942 - val_accuracy: 0.9676 - val_recall: 0.9754 - val_precision: 0.9800 - lr: 5.0000e-05\n",
      "Epoch 15/50\n",
      "110/110 [==============================] - 13s 108ms/step - loss: 0.3648 - accuracy: 0.9994 - recall: 0.9996 - precision: 0.9996 - val_loss: 0.4897 - val_accuracy: 0.9582 - val_recall: 0.9684 - val_precision: 0.9741 - lr: 5.0000e-05\n",
      "Epoch 16/50\n",
      "110/110 [==============================] - 12s 106ms/step - loss: 0.3413 - accuracy: 0.9997 - recall: 0.9996 - precision: 1.0000 - val_loss: 0.4341 - val_accuracy: 0.9761 - val_recall: 0.9906 - val_precision: 0.9769 - lr: 5.0000e-05\n",
      "Epoch 17/50\n",
      "110/110 [==============================] - 13s 114ms/step - loss: 0.3184 - accuracy: 0.9997 - recall: 0.9996 - precision: 1.0000 - val_loss: 0.4177 - val_accuracy: 0.9727 - val_recall: 0.9813 - val_precision: 0.9813 - lr: 5.0000e-05\n",
      "Epoch 18/50\n",
      "110/110 [==============================] - 13s 109ms/step - loss: 0.3042 - accuracy: 0.9986 - recall: 0.9988 - precision: 0.9992 - val_loss: 0.4224 - val_accuracy: 0.9659 - val_recall: 0.9719 - val_precision: 0.9811 - lr: 5.0000e-05\n",
      "Epoch 19/50\n",
      "110/110 [==============================] - 13s 115ms/step - loss: 0.2786 - accuracy: 0.9997 - recall: 1.0000 - precision: 0.9996 - val_loss: 0.4298 - val_accuracy: 0.9616 - val_recall: 0.9602 - val_precision: 0.9868 - lr: 5.0000e-05\n",
      "Epoch 20/50\n",
      "110/110 [==============================] - 13s 113ms/step - loss: 0.2589 - accuracy: 1.0000 - recall: 1.0000 - precision: 1.0000 - val_loss: 0.4171 - val_accuracy: 0.9608 - val_recall: 0.9556 - val_precision: 0.9903 - lr: 5.0000e-05\n",
      "Epoch 21/50\n",
      "110/110 [==============================] - 13s 115ms/step - loss: 0.2429 - accuracy: 0.9991 - recall: 0.9992 - precision: 0.9996 - val_loss: 0.3486 - val_accuracy: 0.9701 - val_recall: 0.9801 - val_precision: 0.9790 - lr: 5.0000e-05\n",
      "Epoch 22/50\n",
      "110/110 [==============================] - 13s 111ms/step - loss: 0.2281 - accuracy: 0.9980 - recall: 0.9988 - precision: 0.9984 - val_loss: 0.3488 - val_accuracy: 0.9761 - val_recall: 0.9918 - val_precision: 0.9758 - lr: 5.0000e-05\n",
      "Epoch 23/50\n",
      "110/110 [==============================] - 12s 109ms/step - loss: 0.2135 - accuracy: 0.9983 - recall: 0.9988 - precision: 0.9988 - val_loss: 0.3400 - val_accuracy: 0.9710 - val_recall: 0.9860 - val_precision: 0.9746 - lr: 5.0000e-05\n",
      "Epoch 24/50\n",
      "110/110 [==============================] - 12s 106ms/step - loss: 0.1968 - accuracy: 0.9986 - recall: 0.9992 - precision: 0.9988 - val_loss: 0.3814 - val_accuracy: 0.9556 - val_recall: 0.9474 - val_precision: 0.9914 - lr: 5.0000e-05\n",
      "Epoch 25/50\n",
      "110/110 [==============================] - 12s 99ms/step - loss: 0.1806 - accuracy: 1.0000 - recall: 1.0000 - precision: 1.0000 - val_loss: 0.2859 - val_accuracy: 0.9727 - val_recall: 0.9778 - val_precision: 0.9847 - lr: 5.0000e-05\n",
      "Epoch 26/50\n",
      "110/110 [==============================] - 13s 114ms/step - loss: 0.1732 - accuracy: 0.9969 - recall: 0.9980 - precision: 0.9977 - val_loss: 0.3222 - val_accuracy: 0.9701 - val_recall: 0.9871 - val_precision: 0.9724 - lr: 5.0000e-05\n",
      "Epoch 27/50\n",
      "110/110 [==============================] - 13s 113ms/step - loss: 0.1588 - accuracy: 0.9986 - recall: 0.9984 - precision: 0.9996 - val_loss: 0.5410 - val_accuracy: 0.9292 - val_recall: 0.9988 - val_precision: 0.9124 - lr: 5.0000e-05\n",
      "Epoch 28/50\n",
      "110/110 [==============================] - 14s 118ms/step - loss: 0.1536 - accuracy: 0.9972 - recall: 0.9984 - precision: 0.9977 - val_loss: 0.2451 - val_accuracy: 0.9778 - val_recall: 0.9906 - val_precision: 0.9792 - lr: 5.0000e-05\n",
      "Epoch 29/50\n",
      "110/110 [==============================] - 12s 104ms/step - loss: 0.1359 - accuracy: 0.9997 - recall: 0.9996 - precision: 1.0000 - val_loss: 0.2389 - val_accuracy: 0.9795 - val_recall: 0.9953 - val_precision: 0.9770 - lr: 5.0000e-05\n",
      "Epoch 30/50\n",
      "110/110 [==============================] - 12s 106ms/step - loss: 0.1264 - accuracy: 0.9994 - recall: 0.9996 - precision: 0.9996 - val_loss: 0.2219 - val_accuracy: 0.9761 - val_recall: 0.9906 - val_precision: 0.9769 - lr: 5.0000e-05\n",
      "Epoch 31/50\n",
      "110/110 [==============================] - 10s 83ms/step - loss: 0.1175 - accuracy: 0.9991 - recall: 0.9992 - precision: 0.9996 - val_loss: 0.3388 - val_accuracy: 0.9582 - val_recall: 0.9977 - val_precision: 0.9478 - lr: 5.0000e-05\n",
      "Epoch 32/50\n",
      "110/110 [==============================] - 11s 95ms/step - loss: 0.1093 - accuracy: 0.9991 - recall: 0.9992 - precision: 0.9996 - val_loss: 0.2195 - val_accuracy: 0.9795 - val_recall: 0.9965 - val_precision: 0.9759 - lr: 5.0000e-05\n",
      "Epoch 33/50\n",
      "110/110 [==============================] - 10s 89ms/step - loss: 0.1004 - accuracy: 1.0000 - recall: 1.0000 - precision: 1.0000 - val_loss: 0.1983 - val_accuracy: 0.9753 - val_recall: 0.9825 - val_precision: 0.9836 - lr: 5.0000e-05\n",
      "Epoch 34/50\n",
      "110/110 [==============================] - 11s 100ms/step - loss: 0.0927 - accuracy: 1.0000 - recall: 1.0000 - precision: 1.0000 - val_loss: 0.2022 - val_accuracy: 0.9795 - val_recall: 0.9918 - val_precision: 0.9803 - lr: 5.0000e-05\n",
      "Epoch 35/50\n",
      "110/110 [==============================] - 11s 101ms/step - loss: 0.0856 - accuracy: 1.0000 - recall: 1.0000 - precision: 1.0000 - val_loss: 0.1920 - val_accuracy: 0.9795 - val_recall: 0.9942 - val_precision: 0.9781 - lr: 5.0000e-05\n",
      "Epoch 36/50\n",
      "110/110 [==============================] - 11s 97ms/step - loss: 0.0788 - accuracy: 1.0000 - recall: 1.0000 - precision: 1.0000 - val_loss: 0.1649 - val_accuracy: 0.9761 - val_recall: 0.9825 - val_precision: 0.9848 - lr: 5.0000e-05\n",
      "Epoch 37/50\n",
      "110/110 [==============================] - 10s 88ms/step - loss: 0.0726 - accuracy: 0.9997 - recall: 1.0000 - precision: 0.9996 - val_loss: 0.1554 - val_accuracy: 0.9804 - val_recall: 0.9883 - val_precision: 0.9848 - lr: 5.0000e-05\n",
      "Epoch 38/50\n",
      "110/110 [==============================] - 10s 91ms/step - loss: 0.0675 - accuracy: 0.9997 - recall: 1.0000 - precision: 0.9996 - val_loss: 0.1737 - val_accuracy: 0.9753 - val_recall: 0.9789 - val_precision: 0.9870 - lr: 5.0000e-05\n",
      "Epoch 39/50\n",
      "110/110 [==============================] - 11s 97ms/step - loss: 0.0614 - accuracy: 1.0000 - recall: 1.0000 - precision: 1.0000 - val_loss: 0.1458 - val_accuracy: 0.9787 - val_recall: 0.9860 - val_precision: 0.9848 - lr: 5.0000e-05\n",
      "Epoch 40/50\n",
      "110/110 [==============================] - 12s 109ms/step - loss: 0.0559 - accuracy: 1.0000 - recall: 1.0000 - precision: 1.0000 - val_loss: 0.1428 - val_accuracy: 0.9770 - val_recall: 0.9836 - val_precision: 0.9848 - lr: 5.0000e-05\n",
      "Epoch 41/50\n",
      "110/110 [==============================] - 11s 93ms/step - loss: 0.0514 - accuracy: 1.0000 - recall: 1.0000 - precision: 1.0000 - val_loss: 0.1394 - val_accuracy: 0.9787 - val_recall: 0.9825 - val_precision: 0.9882 - lr: 5.0000e-05\n",
      "Epoch 42/50\n",
      "110/110 [==============================] - 10s 87ms/step - loss: 0.0472 - accuracy: 0.9997 - recall: 0.9996 - precision: 1.0000 - val_loss: 0.1549 - val_accuracy: 0.9761 - val_recall: 0.9813 - val_precision: 0.9859 - lr: 5.0000e-05\n",
      "Epoch 43/50\n",
      "110/110 [==============================] - 11s 99ms/step - loss: 0.0428 - accuracy: 1.0000 - recall: 1.0000 - precision: 1.0000 - val_loss: 0.2285 - val_accuracy: 0.9625 - val_recall: 0.9556 - val_precision: 0.9927 - lr: 5.0000e-05\n",
      "Epoch 44/50\n",
      "110/110 [==============================] - 11s 100ms/step - loss: 0.0412 - accuracy: 0.9994 - recall: 0.9996 - precision: 0.9996 - val_loss: 0.2121 - val_accuracy: 0.9659 - val_recall: 0.9942 - val_precision: 0.9605 - lr: 5.0000e-05\n",
      "Epoch 45/50\n",
      "110/110 [==============================] - 13s 114ms/step - loss: 0.0378 - accuracy: 0.9994 - recall: 0.9996 - precision: 0.9996 - val_loss: 0.1664 - val_accuracy: 0.9795 - val_recall: 0.9942 - val_precision: 0.9781 - lr: 1.0000e-05\n",
      "Epoch 46/50\n",
      "110/110 [==============================] - 12s 108ms/step - loss: 0.0374 - accuracy: 0.9997 - recall: 0.9996 - precision: 1.0000 - val_loss: 0.1491 - val_accuracy: 0.9829 - val_recall: 0.9942 - val_precision: 0.9827 - lr: 1.0000e-05\n"
     ]
    },
    {
     "name": "stderr",
     "output_type": "stream",
     "text": [
      "/usr/local/lib/python3.11/dist-packages/keras/src/engine/training.py:3079: UserWarning: You are saving your model as an HDF5 file via `model.save()`. This file format is considered legacy. We recommend using instead the native Keras format, e.g. `model.save('my_model.keras')`.\n",
      "  saving_api.save_model(\n"
     ]
    },
    {
     "name": "stdout",
     "output_type": "stream",
     "text": [
      "Model saved to: model_no_augmented.h5\n"
     ]
    }
   ],
   "source": [
    "# Run the training process\n",
    "model, history, test_dataset = main(train_dir, val_dir, test_dir, model_name=model_no_augmented, save_format=\"h5\")"
   ]
  },
  {
   "cell_type": "code",
   "execution_count": 27,
   "metadata": {
    "colab": {
     "base_uri": "https://localhost:8080/",
     "height": 1000
    },
    "id": "51tjzuYWKJ23",
    "outputId": "5b9ee1fe-25f5-4f73-f809-1dadb797e778"
   },
   "outputs": [
    {
     "data": {
      "image/png": "[encoded data removed]",
      "text/plain": [
       "<Figure size 800x600 with 1 Axes>"
      ]
     },
     "metadata": {},
     "output_type": "display_data"
    },
    {
     "data": {
      "image/png": "[encoded data removed]",
      "text/plain": [
       "<Figure size 800x600 with 1 Axes>"
      ]
     },
     "metadata": {},
     "output_type": "display_data"
    }
   ],
   "source": [
    "# Plotting training & validation accuracy values\n",
    "plt.figure(figsize=(8, 6))\n",
    "plt.plot(history.history['accuracy'])\n",
    "plt.plot(history.history['val_accuracy'])\n",
    "plt.title('Model accuracy')\n",
    "plt.ylabel('Accuracy')\n",
    "plt.xlabel('Epoch')\n",
    "plt.legend(['Train', 'Validation'], loc='upper left')\n",
    "plt.show()\n",
    "\n",
    "# Plotting training & validation loss values\n",
    "plt.figure(figsize=(8, 6))\n",
    "plt.plot(history.history['loss'])\n",
    "plt.plot(history.history['val_loss'])\n",
    "plt.title('Model loss')\n",
    "plt.ylabel('Loss')\n",
    "plt.xlabel('Epoch')\n",
    "plt.legend(['Train', 'Validation'], loc='upper left')\n",
    "plt.show()"
   ]
  },
  {
   "cell_type": "markdown",
   "metadata": {},
   "source": [
    "# Test Model"
   ]
  },
  {
   "cell_type": "code",
   "execution_count": 35,
   "metadata": {},
   "outputs": [
    {
     "name": "stdout",
     "output_type": "stream",
     "text": [
      "37/37 [==============================] - 3s 60ms/step - loss: 0.2034 - accuracy: 0.9726 - recall: 0.9813 - precision: 0.9813\n",
      "Test Accuracy: 0.9726\n"
     ]
    }
   ],
   "source": [
    "# Evaluate the model on the test set\n",
    "test_loss, test_accuracy, recall, precission = model.evaluate(test_dataset)\n",
    "print(f'Test Accuracy: {test_accuracy:.4f}')"
   ]
  },
  {
   "cell_type": "code",
   "execution_count": 36,
   "metadata": {
    "colab": {
     "base_uri": "https://localhost:8080/",
     "height": 1000
    },
    "id": "ssAhulPCKJ24",
    "outputId": "281c4a9e-e01d-409f-b37c-f9dd0b540ca6"
   },
   "outputs": [
    {
     "name": "stdout",
     "output_type": "stream",
     "text": [
      "1/1 [==============================] - 1s 699ms/step\n",
      "1/1 [==============================] - 0s 65ms/step\n",
      "1/1 [==============================] - 0s 32ms/step\n",
      "1/1 [==============================] - 0s 103ms/step\n",
      "1/1 [==============================] - 0s 115ms/step\n",
      "1/1 [==============================] - 0s 51ms/step\n",
      "1/1 [==============================] - 0s 35ms/step\n",
      "1/1 [==============================] - 0s 29ms/step\n",
      "1/1 [==============================] - 0s 31ms/step\n",
      "1/1 [==============================] - 0s 30ms/step\n",
      "1/1 [==============================] - 0s 31ms/step\n",
      "1/1 [==============================] - 0s 29ms/step\n",
      "1/1 [==============================] - 0s 30ms/step\n",
      "1/1 [==============================] - 0s 29ms/step\n",
      "1/1 [==============================] - 0s 29ms/step\n",
      "1/1 [==============================] - 0s 29ms/step\n",
      "1/1 [==============================] - 0s 31ms/step\n",
      "1/1 [==============================] - 0s 29ms/step\n",
      "1/1 [==============================] - 0s 30ms/step\n",
      "1/1 [==============================] - 0s 30ms/step\n",
      "1/1 [==============================] - 0s 33ms/step\n",
      "1/1 [==============================] - 0s 29ms/step\n",
      "1/1 [==============================] - 0s 29ms/step\n",
      "1/1 [==============================] - 0s 30ms/step\n",
      "1/1 [==============================] - 0s 29ms/step\n",
      "1/1 [==============================] - 0s 33ms/step\n",
      "1/1 [==============================] - 0s 29ms/step\n",
      "1/1 [==============================] - 0s 28ms/step\n",
      "1/1 [==============================] - 0s 29ms/step\n",
      "1/1 [==============================] - 0s 30ms/step\n",
      "1/1 [==============================] - 0s 32ms/step\n",
      "1/1 [==============================] - 0s 29ms/step\n",
      "1/1 [==============================] - 0s 29ms/step\n",
      "1/1 [==============================] - 0s 29ms/step\n",
      "1/1 [==============================] - 0s 28ms/step\n",
      "1/1 [==============================] - 0s 29ms/step\n",
      "1/1 [==============================] - 1s 669ms/step\n",
      "Confusion Matrix\n"
     ]
    },
    {
     "data": {
      "image/png": "[encoded data removed]",
      "text/plain": [
       "<Figure size 640x480 with 2 Axes>"
      ]
     },
     "metadata": {},
     "output_type": "display_data"
    },
    {
     "name": "stdout",
     "output_type": "stream",
     "text": [
      "              precision    recall  f1-score   support\n",
      "\n",
      "      NORMAL       0.95      0.95      0.95       316\n",
      "   PNEUMONIA       0.98      0.98      0.98       854\n",
      "\n",
      "    accuracy                           0.97      1170\n",
      "   macro avg       0.97      0.97      0.97      1170\n",
      "weighted avg       0.97      0.97      0.97      1170\n",
      "\n",
      "Test F1 Score: 0.9813\n"
     ]
    }
   ],
   "source": [
    "\n",
    "# Predict the test dataset\n",
    "y_pred = []\n",
    "y_true = []\n",
    "\n",
    "class_names = ['NORMAL', 'PNEUMONIA']  # Assuming 0 is 'NORMAL' and 1 is 'PNEUMONIA'\n",
    "\n",
    "for images, labels in test_dataset:\n",
    "    y_true.extend(labels.numpy())\n",
    "    predictions = model.predict(images)\n",
    "    y_pred.extend(predictions)\n",
    "\n",
    "# Convert predictions and true labels to numpy arrays\n",
    "y_pred = np.array(y_pred)\n",
    "y_true = np.array(y_true)\n",
    "\n",
    "# Convert probabilities to binary outcomes\n",
    "y_pred = (y_pred > 0.5).astype(int)\n",
    "\n",
    "# Confusion Matrix\n",
    "print('Confusion Matrix')\n",
    "cm = confusion_matrix(y_true, y_pred)\n",
    "sns.heatmap(cm, annot=True, fmt='d', cmap='Blues', xticklabels=class_names, yticklabels=class_names)\n",
    "plt.xlabel('Predicted')\n",
    "plt.ylabel('True')\n",
    "plt.show()\n",
    "\n",
    "\n",
    "# Classification report and F1 Score\n",
    "print(classification_report(y_true, y_pred, target_names=class_names))\n",
    "f1 = f1_score(y_true, y_pred)\n",
    "print(f'Test F1 Score: {f1:.4f}')"
   ]
  },
  {
   "cell_type": "markdown",
   "metadata": {},
   "source": [
    "# Test with Another Datasets"
   ]
  },
  {
   "cell_type": "code",
   "execution_count": null,
   "metadata": {},
   "outputs": [],
   "source": [
    "another_test_dir = root_folder + 'another_test_dir_path'"
   ]
  },
  {
   "cell_type": "code",
   "execution_count": null,
   "metadata": {},
   "outputs": [],
   "source": [
    "test_another_datasets = tf.keras.preprocessing.image_dataset_from_directory(\n",
    "    another_test_dir,\n",
    "    labels='inferred',\n",
    "    label_mode='int',\n",
    "    image_size=(224, 224),\n",
    "    shuffle=False  # Don't shuffle the test data\n",
    ")"
   ]
  },
  {
   "cell_type": "code",
   "execution_count": null,
   "metadata": {},
   "outputs": [],
   "source": [
    "# Evaluate the model on the test set\n",
    "test_loss, test_accuracy, recall, precission = model.evaluate(test_another_datasets)\n",
    "print(f'Test Accuracy: {test_accuracy:.4f}')"
   ]
  },
  {
   "cell_type": "code",
   "execution_count": null,
   "metadata": {},
   "outputs": [],
   "source": [
    "test_dataset.reset()\n",
    "# Predict the test dataset\n",
    "y_pred = []\n",
    "y_true = []\n",
    "\n",
    "class_names = ['NORMAL', 'PNEUMONIA']  # Assuming 0 is 'NORMAL' and 1 is 'PNEUMONIA'\n",
    "\n",
    "for images, labels in test_dataset:\n",
    "    y_true.extend(labels.numpy())\n",
    "    predictions = model.predict(images)\n",
    "    y_pred.extend(predictions)\n",
    "\n",
    "# Convert predictions and true labels to numpy arrays\n",
    "y_pred = np.array(y_pred)\n",
    "y_true = np.array(y_true)\n",
    "\n",
    "# Convert probabilities to binary outcomes\n",
    "y_pred = (y_pred > 0.5).astype(int)\n",
    "\n",
    "# Confusion Matrix\n",
    "print('Confusion Matrix')\n",
    "cm = confusion_matrix(y_true, y_pred)\n",
    "sns.heatmap(cm, annot=True, fmt='d', cmap='Blues', xticklabels=class_names, yticklabels=class_names)\n",
    "plt.xlabel('Predicted')\n",
    "plt.ylabel('True')\n",
    "plt.show()\n",
    "\n",
    "\n",
    "# Classification report and F1 Score\n",
    "print(classification_report(y_true, y_pred, target_names=class_names))\n",
    "f1 = f1_score(y_true, y_pred)\n",
    "print(f'Test F1 Score: {f1:.4f}')"
   ]
  },
  {
   "cell_type": "markdown",
   "metadata": {
    "id": "UirFYEOwKJ25"
   },
   "source": [
    "# Augmentasi"
   ]
  },
  {
   "cell_type": "code",
   "execution_count": 37,
   "metadata": {
    "id": "MkTNS0_BKJ25"
   },
   "outputs": [],
   "source": [
    "# Parameters\n",
    "IMG_SIZE = (224, 224)\n",
    "BATCH_SIZE = 32\n",
    "\n",
    "def create_data_generators(train_dir, val_dir, test_dir, img_size=IMG_SIZE):\n",
    "    # Data Augmentation for Training based on the paper\n",
    "    train_datagen = ImageDataGenerator(\n",
    "        rotation_range=20,        # Randomly rotate images by up to 20 degrees\n",
    "        width_shift_range=0.2,    # Shift the image horizontally by 20%\n",
    "        height_shift_range=0.2,   # Shift the image vertically by 20%\n",
    "        shear_range=0.2,          # Shear intensity (similar to cropping)\n",
    "        zoom_range=0.2,           # Random zoom by 20%\n",
    "        horizontal_flip=True,     # Flip images horizontally\n",
    "        vertical_flip=True,       # Flip images vertically\n",
    "        fill_mode='nearest'       # Fill any empty pixels after augmentation\n",
    "    )\n",
    "\n",
    "    # Validation and Test data without augmentation\n",
    "    val_datagen = ImageDataGenerator()  # No rescale\n",
    "    test_datagen = ImageDataGenerator()  # No rescale\n",
    "\n",
    "    # Prepare data generators\n",
    "    train_generator = train_datagen.flow_from_directory(\n",
    "        train_dir,\n",
    "        target_size=img_size,\n",
    "        batch_size=BATCH_SIZE,\n",
    "        class_mode='binary'\n",
    "    )\n",
    "\n",
    "    validation_generator = val_datagen.flow_from_directory(\n",
    "        val_dir,\n",
    "        target_size=img_size,\n",
    "        batch_size=BATCH_SIZE,\n",
    "        class_mode='binary'\n",
    "    )\n",
    "\n",
    "    test_generator = test_datagen.flow_from_directory(\n",
    "        test_dir,\n",
    "        target_size=img_size,\n",
    "        batch_size=BATCH_SIZE,\n",
    "        class_mode='binary',\n",
    "        shuffle=False  # Don't shuffle for testing\n",
    "    )\n",
    "\n",
    "    return train_generator, validation_generator, test_generator\n"
   ]
  },
  {
   "cell_type": "code",
   "execution_count": 38,
   "metadata": {
    "id": "SnjyRMcTKJ26"
   },
   "outputs": [],
   "source": [
    "def create_model(learning_rate=0.00005, units=512):\n",
    "    # Load the base MobileNetV2 model, excluding the top layers\n",
    "    input = tf.keras.layers.Input(shape=(224, 224, 3))\n",
    "    base_model = MobileNetV2(weights='imagenet', include_top=False, input_shape=(224,224,3))\n",
    "    base_model.trainable = True\n",
    "\n",
    "    # Add custom layers on top of it\n",
    "    x = base_model.output\n",
    "    x = GlobalAveragePooling2D()(x)\n",
    "\n",
    "    # First Dense layer with BatchNormalization and Dropout\n",
    "    x = Dense(256, activation='relu', kernel_regularizer=l2(0.001))(x)\n",
    "    x = Dropout(0.25)(x)\n",
    "\n",
    "    # Second Dense layer with BatchNormalization and Dropout\n",
    "    x = Dense(512, activation='relu', kernel_regularizer=l2(0.001))(x)\n",
    "    x = Dropout(0.25)(x)\n",
    "\n",
    "    # Output layer for binary classification\n",
    "    predictions = Dense(1, activation='sigmoid')(x)\n",
    "\n",
    "    # Create the model\n",
    "    model = Model(inputs=base_model.input, outputs=predictions)\n",
    "\n",
    "    # Compile the model with an appropriate optimizer and loss function\n",
    "    model.compile(optimizer=Adam(learning_rate=learning_rate),\n",
    "                  loss='binary_crossentropy',\n",
    "                  metrics=['accuracy', Precision(), Recall()])\n",
    "\n",
    "    return model"
   ]
  },
  {
   "cell_type": "code",
   "execution_count": 39,
   "metadata": {
    "id": "MUovut88KJ26"
   },
   "outputs": [],
   "source": [
    "# Function to train the model\n",
    "def train_model(model, train_generator, validation_generator, epochs=50):\n",
    "    # Define callbacks\n",
    "    reduce_lr = ReduceLROnPlateau(monitor='val_loss', factor=0.2, patience=3, min_lr=1e-6)\n",
    "    early_stopping = EarlyStopping(monitor='val_loss', patience=5, restore_best_weights=True)\n",
    "\n",
    "    # Fit the model\n",
    "    history = model.fit(\n",
    "        train_generator,\n",
    "        # steps_per_epoch=train_generator.samples // train_generator.batch_size,\n",
    "        validation_data=validation_generator,\n",
    "        # validation_steps=validation_generator.samples // validation_generator.batch_size,\n",
    "        epochs=epochs,\n",
    "        callbacks=[reduce_lr, early_stopping]\n",
    "    )\n",
    "\n",
    "    return history"
   ]
  },
  {
   "cell_type": "code",
   "execution_count": 40,
   "metadata": {},
   "outputs": [],
   "source": [
    "# Function to save the model\n",
    "def save_model(model, model_name=model_augmented, save_format=\"h5\"):\n",
    "    \"\"\"\n",
    "    Save the Keras model to disk.\n",
    "\n",
    "    Args:\n",
    "    model (tf.keras.Model): The trained Keras model to save.\n",
    "    model_name (str): Name of the file to save the model as (default: 'my_model').\n",
    "    save_format (str): Format to save the model, either 'h5' (default) or 'tf'.\n",
    "                       'h5' saves as HDF5 file, 'tf' saves as TensorFlow SavedModel format.\n",
    "    \n",
    "    Returns:\n",
    "    str: Path to the saved model.\n",
    "    \"\"\"\n",
    "    if save_format == 'h5':\n",
    "        model_path = f\"{model_name}.h5\"\n",
    "        model.save(model_path)\n",
    "    else:\n",
    "        model_path = model_name\n",
    "        model.save(model_path, save_format='tf')\n",
    "    \n",
    "    print(f\"Model saved to: {model_path}\")\n",
    "    return model_path"
   ]
  },
  {
   "cell_type": "code",
   "execution_count": 41,
   "metadata": {
    "id": "HLK6XZidKJ27"
   },
   "outputs": [],
   "source": [
    "# Main function to orchestrate the process\n",
    "def main(train_dir, val_dir, test_dir, model_name=model_augmented, save_format=\"h5\"):\n",
    "    # Create data generators\n",
    "    train_generator, validation_generator, test_generator = create_data_generators(train_dir, val_dir, test_dir)\n",
    "\n",
    "    # Create the model\n",
    "    model = create_model()\n",
    "\n",
    "    # Train the model\n",
    "    history = train_model(model, train_generator, validation_generator)\n",
    "\n",
    "    save_model(model, model_name, save_format=save_format)\n",
    "\n",
    "    return model, history, test_generator"
   ]
  },
  {
   "cell_type": "code",
   "execution_count": 42,
   "metadata": {
    "colab": {
     "base_uri": "https://localhost:8080/"
    },
    "id": "Zm591VCOKJ27",
    "outputId": "29647113-f2d3-4b99-cabf-f940c5c7cb2b"
   },
   "outputs": [
    {
     "name": "stdout",
     "output_type": "stream",
     "text": [
      "Found 3514 images belonging to 2 classes.\n",
      "Found 1172 images belonging to 2 classes.\n",
      "Found 1170 images belonging to 2 classes.\n",
      "Epoch 1/50\n",
      "110/110 [==============================] - 88s 648ms/step - loss: 1.0616 - accuracy: 0.8637 - precision_1: 0.9002 - recall_1: 0.9146 - val_loss: 1.8564 - val_accuracy: 0.7295 - val_precision_1: 0.7295 - val_recall_1: 1.0000 - lr: 5.0000e-05\n",
      "Epoch 2/50\n",
      "110/110 [==============================] - 69s 629ms/step - loss: 0.8954 - accuracy: 0.9405 - precision_1: 0.9594 - recall_1: 0.9590 - val_loss: 2.4611 - val_accuracy: 0.7295 - val_precision_1: 0.7295 - val_recall_1: 1.0000 - lr: 5.0000e-05\n",
      "Epoch 3/50\n",
      "110/110 [==============================] - 70s 638ms/step - loss: 0.8492 - accuracy: 0.9491 - precision_1: 0.9653 - recall_1: 0.9649 - val_loss: 1.9480 - val_accuracy: 0.7304 - val_precision_1: 0.7301 - val_recall_1: 1.0000 - lr: 5.0000e-05\n",
      "Epoch 4/50\n",
      "110/110 [==============================] - 71s 648ms/step - loss: 0.8155 - accuracy: 0.9550 - precision_1: 0.9681 - recall_1: 0.9704 - val_loss: 2.0461 - val_accuracy: 0.7304 - val_precision_1: 0.7301 - val_recall_1: 1.0000 - lr: 5.0000e-05\n",
      "Epoch 5/50\n",
      "110/110 [==============================] - 70s 637ms/step - loss: 0.7754 - accuracy: 0.9647 - precision_1: 0.9792 - recall_1: 0.9723 - val_loss: 1.6984 - val_accuracy: 0.7398 - val_precision_1: 0.7371 - val_recall_1: 1.0000 - lr: 1.0000e-05\n",
      "Epoch 6/50\n",
      "110/110 [==============================] - 68s 621ms/step - loss: 0.7812 - accuracy: 0.9607 - precision_1: 0.9753 - recall_1: 0.9707 - val_loss: 1.4023 - val_accuracy: 0.7688 - val_precision_1: 0.7598 - val_recall_1: 0.9988 - lr: 1.0000e-05\n",
      "Epoch 7/50\n",
      "110/110 [==============================] - 69s 631ms/step - loss: 0.7624 - accuracy: 0.9667 - precision_1: 0.9777 - recall_1: 0.9766 - val_loss: 1.1387 - val_accuracy: 0.8259 - val_precision_1: 0.8079 - val_recall_1: 0.9988 - lr: 1.0000e-05\n",
      "Epoch 8/50\n",
      "110/110 [==============================] - 70s 635ms/step - loss: 0.7602 - accuracy: 0.9633 - precision_1: 0.9743 - recall_1: 0.9754 - val_loss: 0.9899 - val_accuracy: 0.8814 - val_precision_1: 0.8616 - val_recall_1: 0.9977 - lr: 1.0000e-05\n",
      "Epoch 9/50\n",
      "110/110 [==============================] - 68s 623ms/step - loss: 0.7547 - accuracy: 0.9650 - precision_1: 0.9740 - recall_1: 0.9782 - val_loss: 0.9354 - val_accuracy: 0.8916 - val_precision_1: 0.8745 - val_recall_1: 0.9942 - lr: 1.0000e-05\n",
      "Epoch 10/50\n",
      "110/110 [==============================] - 67s 606ms/step - loss: 0.7483 - accuracy: 0.9664 - precision_1: 0.9770 - recall_1: 0.9770 - val_loss: 0.8574 - val_accuracy: 0.9215 - val_precision_1: 0.9098 - val_recall_1: 0.9906 - lr: 1.0000e-05\n",
      "Epoch 11/50\n",
      "110/110 [==============================] - 70s 637ms/step - loss: 0.7402 - accuracy: 0.9639 - precision_1: 0.9773 - recall_1: 0.9731 - val_loss: 0.8457 - val_accuracy: 0.9275 - val_precision_1: 0.9140 - val_recall_1: 0.9942 - lr: 1.0000e-05\n",
      "Epoch 12/50\n",
      "110/110 [==============================] - 72s 652ms/step - loss: 0.7337 - accuracy: 0.9639 - precision_1: 0.9732 - recall_1: 0.9774 - val_loss: 0.8163 - val_accuracy: 0.9394 - val_precision_1: 0.9317 - val_recall_1: 0.9895 - lr: 1.0000e-05\n",
      "Epoch 13/50\n",
      "110/110 [==============================] - 72s 651ms/step - loss: 0.7249 - accuracy: 0.9681 - precision_1: 0.9767 - recall_1: 0.9797 - val_loss: 0.7704 - val_accuracy: 0.9599 - val_precision_1: 0.9644 - val_recall_1: 0.9813 - lr: 1.0000e-05\n",
      "Epoch 14/50\n",
      "110/110 [==============================] - 73s 662ms/step - loss: 0.7217 - accuracy: 0.9644 - precision_1: 0.9784 - recall_1: 0.9727 - val_loss: 0.7658 - val_accuracy: 0.9599 - val_precision_1: 0.9633 - val_recall_1: 0.9825 - lr: 1.0000e-05\n",
      "Epoch 15/50\n",
      "110/110 [==============================] - 68s 621ms/step - loss: 0.7137 - accuracy: 0.9687 - precision_1: 0.9797 - recall_1: 0.9774 - val_loss: 0.7583 - val_accuracy: 0.9616 - val_precision_1: 0.9634 - val_recall_1: 0.9848 - lr: 1.0000e-05\n",
      "Epoch 16/50\n",
      "110/110 [==============================] - 71s 640ms/step - loss: 0.7043 - accuracy: 0.9690 - precision_1: 0.9771 - recall_1: 0.9805 - val_loss: 0.7484 - val_accuracy: 0.9599 - val_precision_1: 0.9654 - val_recall_1: 0.9801 - lr: 1.0000e-05\n",
      "Epoch 17/50\n",
      "110/110 [==============================] - 72s 653ms/step - loss: 0.6950 - accuracy: 0.9715 - precision_1: 0.9828 - recall_1: 0.9782 - val_loss: 0.7386 - val_accuracy: 0.9650 - val_precision_1: 0.9733 - val_recall_1: 0.9789 - lr: 1.0000e-05\n",
      "Epoch 18/50\n",
      "110/110 [==============================] - 69s 628ms/step - loss: 0.6960 - accuracy: 0.9673 - precision_1: 0.9785 - recall_1: 0.9766 - val_loss: 0.7351 - val_accuracy: 0.9633 - val_precision_1: 0.9754 - val_recall_1: 0.9743 - lr: 1.0000e-05\n",
      "Epoch 19/50\n",
      "110/110 [==============================] - 67s 610ms/step - loss: 0.6835 - accuracy: 0.9690 - precision_1: 0.9819 - recall_1: 0.9754 - val_loss: 0.7212 - val_accuracy: 0.9650 - val_precision_1: 0.9744 - val_recall_1: 0.9778 - lr: 1.0000e-05\n",
      "Epoch 20/50\n",
      "110/110 [==============================] - 70s 635ms/step - loss: 0.6768 - accuracy: 0.9747 - precision_1: 0.9836 - recall_1: 0.9817 - val_loss: 0.7160 - val_accuracy: 0.9659 - val_precision_1: 0.9755 - val_recall_1: 0.9778 - lr: 1.0000e-05\n",
      "Epoch 21/50\n",
      "110/110 [==============================] - 70s 634ms/step - loss: 0.6656 - accuracy: 0.9715 - precision_1: 0.9783 - recall_1: 0.9828 - val_loss: 0.7171 - val_accuracy: 0.9633 - val_precision_1: 0.9776 - val_recall_1: 0.9719 - lr: 1.0000e-05\n",
      "Epoch 22/50\n",
      "110/110 [==============================] - 69s 628ms/step - loss: 0.6629 - accuracy: 0.9713 - precision_1: 0.9820 - recall_1: 0.9785 - val_loss: 0.7049 - val_accuracy: 0.9650 - val_precision_1: 0.9788 - val_recall_1: 0.9731 - lr: 1.0000e-05\n",
      "Epoch 23/50\n",
      "110/110 [==============================] - 69s 624ms/step - loss: 0.6539 - accuracy: 0.9738 - precision_1: 0.9839 - recall_1: 0.9801 - val_loss: 0.7056 - val_accuracy: 0.9608 - val_precision_1: 0.9787 - val_recall_1: 0.9673 - lr: 1.0000e-05\n",
      "Epoch 24/50\n",
      "110/110 [==============================] - 70s 638ms/step - loss: 0.6558 - accuracy: 0.9713 - precision_1: 0.9835 - recall_1: 0.9770 - val_loss: 0.7182 - val_accuracy: 0.9539 - val_precision_1: 0.9808 - val_recall_1: 0.9556 - lr: 1.0000e-05\n",
      "Epoch 25/50\n",
      "110/110 [==============================] - 70s 636ms/step - loss: 0.6445 - accuracy: 0.9715 - precision_1: 0.9805 - recall_1: 0.9805 - val_loss: 0.6981 - val_accuracy: 0.9616 - val_precision_1: 0.9799 - val_recall_1: 0.9673 - lr: 1.0000e-05\n",
      "Epoch 26/50\n",
      "110/110 [==============================] - 71s 645ms/step - loss: 0.6348 - accuracy: 0.9747 - precision_1: 0.9840 - recall_1: 0.9813 - val_loss: 0.6987 - val_accuracy: 0.9582 - val_precision_1: 0.9809 - val_recall_1: 0.9614 - lr: 1.0000e-05\n",
      "Epoch 27/50\n",
      "110/110 [==============================] - 71s 644ms/step - loss: 0.6354 - accuracy: 0.9738 - precision_1: 0.9809 - recall_1: 0.9832 - val_loss: 0.7105 - val_accuracy: 0.9531 - val_precision_1: 0.9831 - val_recall_1: 0.9520 - lr: 1.0000e-05\n",
      "Epoch 28/50\n",
      "110/110 [==============================] - 70s 636ms/step - loss: 0.6245 - accuracy: 0.9741 - precision_1: 0.9817 - recall_1: 0.9828 - val_loss: 0.6947 - val_accuracy: 0.9599 - val_precision_1: 0.9833 - val_recall_1: 0.9614 - lr: 1.0000e-05\n",
      "Epoch 29/50\n",
      "110/110 [==============================] - 70s 634ms/step - loss: 0.6175 - accuracy: 0.9741 - precision_1: 0.9794 - recall_1: 0.9852 - val_loss: 0.7008 - val_accuracy: 0.9556 - val_precision_1: 0.9820 - val_recall_1: 0.9567 - lr: 1.0000e-05\n",
      "Epoch 30/50\n",
      "110/110 [==============================] - 70s 641ms/step - loss: 0.6057 - accuracy: 0.9789 - precision_1: 0.9882 - recall_1: 0.9828 - val_loss: 0.6883 - val_accuracy: 0.9573 - val_precision_1: 0.9832 - val_recall_1: 0.9579 - lr: 1.0000e-05\n",
      "Epoch 31/50\n",
      "110/110 [==============================] - 70s 637ms/step - loss: 0.6065 - accuracy: 0.9730 - precision_1: 0.9820 - recall_1: 0.9809 - val_loss: 0.6759 - val_accuracy: 0.9539 - val_precision_1: 0.9831 - val_recall_1: 0.9532 - lr: 1.0000e-05\n",
      "Epoch 32/50\n",
      "110/110 [==============================] - 71s 649ms/step - loss: 0.5985 - accuracy: 0.9761 - precision_1: 0.9836 - recall_1: 0.9836 - val_loss: 0.6813 - val_accuracy: 0.9514 - val_precision_1: 0.9842 - val_recall_1: 0.9485 - lr: 1.0000e-05\n",
      "Epoch 33/50\n",
      "110/110 [==============================] - 71s 645ms/step - loss: 0.5977 - accuracy: 0.9767 - precision_1: 0.9848 - recall_1: 0.9832 - val_loss: 0.6674 - val_accuracy: 0.9565 - val_precision_1: 0.9820 - val_recall_1: 0.9579 - lr: 1.0000e-05\n",
      "Epoch 34/50\n",
      "110/110 [==============================] - 71s 645ms/step - loss: 0.5886 - accuracy: 0.9787 - precision_1: 0.9856 - recall_1: 0.9852 - val_loss: 0.6661 - val_accuracy: 0.9539 - val_precision_1: 0.9808 - val_recall_1: 0.9556 - lr: 1.0000e-05\n",
      "Epoch 35/50\n",
      "110/110 [==============================] - 71s 642ms/step - loss: 0.5819 - accuracy: 0.9775 - precision_1: 0.9840 - recall_1: 0.9852 - val_loss: 0.6631 - val_accuracy: 0.9556 - val_precision_1: 0.9808 - val_recall_1: 0.9579 - lr: 1.0000e-05\n",
      "Epoch 36/50\n",
      "110/110 [==============================] - 70s 638ms/step - loss: 0.5788 - accuracy: 0.9747 - precision_1: 0.9862 - recall_1: 0.9789 - val_loss: 0.6677 - val_accuracy: 0.9548 - val_precision_1: 0.9855 - val_recall_1: 0.9520 - lr: 1.0000e-05\n",
      "Epoch 37/50\n",
      "110/110 [==============================] - 72s 656ms/step - loss: 0.5685 - accuracy: 0.9775 - precision_1: 0.9848 - recall_1: 0.9844 - val_loss: 0.6590 - val_accuracy: 0.9539 - val_precision_1: 0.9831 - val_recall_1: 0.9532 - lr: 1.0000e-05\n",
      "Epoch 38/50\n",
      "110/110 [==============================] - 70s 640ms/step - loss: 0.5678 - accuracy: 0.9769 - precision_1: 0.9833 - recall_1: 0.9852 - val_loss: 0.6676 - val_accuracy: 0.9497 - val_precision_1: 0.9818 - val_recall_1: 0.9485 - lr: 1.0000e-05\n",
      "Epoch 39/50\n",
      "110/110 [==============================] - 72s 652ms/step - loss: 0.5560 - accuracy: 0.9781 - precision_1: 0.9890 - recall_1: 0.9809 - val_loss: 0.6316 - val_accuracy: 0.9573 - val_precision_1: 0.9820 - val_recall_1: 0.9591 - lr: 1.0000e-05\n",
      "Epoch 40/50\n",
      "110/110 [==============================] - 71s 646ms/step - loss: 0.5545 - accuracy: 0.9789 - precision_1: 0.9837 - recall_1: 0.9875 - val_loss: 0.6601 - val_accuracy: 0.9531 - val_precision_1: 0.9819 - val_recall_1: 0.9532 - lr: 1.0000e-05\n",
      "Epoch 41/50\n",
      "110/110 [==============================] - 66s 601ms/step - loss: 0.5543 - accuracy: 0.9761 - precision_1: 0.9851 - recall_1: 0.9821 - val_loss: 0.6410 - val_accuracy: 0.9539 - val_precision_1: 0.9808 - val_recall_1: 0.9556 - lr: 1.0000e-05\n",
      "Epoch 42/50\n",
      "110/110 [==============================] - 70s 635ms/step - loss: 0.5409 - accuracy: 0.9789 - precision_1: 0.9875 - recall_1: 0.9836 - val_loss: 0.6150 - val_accuracy: 0.9633 - val_precision_1: 0.9810 - val_recall_1: 0.9684 - lr: 1.0000e-05\n",
      "Epoch 43/50\n",
      "110/110 [==============================] - 71s 650ms/step - loss: 0.5304 - accuracy: 0.9812 - precision_1: 0.9871 - recall_1: 0.9871 - val_loss: 0.6298 - val_accuracy: 0.9565 - val_precision_1: 0.9809 - val_recall_1: 0.9591 - lr: 1.0000e-05\n",
      "Epoch 44/50\n",
      "110/110 [==============================] - 70s 638ms/step - loss: 0.5257 - accuracy: 0.9824 - precision_1: 0.9887 - recall_1: 0.9871 - val_loss: 0.6475 - val_accuracy: 0.9522 - val_precision_1: 0.9819 - val_recall_1: 0.9520 - lr: 1.0000e-05\n",
      "Epoch 45/50\n",
      "110/110 [==============================] - 71s 646ms/step - loss: 0.5256 - accuracy: 0.9767 - precision_1: 0.9855 - recall_1: 0.9824 - val_loss: 0.6595 - val_accuracy: 0.9480 - val_precision_1: 0.9818 - val_recall_1: 0.9462 - lr: 1.0000e-05\n",
      "Epoch 46/50\n",
      "110/110 [==============================] - 71s 648ms/step - loss: 0.5216 - accuracy: 0.9821 - precision_1: 0.9871 - recall_1: 0.9883 - val_loss: 0.6658 - val_accuracy: 0.9445 - val_precision_1: 0.9853 - val_recall_1: 0.9380 - lr: 2.0000e-06\n",
      "Epoch 47/50\n",
      "110/110 [==============================] - 69s 632ms/step - loss: 0.5262 - accuracy: 0.9767 - precision_1: 0.9818 - recall_1: 0.9863 - val_loss: 0.6633 - val_accuracy: 0.9437 - val_precision_1: 0.9829 - val_recall_1: 0.9392 - lr: 2.0000e-06\n"
     ]
    },
    {
     "name": "stderr",
     "output_type": "stream",
     "text": [
      "/usr/local/lib/python3.11/dist-packages/keras/src/engine/training.py:3079: UserWarning: You are saving your model as an HDF5 file via `model.save()`. This file format is considered legacy. We recommend using instead the native Keras format, e.g. `model.save('my_model.keras')`.\n",
      "  saving_api.save_model(\n"
     ]
    },
    {
     "name": "stdout",
     "output_type": "stream",
     "text": [
      "Model saved to: model_augmented.h5\n"
     ]
    }
   ],
   "source": [
    "# Run the training process\n",
    "model, history, test_generator = main(train_dir, val_dir, test_dir, model_name=model_augmented, save_format=\"h5\")"
   ]
  },
  {
   "cell_type": "code",
   "execution_count": 44,
   "metadata": {
    "colab": {
     "base_uri": "https://localhost:8080/",
     "height": 1000
    },
    "id": "i9W_E66gKJ28",
    "outputId": "32636050-e94a-4152-a8c0-1da5803f5765"
   },
   "outputs": [
    {
     "data": {
      "image/png": "[encoded data removed]",
      "text/plain": [
       "<Figure size 800x600 with 1 Axes>"
      ]
     },
     "metadata": {},
     "output_type": "display_data"
    },
    {
     "data": {
      "image/png": "[encoded data removed]",
      "text/plain": [
       "<Figure size 800x600 with 1 Axes>"
      ]
     },
     "metadata": {},
     "output_type": "display_data"
    }
   ],
   "source": [
    "# Plotting training & validation accuracy values\n",
    "plt.figure(figsize=(8, 6))\n",
    "plt.plot(history.history['accuracy'])\n",
    "plt.plot(history.history['val_accuracy'])\n",
    "plt.title('Model accuracy')\n",
    "plt.ylabel('Accuracy')\n",
    "plt.xlabel('Epoch')\n",
    "plt.legend(['Train', 'Validation'], loc='upper left')\n",
    "plt.show()\n",
    "\n",
    "# Plotting training & validation loss values\n",
    "plt.figure(figsize=(8, 6))\n",
    "plt.plot(history.history['loss'])\n",
    "plt.plot(history.history['val_loss'])\n",
    "plt.title('Model loss')\n",
    "plt.ylabel('Loss')\n",
    "plt.xlabel('Epoch')\n",
    "plt.legend(['Train', 'Validation'], loc='upper left')\n",
    "plt.show()"
   ]
  },
  {
   "cell_type": "markdown",
   "metadata": {},
   "source": [
    "# Test Model"
   ]
  },
  {
   "cell_type": "code",
   "execution_count": 45,
   "metadata": {},
   "outputs": [
    {
     "name": "stdout",
     "output_type": "stream",
     "text": [
      "37/37 [==============================] - 16s 419ms/step - loss: 0.5971 - accuracy: 0.9658 - precision_1: 0.9755 - recall_1: 0.9778\n",
      "Test Accuracy: 0.9658\n"
     ]
    }
   ],
   "source": [
    "# Evaluate the model on the test set\n",
    "test_loss, test_accuracy, test_precision, test_recall = model.evaluate(test_generator)\n",
    "print(f'Test Accuracy: {test_accuracy:.4f}')"
   ]
  },
  {
   "cell_type": "code",
   "execution_count": 46,
   "metadata": {
    "colab": {
     "base_uri": "https://localhost:8080/",
     "height": 722
    },
    "id": "H4cKFwMvKJ28",
    "outputId": "4b2a5ab2-f67f-4f74-b690-5e3691305dca"
   },
   "outputs": [
    {
     "name": "stdout",
     "output_type": "stream",
     "text": [
      "37/37 [==============================] - 12s 290ms/step\n",
      "Confusion Matrix\n"
     ]
    },
    {
     "data": {
      "image/png": "[encoded data removed]",
      "text/plain": [
       "<Figure size 640x480 with 2 Axes>"
      ]
     },
     "metadata": {},
     "output_type": "display_data"
    },
    {
     "name": "stdout",
     "output_type": "stream",
     "text": [
      "              precision    recall  f1-score   support\n",
      "\n",
      "      NORMAL       0.94      0.93      0.94       316\n",
      "   PNEUMONIA       0.98      0.98      0.98       854\n",
      "\n",
      "    accuracy                           0.97      1170\n",
      "   macro avg       0.96      0.96      0.96      1170\n",
      "weighted avg       0.97      0.97      0.97      1170\n",
      "\n",
      "Test F1 Score: 0.9766\n"
     ]
    }
   ],
   "source": [
    "# Make sure the generator is reset before making predictions\n",
    "test_generator.reset()\n",
    "y_pred = model.predict(test_generator)\n",
    "y_pred = (y_pred > 0.5).astype(int)\n",
    "\n",
    "# Get true labels\n",
    "y_true = test_generator.classes\n",
    "\n",
    "# Define class names\n",
    "class_names = ['NORMAL', 'PNEUMONIA']  # Assuming 0 is 'NORMAL' and 1 is 'PNEUMONIA'\n",
    "\n",
    "# Confusion Matrix\n",
    "cm = confusion_matrix(y_true, y_pred)\n",
    "print('Confusion Matrix')\n",
    "sns.heatmap(cm, annot=True, fmt='d', cmap='Blues', xticklabels=class_names, yticklabels=class_names)\n",
    "plt.xlabel('Predicted')\n",
    "plt.ylabel('True')\n",
    "plt.title('Confusion Matrix')\n",
    "plt.show()\n",
    "\n",
    "# Classification report and F1 Score\n",
    "print(classification_report(y_true, y_pred, target_names=class_names))\n",
    "f1 = f1_score(y_true, y_pred)\n",
    "print(f'Test F1 Score: {f1:.4f}')"
   ]
  },
  {
   "cell_type": "markdown",
   "metadata": {},
   "source": [
    "# Test with another datasets"
   ]
  },
  {
   "cell_type": "code",
   "execution_count": null,
   "metadata": {},
   "outputs": [],
   "source": [
    "another_test_dir = root_folder + 'another_test_dir_path'"
   ]
  },
  {
   "cell_type": "code",
   "execution_count": null,
   "metadata": {},
   "outputs": [],
   "source": [
    "test_another_datasets = tf.keras.preprocessing.image_dataset_from_directory(\n",
    "    another_test_dir,\n",
    "    labels='inferred',\n",
    "    label_mode='int',\n",
    "    image_size=(224, 224),\n",
    "    shuffle=False  # Don't shuffle the test data\n",
    ")"
   ]
  },
  {
   "cell_type": "code",
   "execution_count": null,
   "metadata": {},
   "outputs": [],
   "source": [
    "# Evaluate the model on the test set\n",
    "test_loss, test_accuracy, recall, precission = model.evaluate(test_another_datasets)\n",
    "print(f'Test Accuracy: {test_accuracy:.4f}')"
   ]
  },
  {
   "cell_type": "code",
   "execution_count": null,
   "metadata": {},
   "outputs": [],
   "source": [
    "test_dataset.reset()\n",
    "# Predict the test dataset\n",
    "y_pred = []\n",
    "y_true = []\n",
    "\n",
    "class_names = ['NORMAL', 'PNEUMONIA']  # Assuming 0 is 'NORMAL' and 1 is 'PNEUMONIA'\n",
    "\n",
    "for images, labels in test_dataset:\n",
    "    y_true.extend(labels.numpy())\n",
    "    predictions = model.predict(images)\n",
    "    y_pred.extend(predictions)\n",
    "\n",
    "# Convert predictions and true labels to numpy arrays\n",
    "y_pred = np.array(y_pred)\n",
    "y_true = np.array(y_true)\n",
    "\n",
    "# Convert probabilities to binary outcomes\n",
    "y_pred = (y_pred > 0.5).astype(int)\n",
    "\n",
    "# Confusion Matrix\n",
    "print('Confusion Matrix')\n",
    "cm = confusion_matrix(y_true, y_pred)\n",
    "sns.heatmap(cm, annot=True, fmt='d', cmap='Blues', xticklabels=class_names, yticklabels=class_names)\n",
    "plt.xlabel('Predicted')\n",
    "plt.ylabel('True')\n",
    "plt.show()\n",
    "\n",
    "\n",
    "# Classification report and F1 Score\n",
    "print(classification_report(y_true, y_pred, target_names=class_names))\n",
    "f1 = f1_score(y_true, y_pred)\n",
    "print(f'Test F1 Score: {f1:.4f}')"
   ]
  },
  {
   "cell_type": "markdown",
   "metadata": {
    "id": "0FOV51T0KJ29"
   },
   "source": [
    "# Hyperparametertuning (outdated)"
   ]
  },
  {
   "cell_type": "code",
   "execution_count": null,
   "metadata": {
    "id": "VxS50xneKJ2-"
   },
   "outputs": [],
   "source": [
    "def create_model(learning_rate, units):\n",
    "    base_model = MobileNetV2(weights='imagenet', include_top=False, input_shape=(224, 224, 3))\n",
    "    x = base_model.output\n",
    "    x = GlobalAveragePooling2D()(x)\n",
    "    x = Dense(units, activation='relu')(x)\n",
    "    predictions = Dense(1, activation='sigmoid')(x)\n",
    "\n",
    "    model = Model(inputs=base_model.input, outputs=predictions)\n",
    "    model.compile(optimizer=Adam(learning_rate=learning_rate),\n",
    "                  loss='binary_crossentropy',\n",
    "                  metrics=['accuracy'])\n",
    "    return model\n"
   ]
  },
  {
   "cell_type": "code",
   "execution_count": null,
   "metadata": {
    "colab": {
     "background_save": true,
     "base_uri": "https://localhost:8080/"
    },
    "id": "8F-1xNAPKJ3I",
    "outputId": "5f82f220-c42f-4bdf-e8d6-4971a5dd9bc3"
   },
   "outputs": [
    {
     "name": "stdout",
     "output_type": "stream",
     "text": [
      "\n",
      "Training with learning_rate=0.001 and units=256\n",
      "Found 3514 images belonging to 2 classes.\n",
      "Found 1172 images belonging to 2 classes.\n",
      "Epoch 1/10\n"
     ]
    },
    {
     "name": "stderr",
     "output_type": "stream",
     "text": [
      "/usr/local/lib/python3.10/dist-packages/keras/src/trainers/data_adapters/py_dataset_adapter.py:121: UserWarning: Your `PyDataset` class should call `super().__init__(**kwargs)` in its constructor. `**kwargs` can include `workers`, `use_multiprocessing`, `max_queue_size`. Do not pass these arguments to `fit()`, as they will be ignored.\n",
      "  self._warn_if_super_not_called()\n"
     ]
    },
    {
     "name": "stdout",
     "output_type": "stream",
     "text": [
      "\u001b[1m110/110\u001b[0m \u001b[32m━━━━━━━━━━━━━━━━━━━━\u001b[0m\u001b[37m\u001b[0m \u001b[1m128s\u001b[0m 712ms/step - accuracy: 0.8948 - loss: 0.2250 - val_accuracy: 0.6246 - val_loss: 2.1496\n",
      "Epoch 2/10\n",
      "\u001b[1m110/110\u001b[0m \u001b[32m━━━━━━━━━━━━━━━━━━━━\u001b[0m\u001b[37m\u001b[0m \u001b[1m81s\u001b[0m 388ms/step - accuracy: 0.9675 - loss: 0.0884 - val_accuracy: 0.8387 - val_loss: 0.9117\n",
      "Epoch 3/10\n",
      "\u001b[1m110/110\u001b[0m \u001b[32m━━━━━━━━━━━━━━━━━━━━\u001b[0m\u001b[37m\u001b[0m \u001b[1m81s\u001b[0m 382ms/step - accuracy: 0.9733 - loss: 0.0667 - val_accuracy: 0.7935 - val_loss: 1.4040\n",
      "Epoch 4/10\n",
      "\u001b[1m110/110\u001b[0m \u001b[32m━━━━━━━━━━━━━━━━━━━━\u001b[0m\u001b[37m\u001b[0m \u001b[1m83s\u001b[0m 388ms/step - accuracy: 0.9771 - loss: 0.0648 - val_accuracy: 0.2986 - val_loss: 7.3448\n",
      "Epoch 5/10\n",
      "\u001b[1m110/110\u001b[0m \u001b[32m━━━━━━━━━━━━━━━━━━━━\u001b[0m\u001b[37m\u001b[0m \u001b[1m80s\u001b[0m 382ms/step - accuracy: 0.9829 - loss: 0.0511 - val_accuracy: 0.2705 - val_loss: 12.0726\n",
      "\u001b[1m74/74\u001b[0m \u001b[32m━━━━━━━━━━━━━━━━━━━━\u001b[0m\u001b[37m\u001b[0m \u001b[1m11s\u001b[0m 149ms/step - accuracy: 0.8400 - loss: 0.9331\n",
      "Validation accuracy: 0.8387371897697449\n",
      "\n",
      "Training with learning_rate=0.001 and units=512\n",
      "Found 3514 images belonging to 2 classes.\n",
      "Found 1172 images belonging to 2 classes.\n",
      "Epoch 1/10\n",
      "\u001b[1m110/110\u001b[0m \u001b[32m━━━━━━━━━━━━━━━━━━━━\u001b[0m\u001b[37m\u001b[0m \u001b[1m112s\u001b[0m 613ms/step - accuracy: 0.9166 - loss: 0.2174 - val_accuracy: 0.7295 - val_loss: 12.7755\n",
      "Epoch 2/10\n",
      "\u001b[1m110/110\u001b[0m \u001b[32m━━━━━━━━━━━━━━━━━━━━\u001b[0m\u001b[37m\u001b[0m \u001b[1m98s\u001b[0m 382ms/step - accuracy: 0.9661 - loss: 0.1042 - val_accuracy: 0.7295 - val_loss: 5.1161\n",
      "Epoch 3/10\n",
      "\u001b[1m110/110\u001b[0m \u001b[32m━━━━━━━━━━━━━━━━━━━━\u001b[0m\u001b[37m\u001b[0m \u001b[1m44s\u001b[0m 382ms/step - accuracy: 0.9743 - loss: 0.0800 - val_accuracy: 0.9181 - val_loss: 0.3638\n",
      "Epoch 4/10\n",
      "\u001b[1m110/110\u001b[0m \u001b[32m━━━━━━━━━━━━━━━━━━━━\u001b[0m\u001b[37m\u001b[0m \u001b[1m56s\u001b[0m 493ms/step - accuracy: 0.9832 - loss: 0.0518 - val_accuracy: 0.9300 - val_loss: 0.2642\n",
      "Epoch 5/10\n",
      "\u001b[1m110/110\u001b[0m \u001b[32m━━━━━━━━━━━━━━━━━━━━\u001b[0m\u001b[37m\u001b[0m \u001b[1m81s\u001b[0m 483ms/step - accuracy: 0.9851 - loss: 0.0481 - val_accuracy: 0.8106 - val_loss: 1.3812\n",
      "Epoch 6/10\n",
      "\u001b[1m110/110\u001b[0m \u001b[32m━━━━━━━━━━━━━━━━━━━━\u001b[0m\u001b[37m\u001b[0m \u001b[1m73s\u001b[0m 396ms/step - accuracy: 0.9826 - loss: 0.0545 - val_accuracy: 0.9019 - val_loss: 0.4659\n",
      "Epoch 7/10\n",
      "\u001b[1m110/110\u001b[0m \u001b[32m━━━━━━━━━━━━━━━━━━━━\u001b[0m\u001b[37m\u001b[0m \u001b[1m44s\u001b[0m 385ms/step - accuracy: 0.9837 - loss: 0.0385 - val_accuracy: 0.6374 - val_loss: 4.2955\n",
      "\u001b[1m74/74\u001b[0m \u001b[32m━━━━━━━━━━━━━━━━━━━━\u001b[0m\u001b[37m\u001b[0m \u001b[1m11s\u001b[0m 144ms/step - accuracy: 0.9320 - loss: 0.2763\n",
      "Validation accuracy: 0.9300341010093689\n",
      "\n",
      "Training with learning_rate=0.0001 and units=256\n",
      "Found 3514 images belonging to 2 classes.\n",
      "Found 1172 images belonging to 2 classes.\n",
      "Epoch 1/10\n",
      "\u001b[1m110/110\u001b[0m \u001b[32m━━━━━━━━━━━━━━━━━━━━\u001b[0m\u001b[37m\u001b[0m \u001b[1m104s\u001b[0m 575ms/step - accuracy: 0.8944 - loss: 0.2470 - val_accuracy: 0.7295 - val_loss: 1.2664\n",
      "Epoch 2/10\n",
      "\u001b[1m110/110\u001b[0m \u001b[32m━━━━━━━━━━━━━━━━━━━━\u001b[0m\u001b[37m\u001b[0m \u001b[1m45s\u001b[0m 385ms/step - accuracy: 0.9889 - loss: 0.0396 - val_accuracy: 0.7295 - val_loss: 1.3250\n",
      "Epoch 3/10\n",
      "\u001b[1m110/110\u001b[0m \u001b[32m━━━━━━━━━━━━━━━━━━━━\u001b[0m\u001b[37m\u001b[0m \u001b[1m45s\u001b[0m 393ms/step - accuracy: 0.9941 - loss: 0.0180 - val_accuracy: 0.7483 - val_loss: 0.6833\n",
      "Epoch 4/10\n",
      "\u001b[1m110/110\u001b[0m \u001b[32m━━━━━━━━━━━━━━━━━━━━\u001b[0m\u001b[37m\u001b[0m \u001b[1m81s\u001b[0m 383ms/step - accuracy: 0.9951 - loss: 0.0145 - val_accuracy: 0.7329 - val_loss: 1.4797\n",
      "Epoch 5/10\n",
      "\u001b[1m110/110\u001b[0m \u001b[32m━━━━━━━━━━━━━━━━━━━━\u001b[0m\u001b[37m\u001b[0m \u001b[1m43s\u001b[0m 376ms/step - accuracy: 0.9937 - loss: 0.0160 - val_accuracy: 0.7756 - val_loss: 0.9936\n",
      "Epoch 6/10\n",
      "\u001b[1m110/110\u001b[0m \u001b[32m━━━━━━━━━━━━━━━━━━━━\u001b[0m\u001b[37m\u001b[0m \u001b[1m45s\u001b[0m 386ms/step - accuracy: 0.9986 - loss: 0.0047 - val_accuracy: 0.8302 - val_loss: 0.6695\n",
      "Epoch 7/10\n",
      "\u001b[1m110/110\u001b[0m \u001b[32m━━━━━━━━━━━━━━━━━━━━\u001b[0m\u001b[37m\u001b[0m \u001b[1m54s\u001b[0m 474ms/step - accuracy: 0.9968 - loss: 0.0080 - val_accuracy: 0.8908 - val_loss: 0.4868\n",
      "Epoch 8/10\n",
      "\u001b[1m110/110\u001b[0m \u001b[32m━━━━━━━━━━━━━━━━━━━━\u001b[0m\u001b[37m\u001b[0m \u001b[1m44s\u001b[0m 382ms/step - accuracy: 0.9972 - loss: 0.0113 - val_accuracy: 0.8183 - val_loss: 0.9759\n",
      "Epoch 9/10\n",
      "\u001b[1m110/110\u001b[0m \u001b[32m━━━━━━━━━━━━━━━━━━━━\u001b[0m\u001b[37m\u001b[0m \u001b[1m81s\u001b[0m 378ms/step - accuracy: 0.9960 - loss: 0.0147 - val_accuracy: 0.8669 - val_loss: 0.7362\n",
      "Epoch 10/10\n",
      "\u001b[1m110/110\u001b[0m \u001b[32m━━━━━━━━━━━━━━━━━━━━\u001b[0m\u001b[37m\u001b[0m \u001b[1m43s\u001b[0m 378ms/step - accuracy: 0.9993 - loss: 0.0038 - val_accuracy: 0.9087 - val_loss: 0.4872\n",
      "\u001b[1m74/74\u001b[0m \u001b[32m━━━━━━━━━━━━━━━━━━━━\u001b[0m\u001b[37m\u001b[0m \u001b[1m11s\u001b[0m 145ms/step - accuracy: 0.8972 - loss: 0.4342\n",
      "Validation accuracy: 0.8907849788665771\n",
      "\n",
      "Training with learning_rate=0.0001 and units=512\n",
      "Found 3514 images belonging to 2 classes.\n",
      "Found 1172 images belonging to 2 classes.\n",
      "Epoch 1/10\n",
      "\u001b[1m110/110\u001b[0m \u001b[32m━━━━━━━━━━━━━━━━━━━━\u001b[0m\u001b[37m\u001b[0m \u001b[1m107s\u001b[0m 606ms/step - accuracy: 0.8801 - loss: 0.2513 - val_accuracy: 0.8387 - val_loss: 0.3135\n",
      "Epoch 2/10\n",
      "\u001b[1m110/110\u001b[0m \u001b[32m━━━━━━━━━━━━━━━━━━━━\u001b[0m\u001b[37m\u001b[0m \u001b[1m50s\u001b[0m 431ms/step - accuracy: 0.9888 - loss: 0.0450 - val_accuracy: 0.9241 - val_loss: 0.1710\n",
      "Epoch 3/10\n",
      "\u001b[1m110/110\u001b[0m \u001b[32m━━━━━━━━━━━━━━━━━━━━\u001b[0m\u001b[37m\u001b[0m \u001b[1m51s\u001b[0m 435ms/step - accuracy: 0.9958 - loss: 0.0145 - val_accuracy: 0.8942 - val_loss: 0.3071\n",
      "Epoch 4/10\n",
      "\u001b[1m110/110\u001b[0m \u001b[32m━━━━━━━━━━━━━━━━━━━━\u001b[0m\u001b[37m\u001b[0m \u001b[1m82s\u001b[0m 441ms/step - accuracy: 0.9983 - loss: 0.0080 - val_accuracy: 0.8575 - val_loss: 0.4253\n",
      "Epoch 5/10\n",
      "\u001b[1m110/110\u001b[0m \u001b[32m━━━━━━━━━━━━━━━━━━━━\u001b[0m\u001b[37m\u001b[0m \u001b[1m82s\u001b[0m 440ms/step - accuracy: 0.9953 - loss: 0.0103 - val_accuracy: 0.7892 - val_loss: 0.9308\n",
      "\u001b[1m74/74\u001b[0m \u001b[32m━━━━━━━━━━━━━━━━━━━━\u001b[0m\u001b[37m\u001b[0m \u001b[1m11s\u001b[0m 147ms/step - accuracy: 0.9164 - loss: 0.1878\n",
      "Validation accuracy: 0.9240614175796509\n"
     ]
    }
   ],
   "source": [
    "# Grid search parameters\n",
    "learning_rates = [1e-3, 1e-4]\n",
    "units_list = [256, 512]\n",
    "\n",
    "# List to store results\n",
    "results = []\n",
    "\n",
    "# Grid search loop\n",
    "for lr in learning_rates:\n",
    "    for units in units_list:\n",
    "        print(f\"\\nTraining with learning_rate={lr} and units={units}\")\n",
    "\n",
    "        # Clear session to reset the model state\n",
    "        tf.keras.backend.clear_session()\n",
    "\n",
    "        # Create model\n",
    "        model = create_model(learning_rate=lr, units=units)\n",
    "\n",
    "        # Prepare the data generators\n",
    "        train_datagen = ImageDataGenerator(rescale=1./255)\n",
    "        train_generator = train_datagen.flow_from_directory(\n",
    "            train_dir,\n",
    "            target_size=(224, 224),\n",
    "            batch_size=32,\n",
    "            class_mode='binary'\n",
    "        )\n",
    "\n",
    "        val_datagen = ImageDataGenerator(rescale=1./255)\n",
    "        val_generator = val_datagen.flow_from_directory(\n",
    "            val_dir,\n",
    "            target_size=(224, 224),\n",
    "            batch_size=16,\n",
    "            class_mode='binary'\n",
    "        )\n",
    "\n",
    "        # Define callbacks\n",
    "        early_stopping = EarlyStopping(monitor='val_loss', patience=3, restore_best_weights=True)\n",
    "\n",
    "        # Train the model\n",
    "        history = model.fit(\n",
    "            train_generator,\n",
    "            epochs=10,\n",
    "            validation_data=val_generator,\n",
    "            callbacks=[early_stopping]\n",
    "        )\n",
    "\n",
    "        # Evaluate the model\n",
    "        val_loss, val_acc = model.evaluate(val_generator)\n",
    "        print(f\"Validation accuracy: {val_acc}\")\n",
    "\n",
    "        # Append results\n",
    "        results.append({\n",
    "            'learning_rate': lr,\n",
    "            'units': units,\n",
    "            'val_accuracy': val_acc\n",
    "        })\n",
    "\n",
    "# Convert results to DataFrame for analysis\n",
    "df_results = pd.DataFrame(results)\n",
    "\n",
    "# Find the best parameters\n",
    "best_params = df_results.loc[df_results['val_accuracy'].idxmax()]"
   ]
  },
  {
   "cell_type": "code",
   "execution_count": null,
   "metadata": {
    "colab": {
     "background_save": true
    },
    "id": "SeKYwyZeKJ3J",
    "outputId": "7c03abc8-8759-490a-da13-922fa97db577"
   },
   "outputs": [
    {
     "name": "stdout",
     "output_type": "stream",
     "text": [
      "\n",
      "Best Parameters:\n",
      "learning_rate      0.001000\n",
      "units            512.000000\n",
      "val_accuracy       0.930034\n",
      "Name: 1, dtype: float64\n"
     ]
    }
   ],
   "source": [
    "print(\"\\nBest Parameters:\")\n",
    "print(best_params)"
   ]
  },
  {
   "cell_type": "code",
   "execution_count": null,
   "metadata": {
    "colab": {
     "background_save": true
    },
    "id": "qkZhwiG3KJ3K",
    "outputId": "da6af4d6-8f2e-485b-a846-4f291dc93407"
   },
   "outputs": [
    {
     "data": {
      "image/png": "[encoded data removed]",
      "text/plain": [
       "<Figure size 1000x600 with 2 Axes>"
      ]
     },
     "metadata": {},
     "output_type": "display_data"
    }
   ],
   "source": [
    "# Create a pivot table\n",
    "pivot_df = df_results.pivot_table(index='learning_rate', columns='units', values='val_accuracy')\n",
    "\n",
    "# Plot the results\n",
    "plt.figure(figsize=(10, 6))\n",
    "sns.heatmap(pivot_df, annot=True, fmt='.3f', cmap='viridis')\n",
    "plt.title('Validation Accuracy for Different Parameter Combinations')\n",
    "plt.show()"
   ]
  },
  {
   "cell_type": "markdown",
   "metadata": {
    "id": "q4VL0GU1KJ3K"
   },
   "source": [
    "# Time and Inference"
   ]
  },
  {
   "cell_type": "code",
   "execution_count": 18,
   "metadata": {
    "colab": {
     "background_save": true
    },
    "id": "Oq7sf45SKJ3K"
   },
   "outputs": [],
   "source": [
    "from tensorflow.keras.preprocessing import image\n",
    "from tensorflow.keras.applications.mobilenet_v2 import preprocess_input\n",
    "import time"
   ]
  },
  {
   "cell_type": "code",
   "execution_count": 19,
   "metadata": {
    "colab": {
     "background_save": true
    },
    "id": "6Ci9JMzcKJ3L"
   },
   "outputs": [],
   "source": [
    "def create_mobilenetv2_model(input_shape=(224, 224, 3), num_classes=2):\n",
    "    base_model = MobileNetV2(input_shape=input_shape, weights='imagenet', include_top=False)\n",
    "    model = tf.keras.Sequential([\n",
    "        base_model,\n",
    "        tf.keras.layers.GlobalAveragePooling2D(),\n",
    "        tf.keras.layers.Dense(num_classes, activation='softmax')\n",
    "    ])\n",
    "    return model"
   ]
  },
  {
   "cell_type": "code",
   "execution_count": 20,
   "metadata": {
    "colab": {
     "background_save": true
    },
    "id": "rf0kWNnhX8R4"
   },
   "outputs": [],
   "source": [
    "def create_datasets_for_time(train_dir, val_dir, test_dir, img_size=(260, 260)):\n",
    "    train_dataset = tf.keras.preprocessing.image_dataset_from_directory(\n",
    "        train_dir,\n",
    "        labels='inferred',\n",
    "        label_mode='int',\n",
    "        image_size=img_size,\n",
    "        shuffle=True,\n",
    "        seed=123\n",
    "    )\n",
    "\n",
    "    val_dataset = tf.keras.preprocessing.image_dataset_from_directory(\n",
    "        val_dir,\n",
    "        labels='inferred',\n",
    "        label_mode='int',\n",
    "        image_size=img_size,\n",
    "        shuffle=False,\n",
    "        seed=123\n",
    "    )\n",
    "\n",
    "    test_dataset = tf.keras.preprocessing.image_dataset_from_directory(\n",
    "        test_dir,\n",
    "        labels='inferred',\n",
    "        label_mode='int',\n",
    "        image_size=img_size,\n",
    "        shuffle=False  # Don't shuffle the test data\n",
    "    )\n",
    "\n",
    "    return train_dataset, val_dataset, test_dataset"
   ]
  },
  {
   "cell_type": "code",
   "execution_count": 23,
   "metadata": {
    "id": "eaYJf9pMWExK"
   },
   "outputs": [
    {
     "name": "stdout",
     "output_type": "stream",
     "text": [
      "\n",
      "Creating and training model with input size (128, 128, 3)...\n",
      "Downloading data from https://storage.googleapis.com/tensorflow/keras-applications/mobilenet_v2/mobilenet_v2_weights_tf_dim_ordering_tf_kernels_1.0_128_no_top.h5\n",
      "9406464/9406464 [==============================] - 0s 0us/step\n",
      "Found 3514 files belonging to 2 classes.\n",
      "Found 1172 files belonging to 2 classes.\n",
      "Found 1170 files belonging to 2 classes.\n",
      "Epoch 1/10\n",
      "110/110 [==============================] - 24s 55ms/step - loss: 0.7504 - accuracy: 0.9294 - recall_1: 0.9622 - precision_1: 0.9423 - val_loss: 15.5574 - val_accuracy: 0.2722 - val_recall_1: 0.0023 - val_precision_1: 1.0000\n",
      "Epoch 2/10\n",
      "110/110 [==============================] - 5s 44ms/step - loss: 0.4145 - accuracy: 0.9525 - recall_1: 0.9793 - precision_1: 0.9566 - val_loss: 13.5682 - val_accuracy: 0.2756 - val_recall_1: 0.0070 - val_precision_1: 1.0000\n",
      "Epoch 3/10\n",
      "110/110 [==============================] - 5s 46ms/step - loss: 0.2342 - accuracy: 0.9710 - recall_1: 0.9860 - precision_1: 0.9746 - val_loss: 19.8387 - val_accuracy: 0.2713 - val_recall_1: 0.0012 - val_precision_1: 1.0000\n",
      "Epoch 4/10\n",
      "110/110 [==============================] - 5s 43ms/step - loss: 0.1484 - accuracy: 0.9792 - recall_1: 0.9895 - precision_1: 0.9822 - val_loss: 21.4475 - val_accuracy: 0.2722 - val_recall_1: 0.0023 - val_precision_1: 1.0000\n",
      "Epoch 5/10\n",
      "110/110 [==============================] - 5s 46ms/step - loss: 0.1019 - accuracy: 0.9829 - recall_1: 0.9899 - precision_1: 0.9868 - val_loss: 21.7907 - val_accuracy: 0.2986 - val_recall_1: 0.0386 - val_precision_1: 1.0000\n",
      "Epoch 6/10\n",
      "110/110 [==============================] - 5s 43ms/step - loss: 0.0988 - accuracy: 0.9764 - recall_1: 0.9836 - precision_1: 0.9840 - val_loss: 21.3361 - val_accuracy: 0.3055 - val_recall_1: 0.0480 - val_precision_1: 1.0000\n",
      "Epoch 7/10\n",
      "110/110 [==============================] - 5s 46ms/step - loss: 0.0803 - accuracy: 0.9821 - recall_1: 0.9891 - precision_1: 0.9864 - val_loss: 0.7780 - val_accuracy: 0.9258 - val_recall_1: 0.9193 - val_precision_1: 0.9776\n",
      "Epoch 8/10\n",
      "110/110 [==============================] - 5s 44ms/step - loss: 0.0625 - accuracy: 0.9835 - recall_1: 0.9899 - precision_1: 0.9875 - val_loss: 38.0851 - val_accuracy: 0.2782 - val_recall_1: 0.0105 - val_precision_1: 1.0000\n",
      "Epoch 9/10\n",
      "110/110 [==============================] - 5s 46ms/step - loss: 0.0494 - accuracy: 0.9849 - recall_1: 0.9914 - precision_1: 0.9880 - val_loss: 6.0653 - val_accuracy: 0.7594 - val_recall_1: 0.6737 - val_precision_1: 0.9948\n",
      "Epoch 10/10\n",
      "110/110 [==============================] - 5s 45ms/step - loss: 0.0303 - accuracy: 0.9926 - recall_1: 0.9953 - precision_1: 0.9945 - val_loss: 7.1213 - val_accuracy: 0.7773 - val_recall_1: 0.6947 - val_precision_1: 1.0000\n",
      "Training complete for input size (128, 128, 3)\n",
      "Total training time for input size (128, 128, 3): 69.54 seconds\n",
      "Final validation accuracy for input size (128, 128, 3): 0.7773\n",
      "\n",
      "\n",
      "Creating and training model with input size (160, 160, 3)...\n",
      "Downloading data from https://storage.googleapis.com/tensorflow/keras-applications/mobilenet_v2/mobilenet_v2_weights_tf_dim_ordering_tf_kernels_1.0_160_no_top.h5\n",
      "9406464/9406464 [==============================] - 0s 0us/step\n",
      "Found 3514 files belonging to 2 classes.\n",
      "Found 1172 files belonging to 2 classes.\n",
      "Found 1170 files belonging to 2 classes.\n",
      "Epoch 1/10\n",
      "110/110 [==============================] - 24s 59ms/step - loss: 0.7461 - accuracy: 0.9328 - recall_2: 0.9633 - precision_2: 0.9456 - val_loss: 1.9360 - val_accuracy: 0.7824 - val_recall_2: 0.7088 - val_precision_2: 0.9902\n",
      "Epoch 2/10\n",
      "110/110 [==============================] - 5s 46ms/step - loss: 0.4022 - accuracy: 0.9610 - recall_2: 0.9754 - precision_2: 0.9713 - val_loss: 0.7611 - val_accuracy: 0.9317 - val_recall_2: 0.9766 - val_precision_2: 0.9330\n",
      "Epoch 3/10\n",
      "110/110 [==============================] - 5s 46ms/step - loss: 0.2310 - accuracy: 0.9730 - recall_2: 0.9828 - precision_2: 0.9802 - val_loss: 0.5207 - val_accuracy: 0.9386 - val_recall_2: 0.9287 - val_precision_2: 0.9863\n",
      "Epoch 4/10\n",
      "110/110 [==============================] - 5s 46ms/step - loss: 0.1453 - accuracy: 0.9775 - recall_2: 0.9856 - precision_2: 0.9837 - val_loss: 19.2531 - val_accuracy: 0.2790 - val_recall_2: 0.0117 - val_precision_2: 1.0000\n",
      "Epoch 5/10\n",
      "110/110 [==============================] - 5s 48ms/step - loss: 0.1105 - accuracy: 0.9798 - recall_2: 0.9875 - precision_2: 0.9848 - val_loss: 17.1159 - val_accuracy: 0.2790 - val_recall_2: 0.0117 - val_precision_2: 1.0000\n",
      "Epoch 6/10\n",
      "110/110 [==============================] - 5s 48ms/step - loss: 0.0928 - accuracy: 0.9792 - recall_2: 0.9879 - precision_2: 0.9837 - val_loss: 15.5591 - val_accuracy: 0.2790 - val_recall_2: 0.0117 - val_precision_2: 1.0000\n",
      "Epoch 7/10\n",
      "110/110 [==============================] - 5s 48ms/step - loss: 0.0746 - accuracy: 0.9815 - recall_2: 0.9875 - precision_2: 0.9871 - val_loss: 11.1664 - val_accuracy: 0.3831 - val_recall_2: 0.1544 - val_precision_2: 1.0000\n",
      "Epoch 8/10\n",
      "110/110 [==============================] - 5s 46ms/step - loss: 0.0549 - accuracy: 0.9878 - recall_2: 0.9930 - precision_2: 0.9903 - val_loss: 2.7777 - val_accuracy: 0.6596 - val_recall_2: 0.5333 - val_precision_2: 1.0000\n",
      "Epoch 9/10\n",
      "110/110 [==============================] - 5s 43ms/step - loss: 0.0594 - accuracy: 0.9843 - recall_2: 0.9895 - precision_2: 0.9891 - val_loss: 11.2158 - val_accuracy: 0.4155 - val_recall_2: 0.1988 - val_precision_2: 1.0000\n",
      "Epoch 10/10\n",
      "110/110 [==============================] - 5s 44ms/step - loss: 0.0479 - accuracy: 0.9878 - recall_2: 0.9938 - precision_2: 0.9895 - val_loss: 14.6904 - val_accuracy: 0.3959 - val_recall_2: 0.1719 - val_precision_2: 1.0000\n",
      "Training complete for input size (160, 160, 3)\n",
      "Total training time for input size (160, 160, 3): 71.55 seconds\n",
      "Final validation accuracy for input size (160, 160, 3): 0.3959\n",
      "\n",
      "\n",
      "Creating and training model with input size (192, 192, 3)...\n",
      "Downloading data from https://storage.googleapis.com/tensorflow/keras-applications/mobilenet_v2/mobilenet_v2_weights_tf_dim_ordering_tf_kernels_1.0_192_no_top.h5\n",
      "9406464/9406464 [==============================] - 0s 0us/step\n",
      "Found 3514 files belonging to 2 classes.\n",
      "Found 1172 files belonging to 2 classes.\n",
      "Found 1170 files belonging to 2 classes.\n",
      "Epoch 1/10\n",
      "110/110 [==============================] - 24s 60ms/step - loss: 0.7190 - accuracy: 0.9380 - recall_3: 0.9692 - precision_3: 0.9470 - val_loss: 12.5747 - val_accuracy: 0.2816 - val_recall_3: 0.0152 - val_precision_3: 1.0000\n",
      "Epoch 2/10\n",
      "110/110 [==============================] - 6s 50ms/step - loss: 0.3676 - accuracy: 0.9636 - recall_3: 0.9844 - precision_3: 0.9663 - val_loss: 15.9226 - val_accuracy: 0.2799 - val_recall_3: 0.0129 - val_precision_3: 1.0000\n",
      "Epoch 3/10\n",
      "110/110 [==============================] - 5s 49ms/step - loss: 0.2215 - accuracy: 0.9656 - recall_3: 0.9801 - precision_3: 0.9729 - val_loss: 16.9285 - val_accuracy: 0.2799 - val_recall_3: 0.0129 - val_precision_3: 1.0000\n",
      "Epoch 4/10\n",
      "110/110 [==============================] - 5s 49ms/step - loss: 0.1388 - accuracy: 0.9792 - recall_3: 0.9871 - precision_3: 0.9844 - val_loss: 19.5906 - val_accuracy: 0.2739 - val_recall_3: 0.0047 - val_precision_3: 1.0000\n",
      "Epoch 5/10\n",
      "110/110 [==============================] - 5s 48ms/step - loss: 0.1163 - accuracy: 0.9789 - recall_3: 0.9902 - precision_3: 0.9811 - val_loss: 5.3837 - val_accuracy: 0.5503 - val_recall_3: 0.3836 - val_precision_3: 1.0000\n",
      "Epoch 6/10\n",
      "110/110 [==============================] - 6s 50ms/step - loss: 0.1010 - accuracy: 0.9784 - recall_3: 0.9875 - precision_3: 0.9829 - val_loss: 2.4316 - val_accuracy: 0.7125 - val_recall_3: 0.6058 - val_precision_3: 1.0000\n",
      "Epoch 7/10\n",
      "110/110 [==============================] - 6s 50ms/step - loss: 0.0708 - accuracy: 0.9829 - recall_3: 0.9891 - precision_3: 0.9875 - val_loss: 4.0084 - val_accuracy: 0.6092 - val_recall_3: 0.4643 - val_precision_3: 1.0000\n",
      "Epoch 8/10\n",
      "110/110 [==============================] - 6s 50ms/step - loss: 0.0619 - accuracy: 0.9872 - recall_3: 0.9922 - precision_3: 0.9903 - val_loss: 4.4450 - val_accuracy: 0.4727 - val_recall_3: 0.2772 - val_precision_3: 1.0000\n",
      "Epoch 9/10\n",
      "110/110 [==============================] - 5s 49ms/step - loss: 0.0589 - accuracy: 0.9846 - recall_3: 0.9895 - precision_3: 0.9895 - val_loss: 1.7678 - val_accuracy: 0.7167 - val_recall_3: 0.6140 - val_precision_3: 0.9962\n",
      "Epoch 10/10\n",
      "110/110 [==============================] - 5s 47ms/step - loss: 0.0756 - accuracy: 0.9789 - recall_3: 0.9875 - precision_3: 0.9837 - val_loss: 14.5699 - val_accuracy: 0.2713 - val_recall_3: 0.0012 - val_precision_3: 1.0000\n",
      "Training complete for input size (192, 192, 3)\n",
      "Total training time for input size (192, 192, 3): 74.26 seconds\n",
      "Final validation accuracy for input size (192, 192, 3): 0.2713\n",
      "\n",
      "\n",
      "Creating and training model with input size (224, 224, 3)...\n",
      "Found 3514 files belonging to 2 classes.\n",
      "Found 1172 files belonging to 2 classes.\n",
      "Found 1170 files belonging to 2 classes.\n",
      "Epoch 1/10\n",
      "110/110 [==============================] - 25s 64ms/step - loss: 0.6975 - accuracy: 0.9337 - recall_4: 0.9622 - precision_4: 0.9478 - val_loss: 3.6998 - val_accuracy: 0.7816 - val_recall_4: 0.9930 - val_precision_4: 0.7725\n",
      "Epoch 2/10\n",
      "110/110 [==============================] - 6s 54ms/step - loss: 0.3418 - accuracy: 0.9616 - recall_4: 0.9813 - precision_4: 0.9666 - val_loss: 5.9846 - val_accuracy: 0.5196 - val_recall_4: 0.3415 - val_precision_4: 1.0000\n",
      "Epoch 3/10\n",
      "110/110 [==============================] - 6s 52ms/step - loss: 0.2000 - accuracy: 0.9696 - recall_4: 0.9832 - precision_4: 0.9752 - val_loss: 9.0242 - val_accuracy: 0.3046 - val_recall_4: 0.0468 - val_precision_4: 1.0000\n",
      "Epoch 4/10\n",
      "110/110 [==============================] - 6s 51ms/step - loss: 0.1408 - accuracy: 0.9775 - recall_4: 0.9852 - precision_4: 0.9840 - val_loss: 5.2801 - val_accuracy: 0.3626 - val_recall_4: 0.1263 - val_precision_4: 1.0000\n",
      "Epoch 5/10\n",
      "110/110 [==============================] - 6s 53ms/step - loss: 0.0937 - accuracy: 0.9815 - recall_4: 0.9891 - precision_4: 0.9856 - val_loss: 5.7388 - val_accuracy: 0.5785 - val_recall_4: 0.4222 - val_precision_4: 1.0000\n",
      "Epoch 6/10\n",
      "110/110 [==============================] - 6s 53ms/step - loss: 0.0834 - accuracy: 0.9849 - recall_4: 0.9930 - precision_4: 0.9864 - val_loss: 10.7220 - val_accuracy: 0.4522 - val_recall_4: 0.2491 - val_precision_4: 1.0000\n",
      "Epoch 7/10\n",
      "110/110 [==============================] - 6s 54ms/step - loss: 0.0765 - accuracy: 0.9798 - recall_4: 0.9875 - precision_4: 0.9848 - val_loss: 2.0133 - val_accuracy: 0.7381 - val_recall_4: 0.6433 - val_precision_4: 0.9964\n",
      "Epoch 8/10\n",
      "110/110 [==============================] - 6s 52ms/step - loss: 0.0581 - accuracy: 0.9866 - recall_4: 0.9930 - precision_4: 0.9887 - val_loss: 1.2485 - val_accuracy: 0.8592 - val_recall_4: 0.8152 - val_precision_4: 0.9901\n",
      "Epoch 9/10\n",
      "110/110 [==============================] - 6s 53ms/step - loss: 0.0626 - accuracy: 0.9798 - recall_4: 0.9852 - precision_4: 0.9871 - val_loss: 0.4513 - val_accuracy: 0.9326 - val_recall_4: 0.9602 - val_precision_4: 0.9480\n",
      "Epoch 10/10\n",
      "110/110 [==============================] - 6s 50ms/step - loss: 0.0493 - accuracy: 0.9866 - recall_4: 0.9930 - precision_4: 0.9887 - val_loss: 0.5323 - val_accuracy: 0.9505 - val_recall_4: 0.9462 - val_precision_4: 0.9854\n",
      "Training complete for input size (224, 224, 3)\n",
      "Total training time for input size (224, 224, 3): 78.27 seconds\n",
      "Final validation accuracy for input size (224, 224, 3): 0.9505\n",
      "\n"
     ]
    }
   ],
   "source": [
    "# Function to create MobileNetV2 with custom input size and additional layers\n",
    "def create_custom_mobilenetv2(input_size=(128, 128, 3), learning_rate=0.00005, num_classes=1):\n",
    "    # # Load the base MobileNetV2 model with a new input size\n",
    "    # base_model = MobileNetV2(weights='imagenet', include_top=False, input_shape=input_size)\n",
    "\n",
    "    # # Add custom layers on top of it\n",
    "    # x = base_model.output\n",
    "    # x = GlobalAveragePooling2D()(x)\n",
    "\n",
    "    # # First Dense layer with BatchNormalization and Dropout\n",
    "    # x = Dense(256, activation='relu', kernel_regularizer=l2(0.001))(x)\n",
    "    # x = Dropout(0.4)(x)\n",
    "\n",
    "    # # Second Dense layer with BatchNormalization and Dropout\n",
    "    # x = Dense(512, activation='relu', kernel_regularizer=l2(0.001))(x)\n",
    "    # x = Dropout(0.4)(x)\n",
    "\n",
    "    # # Output layer for binary classification\n",
    "    # predictions = Dense(1, activation='sigmoid')(x)\n",
    "\n",
    "    # # Create the model\n",
    "    # model = Model(inputs=base_model.input, outputs=predictions)\n",
    "\n",
    "    # # Compile the model with an appropriate optimizer and loss function\n",
    "    # model.compile(optimizer=Adam(learning_rate=learning_rate),\n",
    "    #               loss='binary_crossentropy',\n",
    "    #               metrics=['accuracy'])\n",
    "\n",
    "    # return model\n",
    "\n",
    "    # Load the base MobileNetV2 model, excluding the top layers\n",
    "    base_model = MobileNetV2(weights='imagenet', include_top=False, input_shape=input_size)\n",
    "    base_model.trainable = True\n",
    "\n",
    "    # Add custom layers on top of it\n",
    "    x = base_model.output\n",
    "    x = GlobalAveragePooling2D()(x)\n",
    "\n",
    "    # First Dense layer with BatchNormalization and Dropout\n",
    "    x = Dense(256, activation='relu', kernel_regularizer=l2(0.001))(x)\n",
    "    x = Dropout(0.25)(x)\n",
    "\n",
    "    # Second Dense layer with BatchNormalization and Dropout\n",
    "    x = Dense(512, activation='relu', kernel_regularizer=l2(0.001))(x)\n",
    "    x = Dropout(0.25)(x)\n",
    "\n",
    "    # Output layer for binary classification\n",
    "    predictions = Dense(1, activation='sigmoid')(x)\n",
    "\n",
    "    # Create the model\n",
    "    model = Model(inputs=base_model.input, outputs=predictions)\n",
    "\n",
    "    # Unfreeze all layers in the base model for fine-tuning\n",
    "\n",
    "    # Compile the model with an appropriate optimizer and loss function\n",
    "    model.compile(optimizer=Adam(learning_rate=learning_rate),\n",
    "                  loss='binary_crossentropy',\n",
    "                  metrics=['accuracy', Recall(), Precision()])\n",
    "\n",
    "    return model\n",
    "\n",
    "# List of input sizes to loop over (dimen size)\n",
    "input_sizes = [(128, 128, 3), (160, 160, 3), (192, 192, 3), (224, 224, 3)]\n",
    "\n",
    "# Loop through each input size, create the model, and measure training time and accuracy\n",
    "for size in input_sizes:\n",
    "    print(f\"\\nCreating and training model with input size {size}...\")\n",
    "\n",
    "    # Create the model for the current input size\n",
    "    model = create_custom_mobilenetv2(input_size=size, learning_rate=1e-3)\n",
    "\n",
    "    # Start timer\n",
    "    start_time = time.time()\n",
    "\n",
    "    # Train the model (you would need to set up train_generator, val_generator, etc.)\n",
    "    train_dataset, val_dataset, test_dataset = create_datasets_for_time(train_dir, val_dir, test_dir, img_size=(size[0], size[1]))\n",
    "    history = model.fit(\n",
    "        train_dataset,\n",
    "        # steps_per_epoch=len(train_dataset),\n",
    "        validation_data=val_dataset,\n",
    "        # validation_steps=len(val_dataset),\n",
    "        epochs=10  # Number of epochs for training\n",
    "    )\n",
    "\n",
    "    # End timer\n",
    "    end_time = time.time()\n",
    "\n",
    "    # Calculate total training time\n",
    "    total_time = end_time - start_time\n",
    "\n",
    "    # Get final validation accuracy from the history object\n",
    "    final_val_accuracy = history.history['val_accuracy'][-1]  # Get the last epoch's validation accuracy\n",
    "\n",
    "    print(f\"Training complete for input size {size}\")\n",
    "    print(f\"Total training time for input size {size}: {total_time:.2f} seconds\")\n",
    "    print(f\"Final validation accuracy for input size {size}: {final_val_accuracy:.4f}\\n\")"
   ]
  },
  {
   "cell_type": "markdown",
   "metadata": {},
   "source": [
    "# Hyperparameter Tuning"
   ]
  },
  {
   "cell_type": "code",
   "execution_count": 59,
   "metadata": {
    "id": "UjiaZ2i7nAFp"
   },
   "outputs": [],
   "source": [
    "# Function to create a MobileNetV2-based model with dropout rate as a hyperparameter\n",
    "def create_model_for_tuning(learning_rate, dropout_rate, input_shape=(224, 224, 3)):\n",
    "    # Load the base MobileNetV2 model, excluding the top layers\n",
    "    base_model = MobileNetV2(weights='imagenet', include_top=False, input_shape=input_shape)\n",
    "    base_model.trainable = True\n",
    "\n",
    "    # Add custom layers on top of it\n",
    "    x = base_model.output\n",
    "    x = GlobalAveragePooling2D()(x)\n",
    "\n",
    "    # First Dense layer with BatchNormalization and Dropout\n",
    "    x = Dense(256, activation='relu', kernel_regularizer=l2(0.001))(x)\n",
    "    x = Dropout(dropout_rate)(x)\n",
    "\n",
    "    # Second Dense layer with BatchNormalization and Dropout\n",
    "    x = Dense(512, activation='relu', kernel_regularizer=l2(0.001))(x)\n",
    "    x = Dropout(dropout_rate)(x)\n",
    "\n",
    "    # Output layer for binary classification\n",
    "    predictions = Dense(1, activation='sigmoid')(x)\n",
    "\n",
    "    # Create the model\n",
    "    model = Model(inputs=base_model.input, outputs=predictions)\n",
    "\n",
    "    # Unfreeze all layers in the base model for fine-tuning\n",
    "\n",
    "    # Compile the model with an appropriate optimizer and loss function\n",
    "    model.compile(optimizer=Adam(learning_rate=learning_rate),\n",
    "                  loss='binary_crossentropy',\n",
    "                  metrics=['accuracy', Recall(), Precision()])\n",
    "\n",
    "    return model\n"
   ]
  },
  {
   "cell_type": "code",
   "execution_count": 60,
   "metadata": {
    "id": "PpIOiPuMnxgU"
   },
   "outputs": [
    {
     "name": "stdout",
     "output_type": "stream",
     "text": [
      "\n",
      "Training with learning_rate=0.001 and dropout_rate=0.1\n",
      "Found 3514 images belonging to 2 classes.\n",
      "Found 1172 images belonging to 2 classes.\n",
      "Epoch 1/10\n",
      "110/110 [==============================] - 65s 438ms/step - loss: 0.6949 - accuracy: 0.9334 - recall: 0.9532 - precision: 0.9554 - val_loss: 1.2230 - val_accuracy: 0.6570 - val_recall: 0.5310 - val_precision: 0.9978\n",
      "Epoch 2/10\n",
      " 56/110 [==============>...............] - ETA: 18s - loss: 0.3689 - accuracy: 0.9643 - recall: 0.9784 - precision: 0.9725"
     ]
    },
    {
     "ename": "KeyboardInterrupt",
     "evalue": "",
     "output_type": "error",
     "traceback": [
      "\u001b[0;31m---------------------------------------------------------------------------\u001b[0m",
      "\u001b[0;31mKeyboardInterrupt\u001b[0m                         Traceback (most recent call last)",
      "Cell \u001b[0;32mIn[60], line 46\u001b[0m\n\u001b[1;32m     38\u001b[0m model_checkpoint \u001b[38;5;241m=\u001b[39m ModelCheckpoint(\n\u001b[1;32m     39\u001b[0m     filepath\u001b[38;5;241m=\u001b[39m\u001b[38;5;124mf\u001b[39m\u001b[38;5;124m'\u001b[39m\u001b[38;5;124mbest_model_lr_\u001b[39m\u001b[38;5;132;01m{\u001b[39;00mlr\u001b[38;5;132;01m}\u001b[39;00m\u001b[38;5;124m_dropout_\u001b[39m\u001b[38;5;132;01m{\u001b[39;00mdropout\u001b[38;5;132;01m}\u001b[39;00m\u001b[38;5;124m.h5\u001b[39m\u001b[38;5;124m'\u001b[39m,  \u001b[38;5;66;03m# Save with learning rate and dropout details\u001b[39;00m\n\u001b[1;32m     40\u001b[0m     monitor\u001b[38;5;241m=\u001b[39m\u001b[38;5;124m'\u001b[39m\u001b[38;5;124mval_accuracy\u001b[39m\u001b[38;5;124m'\u001b[39m,  \u001b[38;5;66;03m# Monitor validation accuracy\u001b[39;00m\n\u001b[1;32m     41\u001b[0m     save_best_only\u001b[38;5;241m=\u001b[39m\u001b[38;5;28;01mTrue\u001b[39;00m,     \u001b[38;5;66;03m# Save only the best model\u001b[39;00m\n\u001b[1;32m     42\u001b[0m     verbose\u001b[38;5;241m=\u001b[39m\u001b[38;5;241m1\u001b[39m\n\u001b[1;32m     43\u001b[0m )\n\u001b[1;32m     45\u001b[0m \u001b[38;5;66;03m# Train the model\u001b[39;00m\n\u001b[0;32m---> 46\u001b[0m history \u001b[38;5;241m=\u001b[39m \u001b[43mmodel\u001b[49m\u001b[38;5;241;43m.\u001b[39;49m\u001b[43mfit\u001b[49m\u001b[43m(\u001b[49m\n\u001b[1;32m     47\u001b[0m \u001b[43m    \u001b[49m\u001b[43mtrain_generator\u001b[49m\u001b[43m,\u001b[49m\n\u001b[1;32m     48\u001b[0m \u001b[43m    \u001b[49m\u001b[43mepochs\u001b[49m\u001b[38;5;241;43m=\u001b[39;49m\u001b[38;5;241;43m10\u001b[39;49m\u001b[43m,\u001b[49m\n\u001b[1;32m     49\u001b[0m \u001b[43m    \u001b[49m\u001b[43mvalidation_data\u001b[49m\u001b[38;5;241;43m=\u001b[39;49m\u001b[43mval_generator\u001b[49m\u001b[43m,\u001b[49m\n\u001b[1;32m     50\u001b[0m \u001b[43m    \u001b[49m\u001b[43mcallbacks\u001b[49m\u001b[38;5;241;43m=\u001b[39;49m\u001b[43m[\u001b[49m\u001b[43mearly_stopping\u001b[49m\u001b[43m]\u001b[49m\u001b[43m,\u001b[49m\n\u001b[1;32m     51\u001b[0m \u001b[43m    \u001b[49m\u001b[43mverbose\u001b[49m\u001b[38;5;241;43m=\u001b[39;49m\u001b[38;5;241;43m1\u001b[39;49m\n\u001b[1;32m     52\u001b[0m \u001b[43m\u001b[49m\u001b[43m)\u001b[49m\n\u001b[1;32m     54\u001b[0m \u001b[38;5;66;03m# Evaluate the model\u001b[39;00m\n\u001b[1;32m     55\u001b[0m val_loss, val_acc, val_recall, val_precission \u001b[38;5;241m=\u001b[39m model\u001b[38;5;241m.\u001b[39mevaluate(val_generator)\n",
      "File \u001b[0;32m/usr/local/lib/python3.11/dist-packages/keras/src/utils/traceback_utils.py:65\u001b[0m, in \u001b[0;36mfilter_traceback.<locals>.error_handler\u001b[0;34m(*args, **kwargs)\u001b[0m\n\u001b[1;32m     63\u001b[0m filtered_tb \u001b[38;5;241m=\u001b[39m \u001b[38;5;28;01mNone\u001b[39;00m\n\u001b[1;32m     64\u001b[0m \u001b[38;5;28;01mtry\u001b[39;00m:\n\u001b[0;32m---> 65\u001b[0m     \u001b[38;5;28;01mreturn\u001b[39;00m \u001b[43mfn\u001b[49m\u001b[43m(\u001b[49m\u001b[38;5;241;43m*\u001b[39;49m\u001b[43margs\u001b[49m\u001b[43m,\u001b[49m\u001b[43m \u001b[49m\u001b[38;5;241;43m*\u001b[39;49m\u001b[38;5;241;43m*\u001b[39;49m\u001b[43mkwargs\u001b[49m\u001b[43m)\u001b[49m\n\u001b[1;32m     66\u001b[0m \u001b[38;5;28;01mexcept\u001b[39;00m \u001b[38;5;167;01mException\u001b[39;00m \u001b[38;5;28;01mas\u001b[39;00m e:\n\u001b[1;32m     67\u001b[0m     filtered_tb \u001b[38;5;241m=\u001b[39m _process_traceback_frames(e\u001b[38;5;241m.\u001b[39m__traceback__)\n",
      "File \u001b[0;32m/usr/local/lib/python3.11/dist-packages/keras/src/engine/training.py:1783\u001b[0m, in \u001b[0;36mModel.fit\u001b[0;34m(self, x, y, batch_size, epochs, verbose, callbacks, validation_split, validation_data, shuffle, class_weight, sample_weight, initial_epoch, steps_per_epoch, validation_steps, validation_batch_size, validation_freq, max_queue_size, workers, use_multiprocessing)\u001b[0m\n\u001b[1;32m   1775\u001b[0m \u001b[38;5;28;01mwith\u001b[39;00m tf\u001b[38;5;241m.\u001b[39mprofiler\u001b[38;5;241m.\u001b[39mexperimental\u001b[38;5;241m.\u001b[39mTrace(\n\u001b[1;32m   1776\u001b[0m     \u001b[38;5;124m\"\u001b[39m\u001b[38;5;124mtrain\u001b[39m\u001b[38;5;124m\"\u001b[39m,\n\u001b[1;32m   1777\u001b[0m     epoch_num\u001b[38;5;241m=\u001b[39mepoch,\n\u001b[0;32m   (...)\u001b[0m\n\u001b[1;32m   1780\u001b[0m     _r\u001b[38;5;241m=\u001b[39m\u001b[38;5;241m1\u001b[39m,\n\u001b[1;32m   1781\u001b[0m ):\n\u001b[1;32m   1782\u001b[0m     callbacks\u001b[38;5;241m.\u001b[39mon_train_batch_begin(step)\n\u001b[0;32m-> 1783\u001b[0m     tmp_logs \u001b[38;5;241m=\u001b[39m \u001b[38;5;28;43mself\u001b[39;49m\u001b[38;5;241;43m.\u001b[39;49m\u001b[43mtrain_function\u001b[49m\u001b[43m(\u001b[49m\u001b[43miterator\u001b[49m\u001b[43m)\u001b[49m\n\u001b[1;32m   1784\u001b[0m     \u001b[38;5;28;01mif\u001b[39;00m data_handler\u001b[38;5;241m.\u001b[39mshould_sync:\n\u001b[1;32m   1785\u001b[0m         context\u001b[38;5;241m.\u001b[39masync_wait()\n",
      "File \u001b[0;32m/usr/local/lib/python3.11/dist-packages/tensorflow/python/util/traceback_utils.py:150\u001b[0m, in \u001b[0;36mfilter_traceback.<locals>.error_handler\u001b[0;34m(*args, **kwargs)\u001b[0m\n\u001b[1;32m    148\u001b[0m filtered_tb \u001b[38;5;241m=\u001b[39m \u001b[38;5;28;01mNone\u001b[39;00m\n\u001b[1;32m    149\u001b[0m \u001b[38;5;28;01mtry\u001b[39;00m:\n\u001b[0;32m--> 150\u001b[0m   \u001b[38;5;28;01mreturn\u001b[39;00m \u001b[43mfn\u001b[49m\u001b[43m(\u001b[49m\u001b[38;5;241;43m*\u001b[39;49m\u001b[43margs\u001b[49m\u001b[43m,\u001b[49m\u001b[43m \u001b[49m\u001b[38;5;241;43m*\u001b[39;49m\u001b[38;5;241;43m*\u001b[39;49m\u001b[43mkwargs\u001b[49m\u001b[43m)\u001b[49m\n\u001b[1;32m    151\u001b[0m \u001b[38;5;28;01mexcept\u001b[39;00m \u001b[38;5;167;01mException\u001b[39;00m \u001b[38;5;28;01mas\u001b[39;00m e:\n\u001b[1;32m    152\u001b[0m   filtered_tb \u001b[38;5;241m=\u001b[39m _process_traceback_frames(e\u001b[38;5;241m.\u001b[39m__traceback__)\n",
      "File \u001b[0;32m/usr/local/lib/python3.11/dist-packages/tensorflow/python/eager/polymorphic_function/polymorphic_function.py:831\u001b[0m, in \u001b[0;36mFunction.__call__\u001b[0;34m(self, *args, **kwds)\u001b[0m\n\u001b[1;32m    828\u001b[0m compiler \u001b[38;5;241m=\u001b[39m \u001b[38;5;124m\"\u001b[39m\u001b[38;5;124mxla\u001b[39m\u001b[38;5;124m\"\u001b[39m \u001b[38;5;28;01mif\u001b[39;00m \u001b[38;5;28mself\u001b[39m\u001b[38;5;241m.\u001b[39m_jit_compile \u001b[38;5;28;01melse\u001b[39;00m \u001b[38;5;124m\"\u001b[39m\u001b[38;5;124mnonXla\u001b[39m\u001b[38;5;124m\"\u001b[39m\n\u001b[1;32m    830\u001b[0m \u001b[38;5;28;01mwith\u001b[39;00m OptionalXlaContext(\u001b[38;5;28mself\u001b[39m\u001b[38;5;241m.\u001b[39m_jit_compile):\n\u001b[0;32m--> 831\u001b[0m   result \u001b[38;5;241m=\u001b[39m \u001b[38;5;28;43mself\u001b[39;49m\u001b[38;5;241;43m.\u001b[39;49m\u001b[43m_call\u001b[49m\u001b[43m(\u001b[49m\u001b[38;5;241;43m*\u001b[39;49m\u001b[43margs\u001b[49m\u001b[43m,\u001b[49m\u001b[43m \u001b[49m\u001b[38;5;241;43m*\u001b[39;49m\u001b[38;5;241;43m*\u001b[39;49m\u001b[43mkwds\u001b[49m\u001b[43m)\u001b[49m\n\u001b[1;32m    833\u001b[0m new_tracing_count \u001b[38;5;241m=\u001b[39m \u001b[38;5;28mself\u001b[39m\u001b[38;5;241m.\u001b[39mexperimental_get_tracing_count()\n\u001b[1;32m    834\u001b[0m without_tracing \u001b[38;5;241m=\u001b[39m (tracing_count \u001b[38;5;241m==\u001b[39m new_tracing_count)\n",
      "File \u001b[0;32m/usr/local/lib/python3.11/dist-packages/tensorflow/python/eager/polymorphic_function/polymorphic_function.py:867\u001b[0m, in \u001b[0;36mFunction._call\u001b[0;34m(self, *args, **kwds)\u001b[0m\n\u001b[1;32m    864\u001b[0m   \u001b[38;5;28mself\u001b[39m\u001b[38;5;241m.\u001b[39m_lock\u001b[38;5;241m.\u001b[39mrelease()\n\u001b[1;32m    865\u001b[0m   \u001b[38;5;66;03m# In this case we have created variables on the first call, so we run the\u001b[39;00m\n\u001b[1;32m    866\u001b[0m   \u001b[38;5;66;03m# defunned version which is guaranteed to never create variables.\u001b[39;00m\n\u001b[0;32m--> 867\u001b[0m   \u001b[38;5;28;01mreturn\u001b[39;00m \u001b[43mtracing_compilation\u001b[49m\u001b[38;5;241;43m.\u001b[39;49m\u001b[43mcall_function\u001b[49m\u001b[43m(\u001b[49m\n\u001b[1;32m    868\u001b[0m \u001b[43m      \u001b[49m\u001b[43margs\u001b[49m\u001b[43m,\u001b[49m\u001b[43m \u001b[49m\u001b[43mkwds\u001b[49m\u001b[43m,\u001b[49m\u001b[43m \u001b[49m\u001b[38;5;28;43mself\u001b[39;49m\u001b[38;5;241;43m.\u001b[39;49m\u001b[43m_no_variable_creation_config\u001b[49m\n\u001b[1;32m    869\u001b[0m \u001b[43m  \u001b[49m\u001b[43m)\u001b[49m\n\u001b[1;32m    870\u001b[0m \u001b[38;5;28;01melif\u001b[39;00m \u001b[38;5;28mself\u001b[39m\u001b[38;5;241m.\u001b[39m_variable_creation_config \u001b[38;5;129;01mis\u001b[39;00m \u001b[38;5;129;01mnot\u001b[39;00m \u001b[38;5;28;01mNone\u001b[39;00m:\n\u001b[1;32m    871\u001b[0m   \u001b[38;5;66;03m# Release the lock early so that multiple threads can perform the call\u001b[39;00m\n\u001b[1;32m    872\u001b[0m   \u001b[38;5;66;03m# in parallel.\u001b[39;00m\n\u001b[1;32m    873\u001b[0m   \u001b[38;5;28mself\u001b[39m\u001b[38;5;241m.\u001b[39m_lock\u001b[38;5;241m.\u001b[39mrelease()\n",
      "File \u001b[0;32m/usr/local/lib/python3.11/dist-packages/tensorflow/python/eager/polymorphic_function/tracing_compilation.py:139\u001b[0m, in \u001b[0;36mcall_function\u001b[0;34m(args, kwargs, tracing_options)\u001b[0m\n\u001b[1;32m    137\u001b[0m bound_args \u001b[38;5;241m=\u001b[39m function\u001b[38;5;241m.\u001b[39mfunction_type\u001b[38;5;241m.\u001b[39mbind(\u001b[38;5;241m*\u001b[39margs, \u001b[38;5;241m*\u001b[39m\u001b[38;5;241m*\u001b[39mkwargs)\n\u001b[1;32m    138\u001b[0m flat_inputs \u001b[38;5;241m=\u001b[39m function\u001b[38;5;241m.\u001b[39mfunction_type\u001b[38;5;241m.\u001b[39munpack_inputs(bound_args)\n\u001b[0;32m--> 139\u001b[0m \u001b[38;5;28;01mreturn\u001b[39;00m \u001b[43mfunction\u001b[49m\u001b[38;5;241;43m.\u001b[39;49m\u001b[43m_call_flat\u001b[49m\u001b[43m(\u001b[49m\u001b[43m  \u001b[49m\u001b[38;5;66;43;03m# pylint: disable=protected-access\u001b[39;49;00m\n\u001b[1;32m    140\u001b[0m \u001b[43m    \u001b[49m\u001b[43mflat_inputs\u001b[49m\u001b[43m,\u001b[49m\u001b[43m \u001b[49m\u001b[43mcaptured_inputs\u001b[49m\u001b[38;5;241;43m=\u001b[39;49m\u001b[43mfunction\u001b[49m\u001b[38;5;241;43m.\u001b[39;49m\u001b[43mcaptured_inputs\u001b[49m\n\u001b[1;32m    141\u001b[0m \u001b[43m\u001b[49m\u001b[43m)\u001b[49m\n",
      "File \u001b[0;32m/usr/local/lib/python3.11/dist-packages/tensorflow/python/eager/polymorphic_function/concrete_function.py:1264\u001b[0m, in \u001b[0;36mConcreteFunction._call_flat\u001b[0;34m(self, tensor_inputs, captured_inputs)\u001b[0m\n\u001b[1;32m   1260\u001b[0m possible_gradient_type \u001b[38;5;241m=\u001b[39m gradients_util\u001b[38;5;241m.\u001b[39mPossibleTapeGradientTypes(args)\n\u001b[1;32m   1261\u001b[0m \u001b[38;5;28;01mif\u001b[39;00m (possible_gradient_type \u001b[38;5;241m==\u001b[39m gradients_util\u001b[38;5;241m.\u001b[39mPOSSIBLE_GRADIENT_TYPES_NONE\n\u001b[1;32m   1262\u001b[0m     \u001b[38;5;129;01mand\u001b[39;00m executing_eagerly):\n\u001b[1;32m   1263\u001b[0m   \u001b[38;5;66;03m# No tape is watching; skip to running the function.\u001b[39;00m\n\u001b[0;32m-> 1264\u001b[0m   \u001b[38;5;28;01mreturn\u001b[39;00m \u001b[38;5;28;43mself\u001b[39;49m\u001b[38;5;241;43m.\u001b[39;49m\u001b[43m_inference_function\u001b[49m\u001b[38;5;241;43m.\u001b[39;49m\u001b[43mflat_call\u001b[49m\u001b[43m(\u001b[49m\u001b[43margs\u001b[49m\u001b[43m)\u001b[49m\n\u001b[1;32m   1265\u001b[0m forward_backward \u001b[38;5;241m=\u001b[39m \u001b[38;5;28mself\u001b[39m\u001b[38;5;241m.\u001b[39m_select_forward_and_backward_functions(\n\u001b[1;32m   1266\u001b[0m     args,\n\u001b[1;32m   1267\u001b[0m     possible_gradient_type,\n\u001b[1;32m   1268\u001b[0m     executing_eagerly)\n\u001b[1;32m   1269\u001b[0m forward_function, args_with_tangents \u001b[38;5;241m=\u001b[39m forward_backward\u001b[38;5;241m.\u001b[39mforward()\n",
      "File \u001b[0;32m/usr/local/lib/python3.11/dist-packages/tensorflow/python/eager/polymorphic_function/atomic_function.py:217\u001b[0m, in \u001b[0;36mAtomicFunction.flat_call\u001b[0;34m(self, args)\u001b[0m\n\u001b[1;32m    215\u001b[0m \u001b[38;5;28;01mdef\u001b[39;00m \u001b[38;5;21mflat_call\u001b[39m(\u001b[38;5;28mself\u001b[39m, args: Sequence[core\u001b[38;5;241m.\u001b[39mTensor]) \u001b[38;5;241m-\u001b[39m\u001b[38;5;241m>\u001b[39m Any:\n\u001b[1;32m    216\u001b[0m \u001b[38;5;250m  \u001b[39m\u001b[38;5;124;03m\"\"\"Calls with tensor inputs and returns the structured output.\"\"\"\u001b[39;00m\n\u001b[0;32m--> 217\u001b[0m   flat_outputs \u001b[38;5;241m=\u001b[39m \u001b[38;5;28;43mself\u001b[39;49m\u001b[43m(\u001b[49m\u001b[38;5;241;43m*\u001b[39;49m\u001b[43margs\u001b[49m\u001b[43m)\u001b[49m\n\u001b[1;32m    218\u001b[0m   \u001b[38;5;28;01mreturn\u001b[39;00m \u001b[38;5;28mself\u001b[39m\u001b[38;5;241m.\u001b[39mfunction_type\u001b[38;5;241m.\u001b[39mpack_output(flat_outputs)\n",
      "File \u001b[0;32m/usr/local/lib/python3.11/dist-packages/tensorflow/python/eager/polymorphic_function/atomic_function.py:252\u001b[0m, in \u001b[0;36mAtomicFunction.__call__\u001b[0;34m(self, *args)\u001b[0m\n\u001b[1;32m    250\u001b[0m \u001b[38;5;28;01mwith\u001b[39;00m record\u001b[38;5;241m.\u001b[39mstop_recording():\n\u001b[1;32m    251\u001b[0m   \u001b[38;5;28;01mif\u001b[39;00m \u001b[38;5;28mself\u001b[39m\u001b[38;5;241m.\u001b[39m_bound_context\u001b[38;5;241m.\u001b[39mexecuting_eagerly():\n\u001b[0;32m--> 252\u001b[0m     outputs \u001b[38;5;241m=\u001b[39m \u001b[38;5;28;43mself\u001b[39;49m\u001b[38;5;241;43m.\u001b[39;49m\u001b[43m_bound_context\u001b[49m\u001b[38;5;241;43m.\u001b[39;49m\u001b[43mcall_function\u001b[49m\u001b[43m(\u001b[49m\n\u001b[1;32m    253\u001b[0m \u001b[43m        \u001b[49m\u001b[38;5;28;43mself\u001b[39;49m\u001b[38;5;241;43m.\u001b[39;49m\u001b[43mname\u001b[49m\u001b[43m,\u001b[49m\n\u001b[1;32m    254\u001b[0m \u001b[43m        \u001b[49m\u001b[38;5;28;43mlist\u001b[39;49m\u001b[43m(\u001b[49m\u001b[43margs\u001b[49m\u001b[43m)\u001b[49m\u001b[43m,\u001b[49m\n\u001b[1;32m    255\u001b[0m \u001b[43m        \u001b[49m\u001b[38;5;28;43mlen\u001b[39;49m\u001b[43m(\u001b[49m\u001b[38;5;28;43mself\u001b[39;49m\u001b[38;5;241;43m.\u001b[39;49m\u001b[43mfunction_type\u001b[49m\u001b[38;5;241;43m.\u001b[39;49m\u001b[43mflat_outputs\u001b[49m\u001b[43m)\u001b[49m\u001b[43m,\u001b[49m\n\u001b[1;32m    256\u001b[0m \u001b[43m    \u001b[49m\u001b[43m)\u001b[49m\n\u001b[1;32m    257\u001b[0m   \u001b[38;5;28;01melse\u001b[39;00m:\n\u001b[1;32m    258\u001b[0m     outputs \u001b[38;5;241m=\u001b[39m make_call_op_in_graph(\n\u001b[1;32m    259\u001b[0m         \u001b[38;5;28mself\u001b[39m,\n\u001b[1;32m    260\u001b[0m         \u001b[38;5;28mlist\u001b[39m(args),\n\u001b[1;32m    261\u001b[0m         \u001b[38;5;28mself\u001b[39m\u001b[38;5;241m.\u001b[39m_bound_context\u001b[38;5;241m.\u001b[39mfunction_call_options\u001b[38;5;241m.\u001b[39mas_attrs(),\n\u001b[1;32m    262\u001b[0m     )\n",
      "File \u001b[0;32m/usr/local/lib/python3.11/dist-packages/tensorflow/python/eager/context.py:1479\u001b[0m, in \u001b[0;36mContext.call_function\u001b[0;34m(self, name, tensor_inputs, num_outputs)\u001b[0m\n\u001b[1;32m   1477\u001b[0m cancellation_context \u001b[38;5;241m=\u001b[39m cancellation\u001b[38;5;241m.\u001b[39mcontext()\n\u001b[1;32m   1478\u001b[0m \u001b[38;5;28;01mif\u001b[39;00m cancellation_context \u001b[38;5;129;01mis\u001b[39;00m \u001b[38;5;28;01mNone\u001b[39;00m:\n\u001b[0;32m-> 1479\u001b[0m   outputs \u001b[38;5;241m=\u001b[39m \u001b[43mexecute\u001b[49m\u001b[38;5;241;43m.\u001b[39;49m\u001b[43mexecute\u001b[49m\u001b[43m(\u001b[49m\n\u001b[1;32m   1480\u001b[0m \u001b[43m      \u001b[49m\u001b[43mname\u001b[49m\u001b[38;5;241;43m.\u001b[39;49m\u001b[43mdecode\u001b[49m\u001b[43m(\u001b[49m\u001b[38;5;124;43m\"\u001b[39;49m\u001b[38;5;124;43mutf-8\u001b[39;49m\u001b[38;5;124;43m\"\u001b[39;49m\u001b[43m)\u001b[49m\u001b[43m,\u001b[49m\n\u001b[1;32m   1481\u001b[0m \u001b[43m      \u001b[49m\u001b[43mnum_outputs\u001b[49m\u001b[38;5;241;43m=\u001b[39;49m\u001b[43mnum_outputs\u001b[49m\u001b[43m,\u001b[49m\n\u001b[1;32m   1482\u001b[0m \u001b[43m      \u001b[49m\u001b[43minputs\u001b[49m\u001b[38;5;241;43m=\u001b[39;49m\u001b[43mtensor_inputs\u001b[49m\u001b[43m,\u001b[49m\n\u001b[1;32m   1483\u001b[0m \u001b[43m      \u001b[49m\u001b[43mattrs\u001b[49m\u001b[38;5;241;43m=\u001b[39;49m\u001b[43mattrs\u001b[49m\u001b[43m,\u001b[49m\n\u001b[1;32m   1484\u001b[0m \u001b[43m      \u001b[49m\u001b[43mctx\u001b[49m\u001b[38;5;241;43m=\u001b[39;49m\u001b[38;5;28;43mself\u001b[39;49m\u001b[43m,\u001b[49m\n\u001b[1;32m   1485\u001b[0m \u001b[43m  \u001b[49m\u001b[43m)\u001b[49m\n\u001b[1;32m   1486\u001b[0m \u001b[38;5;28;01melse\u001b[39;00m:\n\u001b[1;32m   1487\u001b[0m   outputs \u001b[38;5;241m=\u001b[39m execute\u001b[38;5;241m.\u001b[39mexecute_with_cancellation(\n\u001b[1;32m   1488\u001b[0m       name\u001b[38;5;241m.\u001b[39mdecode(\u001b[38;5;124m\"\u001b[39m\u001b[38;5;124mutf-8\u001b[39m\u001b[38;5;124m\"\u001b[39m),\n\u001b[1;32m   1489\u001b[0m       num_outputs\u001b[38;5;241m=\u001b[39mnum_outputs,\n\u001b[0;32m   (...)\u001b[0m\n\u001b[1;32m   1493\u001b[0m       cancellation_manager\u001b[38;5;241m=\u001b[39mcancellation_context,\n\u001b[1;32m   1494\u001b[0m   )\n",
      "File \u001b[0;32m/usr/local/lib/python3.11/dist-packages/tensorflow/python/eager/execute.py:60\u001b[0m, in \u001b[0;36mquick_execute\u001b[0;34m(op_name, num_outputs, inputs, attrs, ctx, name)\u001b[0m\n\u001b[1;32m     53\u001b[0m   \u001b[38;5;66;03m# Convert any objects of type core_types.Tensor to Tensor.\u001b[39;00m\n\u001b[1;32m     54\u001b[0m   inputs \u001b[38;5;241m=\u001b[39m [\n\u001b[1;32m     55\u001b[0m       tensor_conversion_registry\u001b[38;5;241m.\u001b[39mconvert(t)\n\u001b[1;32m     56\u001b[0m       \u001b[38;5;28;01mif\u001b[39;00m \u001b[38;5;28misinstance\u001b[39m(t, core_types\u001b[38;5;241m.\u001b[39mTensor)\n\u001b[1;32m     57\u001b[0m       \u001b[38;5;28;01melse\u001b[39;00m t\n\u001b[1;32m     58\u001b[0m       \u001b[38;5;28;01mfor\u001b[39;00m t \u001b[38;5;129;01min\u001b[39;00m inputs\n\u001b[1;32m     59\u001b[0m   ]\n\u001b[0;32m---> 60\u001b[0m   tensors \u001b[38;5;241m=\u001b[39m \u001b[43mpywrap_tfe\u001b[49m\u001b[38;5;241;43m.\u001b[39;49m\u001b[43mTFE_Py_Execute\u001b[49m\u001b[43m(\u001b[49m\u001b[43mctx\u001b[49m\u001b[38;5;241;43m.\u001b[39;49m\u001b[43m_handle\u001b[49m\u001b[43m,\u001b[49m\u001b[43m \u001b[49m\u001b[43mdevice_name\u001b[49m\u001b[43m,\u001b[49m\u001b[43m \u001b[49m\u001b[43mop_name\u001b[49m\u001b[43m,\u001b[49m\n\u001b[1;32m     61\u001b[0m \u001b[43m                                      \u001b[49m\u001b[43minputs\u001b[49m\u001b[43m,\u001b[49m\u001b[43m \u001b[49m\u001b[43mattrs\u001b[49m\u001b[43m,\u001b[49m\u001b[43m \u001b[49m\u001b[43mnum_outputs\u001b[49m\u001b[43m)\u001b[49m\n\u001b[1;32m     62\u001b[0m \u001b[38;5;28;01mexcept\u001b[39;00m core\u001b[38;5;241m.\u001b[39m_NotOkStatusException \u001b[38;5;28;01mas\u001b[39;00m e:\n\u001b[1;32m     63\u001b[0m   \u001b[38;5;28;01mif\u001b[39;00m name \u001b[38;5;129;01mis\u001b[39;00m \u001b[38;5;129;01mnot\u001b[39;00m \u001b[38;5;28;01mNone\u001b[39;00m:\n",
      "\u001b[0;31mKeyboardInterrupt\u001b[0m: "
     ]
    }
   ],
   "source": [
    "# Hyperparameters to test\n",
    "learning_rates = [1e-3, 1e-4, 1e-5]  # Learning rates to try\n",
    "dropout_rates = [0.1, 0.2, 0.3]      # Dropout rates to try\n",
    "\n",
    "# List to store results\n",
    "results = []\n",
    "\n",
    "# Grid search loop for hyperparameter tuning\n",
    "for lr in learning_rates:\n",
    "    for dropout in dropout_rates:\n",
    "        print(f\"\\nTraining with learning_rate={lr} and dropout_rate={dropout}\")\n",
    "\n",
    "        # Clear session to reset the model state\n",
    "        tf.keras.backend.clear_session()\n",
    "\n",
    "        # Create model with current hyperparameters\n",
    "        model = create_model_for_tuning(learning_rate=lr, dropout_rate=dropout)\n",
    "\n",
    "        # Prepare the data generators (assuming you have directories train_dir and val_dir)\n",
    "        train_datagen = ImageDataGenerator()\n",
    "        train_generator = train_datagen.flow_from_directory(\n",
    "            train_dir,\n",
    "            target_size=(224, 224),\n",
    "            class_mode='binary'\n",
    "        )\n",
    "\n",
    "        val_datagen = ImageDataGenerator()\n",
    "        val_generator = val_datagen.flow_from_directory(\n",
    "            val_dir,\n",
    "            target_size=(224, 224),\n",
    "            class_mode='binary'\n",
    "        )\n",
    "\n",
    "        # Define callbacks\n",
    "        early_stopping = EarlyStopping(monitor='val_loss', patience=3, restore_best_weights=True)\n",
    "\n",
    "        # Define ModelCheckpoint to save the best model\n",
    "        model_checkpoint = ModelCheckpoint(\n",
    "            filepath=f'best_model_lr_{lr}_dropout_{dropout}.h5',  # Save with learning rate and dropout details\n",
    "            monitor='val_accuracy',  # Monitor validation accuracy\n",
    "            save_best_only=True,     # Save only the best model\n",
    "            verbose=1\n",
    "        )\n",
    "\n",
    "        # Train the model\n",
    "        history = model.fit(\n",
    "            train_generator,\n",
    "            epochs=10,\n",
    "            validation_data=val_generator,\n",
    "            callbacks=[early_stopping],\n",
    "            verbose=1\n",
    "        )\n",
    "\n",
    "        # Evaluate the model\n",
    "        val_loss, val_acc, val_recall, val_precission = model.evaluate(val_generator)\n",
    "        print(f\"Validation accuracy: {val_acc:.4f}\")\n",
    "\n",
    "        # Append results to the list\n",
    "        results.append({\n",
    "            'learning_rate': lr,\n",
    "            'dropout_rate': dropout,\n",
    "            'val_accuracy': val_acc\n",
    "        })\n",
    "\n",
    "# Convert results to DataFrame for analysis\n",
    "df_results = pd.DataFrame(results)\n",
    "\n",
    "# Print the DataFrame with all results\n",
    "print(\"\\nResults from hyperparameter tuning:\")\n",
    "print(df_results)\n",
    "\n",
    "# Find and print the best hyperparameters based on validation accuracy\n",
    "best_params = df_results.loc[df_results['val_accuracy'].idxmax()]\n",
    "print(\"\\nBest Hyperparameters:\")\n",
    "print(best_params)"
   ]
  },
  {
   "cell_type": "code",
   "execution_count": null,
   "metadata": {},
   "outputs": [],
   "source": [
    "# Create a pivot table for heatmap (Learning Rate vs Dropout Rate)\n",
    "pivot_df = df_results.pivot_table(index=\"learning_rate\", columns=\"dropout_rate\", values=\"val_accuracy\")\n",
    "\n",
    "# Plot the heatmap\n",
    "plt.figure(figsize=(8, 6))\n",
    "sns.heatmap(pivot_df, annot=True, cmap='viridis', fmt=\".4f\")\n",
    "plt.title(\"Validation Accuracy for Learning Rate and Dropout Rate\")\n",
    "plt.xlabel(\"Dropout Rate\")\n",
    "plt.ylabel(\"Learning Rate\")\n",
    "plt.show()"
   ]
  },
  {
   "cell_type": "markdown",
   "metadata": {},
   "source": [
    "# Test Model"
   ]
  },
  {
   "cell_type": "code",
   "execution_count": 28,
   "metadata": {},
   "outputs": [],
   "source": [
    "# Load the saved model\n",
    "trained_no_augmented = load_model(\"model_no_augmented.h5\")"
   ]
  },
  {
   "cell_type": "code",
   "execution_count": 47,
   "metadata": {},
   "outputs": [],
   "source": [
    "trained_augmented = load_model(\"model_augmented.h5\")"
   ]
  },
  {
   "cell_type": "markdown",
   "metadata": {},
   "source": [
    "### Create Dataset Test"
   ]
  },
  {
   "cell_type": "code",
   "execution_count": 29,
   "metadata": {},
   "outputs": [
    {
     "name": "stdout",
     "output_type": "stream",
     "text": [
      "Found 1170 files belonging to 2 classes.\n"
     ]
    }
   ],
   "source": [
    "test_dataset = tf.keras.preprocessing.image_dataset_from_directory(\n",
    "    test_dir,\n",
    "    labels='inferred',\n",
    "    label_mode='int',\n",
    "    image_size=(224, 224),\n",
    "    shuffle=False  # Don't shuffle the test data\n",
    ")"
   ]
  },
  {
   "cell_type": "code",
   "execution_count": 30,
   "metadata": {},
   "outputs": [
    {
     "name": "stdout",
     "output_type": "stream",
     "text": [
      "Found 1170 images belonging to 2 classes.\n"
     ]
    }
   ],
   "source": [
    "test_datagen = ImageDataGenerator()  # No rescale\n",
    "test_generator = test_datagen.flow_from_directory(\n",
    "    test_dir,\n",
    "    target_size=(224, 224),\n",
    "    batch_size=32,\n",
    "    class_mode='binary',\n",
    "    shuffle=False\n",
    ")"
   ]
  },
  {
   "cell_type": "code",
   "execution_count": 50,
   "metadata": {},
   "outputs": [],
   "source": [
    "another_test_dir = root_folder + '/another_data_test'"
   ]
  },
  {
   "cell_type": "code",
   "execution_count": 51,
   "metadata": {},
   "outputs": [
    {
     "name": "stdout",
     "output_type": "stream",
     "text": [
      "Found 1224 files belonging to 2 classes.\n"
     ]
    }
   ],
   "source": [
    "test_another_datasets = tf.keras.preprocessing.image_dataset_from_directory(\n",
    "    another_test_dir,\n",
    "    labels='inferred',\n",
    "    label_mode='int',\n",
    "    image_size=(224, 224),\n",
    "    shuffle=False  # Don't shuffle the test data\n",
    ")"
   ]
  },
  {
   "cell_type": "markdown",
   "metadata": {},
   "source": [
    "### Test Model No Augmentation"
   ]
  },
  {
   "cell_type": "code",
   "execution_count": 33,
   "metadata": {},
   "outputs": [
    {
     "name": "stdout",
     "output_type": "stream",
     "text": [
      "37/37 [==============================] - 4s 53ms/step - loss: 0.2034 - accuracy: 0.9726 - recall: 0.9813 - precision: 0.9813\n"
     ]
    }
   ],
   "source": [
    "test_loss, test_accuracy, recall, precission = trained_no_augmented.evaluate(test_dataset)"
   ]
  },
  {
   "cell_type": "code",
   "execution_count": 34,
   "metadata": {},
   "outputs": [
    {
     "name": "stdout",
     "output_type": "stream",
     "text": [
      "1/1 [==============================] - 1s 718ms/step\n",
      "1/1 [==============================] - 0s 91ms/step\n",
      "1/1 [==============================] - 0s 101ms/step\n",
      "1/1 [==============================] - 0s 59ms/step\n",
      "1/1 [==============================] - 0s 30ms/step\n",
      "1/1 [==============================] - 0s 91ms/step\n",
      "1/1 [==============================] - 0s 40ms/step\n",
      "1/1 [==============================] - 0s 32ms/step\n",
      "1/1 [==============================] - 0s 32ms/step\n",
      "1/1 [==============================] - 0s 42ms/step\n",
      "1/1 [==============================] - 0s 28ms/step\n",
      "1/1 [==============================] - 0s 29ms/step\n",
      "1/1 [==============================] - 0s 28ms/step\n",
      "1/1 [==============================] - 0s 31ms/step\n",
      "1/1 [==============================] - 0s 29ms/step\n",
      "1/1 [==============================] - 0s 34ms/step\n",
      "1/1 [==============================] - 0s 29ms/step\n",
      "1/1 [==============================] - 0s 29ms/step\n",
      "1/1 [==============================] - 0s 28ms/step\n",
      "1/1 [==============================] - 0s 29ms/step\n",
      "1/1 [==============================] - 0s 29ms/step\n",
      "1/1 [==============================] - 0s 29ms/step\n",
      "1/1 [==============================] - 0s 33ms/step\n",
      "1/1 [==============================] - 0s 29ms/step\n",
      "1/1 [==============================] - 0s 29ms/step\n",
      "1/1 [==============================] - 0s 29ms/step\n",
      "1/1 [==============================] - 0s 30ms/step\n",
      "1/1 [==============================] - 0s 30ms/step\n",
      "1/1 [==============================] - 0s 30ms/step\n",
      "1/1 [==============================] - 0s 29ms/step\n",
      "1/1 [==============================] - 0s 29ms/step\n",
      "1/1 [==============================] - 0s 31ms/step\n",
      "1/1 [==============================] - 0s 29ms/step\n",
      "1/1 [==============================] - 0s 29ms/step\n",
      "1/1 [==============================] - 0s 29ms/step\n",
      "1/1 [==============================] - 0s 28ms/step\n",
      "1/1 [==============================] - 1s 680ms/step\n",
      "Confusion Matrix\n"
     ]
    },
    {
     "data": {
      "image/png": "[encoded data removed]",
      "text/plain": [
       "<Figure size 640x480 with 2 Axes>"
      ]
     },
     "metadata": {},
     "output_type": "display_data"
    },
    {
     "name": "stdout",
     "output_type": "stream",
     "text": [
      "              precision    recall  f1-score   support\n",
      "\n",
      "      NORMAL       0.95      0.95      0.95       316\n",
      "   PNEUMONIA       0.98      0.98      0.98       854\n",
      "\n",
      "    accuracy                           0.97      1170\n",
      "   macro avg       0.97      0.97      0.97      1170\n",
      "weighted avg       0.97      0.97      0.97      1170\n",
      "\n",
      "Test F1 Score: 0.9813\n"
     ]
    }
   ],
   "source": [
    "# Predict the test dataset\n",
    "y_pred = []\n",
    "y_true = []\n",
    "\n",
    "class_names = ['NORMAL', 'PNEUMONIA']  # Assuming 0 is 'NORMAL' and 1 is 'PNEUMONIA'\n",
    "\n",
    "for images, labels in test_dataset:\n",
    "    y_true.extend(labels.numpy())\n",
    "    predictions = trained_no_augmented.predict(images)\n",
    "    y_pred.extend(predictions)\n",
    "\n",
    "# Convert predictions and true labels to numpy arrays\n",
    "y_pred = np.array(y_pred)\n",
    "y_true = np.array(y_true)\n",
    "\n",
    "# Convert probabilities to binary outcomes\n",
    "y_pred = (y_pred > 0.5).astype(int)\n",
    "\n",
    "# Confusion Matrix\n",
    "print('Confusion Matrix')\n",
    "cm = confusion_matrix(y_true, y_pred)\n",
    "sns.heatmap(cm, annot=True, fmt='d', cmap='Blues', xticklabels=class_names, yticklabels=class_names)\n",
    "plt.xlabel('Predicted')\n",
    "plt.ylabel('True')\n",
    "plt.show()\n",
    "\n",
    "\n",
    "# Classification report and F1 Score\n",
    "print(classification_report(y_true, y_pred, target_names=class_names))\n",
    "f1 = f1_score(y_true, y_pred)\n",
    "print(f'Test F1 Score: {f1:.4f}')"
   ]
  },
  {
   "cell_type": "markdown",
   "metadata": {},
   "source": [
    "### Test With Another Dataset"
   ]
  },
  {
   "cell_type": "code",
   "execution_count": 58,
   "metadata": {},
   "outputs": [
    {
     "name": "stderr",
     "output_type": "stream",
     "text": [
      "2024-10-18 12:09:41.993165: W tensorflow/core/framework/op_kernel.cc:1839] OP_REQUIRES failed at whole_file_read_ops.cc:116 : NOT_FOUND: ./another_data_test/NORMAL/IM-0003-0001.jpeg; No such file or directory\n",
      "2024-10-18 12:09:41.993455: W tensorflow/core/framework/op_kernel.cc:1839] OP_REQUIRES failed at whole_file_read_ops.cc:116 : NOT_FOUND: ./another_data_test/NORMAL/IM-0011-0001-0002.jpeg; No such file or directory\n",
      "2024-10-18 12:09:41.993606: W tensorflow/core/framework/op_kernel.cc:1839] OP_REQUIRES failed at whole_file_read_ops.cc:116 : NOT_FOUND: ./another_data_test/NORMAL/IM-0011-0001-0001.jpeg; No such file or directory\n",
      "2024-10-18 12:09:41.993927: W tensorflow/core/framework/op_kernel.cc:1839] OP_REQUIRES failed at whole_file_read_ops.cc:116 : NOT_FOUND: ./another_data_test/NORMAL/IM-0001-0001.jpeg; No such file or directory\n",
      "2024-10-18 12:09:41.994007: I tensorflow/core/framework/local_rendezvous.cc:421] Local rendezvous recv item cancelled. Key hash: 15184396124135545577\n",
      "2024-10-18 12:09:41.994029: I tensorflow/core/framework/local_rendezvous.cc:421] Local rendezvous recv item cancelled. Key hash: 2766186828396056802\n",
      "2024-10-18 12:09:41.994087: W tensorflow/core/framework/op_kernel.cc:1839] OP_REQUIRES failed at whole_file_read_ops.cc:116 : NOT_FOUND: ./another_data_test/NORMAL/IM-0005-0001.jpeg; No such file or directory\n",
      "2024-10-18 12:09:41.994261: W tensorflow/core/framework/op_kernel.cc:1839] OP_REQUIRES failed at whole_file_read_ops.cc:116 : NOT_FOUND: ./another_data_test/NORMAL/IM-0021-0001.jpeg; No such file or directory\n",
      "2024-10-18 12:09:41.994556: W tensorflow/core/framework/op_kernel.cc:1839] OP_REQUIRES failed at whole_file_read_ops.cc:116 : NOT_FOUND: ./another_data_test/NORMAL/IM-0017-0001.jpeg; No such file or directory\n",
      "2024-10-18 12:09:41.994691: W tensorflow/core/framework/op_kernel.cc:1839] OP_REQUIRES failed at whole_file_read_ops.cc:116 : NOT_FOUND: ./another_data_test/NORMAL/IM-0011-0001.jpeg; No such file or directory\n",
      "2024-10-18 12:09:41.994862: W tensorflow/core/framework/op_kernel.cc:1839] OP_REQUIRES failed at whole_file_read_ops.cc:116 : NOT_FOUND: ./another_data_test/NORMAL/IM-0016-0001.jpeg; No such file or directory\n",
      "2024-10-18 12:09:41.994968: W tensorflow/core/framework/op_kernel.cc:1839] OP_REQUIRES failed at whole_file_read_ops.cc:116 : NOT_FOUND: ./another_data_test/NORMAL/IM-0006-0001.jpeg; No such file or directory\n",
      "2024-10-18 12:09:41.995700: W tensorflow/core/framework/op_kernel.cc:1839] OP_REQUIRES failed at whole_file_read_ops.cc:116 : NOT_FOUND: ./another_data_test/NORMAL/IM-0015-0001.jpeg; No such file or directory\n",
      "2024-10-18 12:09:41.995810: W tensorflow/core/framework/op_kernel.cc:1839] OP_REQUIRES failed at whole_file_read_ops.cc:116 : NOT_FOUND: ./another_data_test/NORMAL/IM-0009-0001.jpeg; No such file or directory\n",
      "2024-10-18 12:09:41.996030: W tensorflow/core/framework/op_kernel.cc:1839] OP_REQUIRES failed at whole_file_read_ops.cc:116 : NOT_FOUND: ./another_data_test/NORMAL/IM-0022-0001.jpeg; No such file or directory\n",
      "2024-10-18 12:09:41.996172: W tensorflow/core/framework/op_kernel.cc:1839] OP_REQUIRES failed at whole_file_read_ops.cc:116 : NOT_FOUND: ./another_data_test/NORMAL/IM-0010-0001.jpeg; No such file or directory\n",
      "2024-10-18 12:09:41.996429: W tensorflow/core/framework/op_kernel.cc:1839] OP_REQUIRES failed at whole_file_read_ops.cc:116 : NOT_FOUND: ./another_data_test/NORMAL/IM-0019-0001.jpeg; No such file or directory\n",
      "2024-10-18 12:09:41.996566: W tensorflow/core/framework/op_kernel.cc:1839] OP_REQUIRES failed at whole_file_read_ops.cc:116 : NOT_FOUND: ./another_data_test/NORMAL/IM-0013-0001.jpeg; No such file or directory\n",
      "2024-10-18 12:09:41.996714: W tensorflow/core/framework/op_kernel.cc:1839] OP_REQUIRES failed at whole_file_read_ops.cc:116 : NOT_FOUND: ./another_data_test/NORMAL/IM-0007-0001.jpeg; No such file or directory\n",
      "2024-10-18 12:09:41.996836: W tensorflow/core/framework/op_kernel.cc:1839] OP_REQUIRES failed at whole_file_read_ops.cc:116 : NOT_FOUND: ./another_data_test/NORMAL/IM-0023-0001.jpeg; No such file or directory\n"
     ]
    },
    {
     "ename": "NotFoundError",
     "evalue": "Graph execution error:\n\nDetected at node ReadFile defined at (most recent call last):\n<stack traces unavailable>\nDetected at node ReadFile defined at (most recent call last):\n<stack traces unavailable>\n2 root error(s) found.\n  (0) NOT_FOUND:  ./another_data_test/NORMAL/IM-0001-0001.jpeg; No such file or directory\n\t [[{{node ReadFile}}]]\n\t [[IteratorGetNext]]\n\t [[IteratorGetNext/_4]]\n  (1) NOT_FOUND:  ./another_data_test/NORMAL/IM-0001-0001.jpeg; No such file or directory\n\t [[{{node ReadFile}}]]\n\t [[IteratorGetNext]]\n0 successful operations.\n0 derived errors ignored. [Op:__inference_test_function_88898]",
     "output_type": "error",
     "traceback": [
      "\u001b[0;31m---------------------------------------------------------------------------\u001b[0m",
      "\u001b[0;31mNotFoundError\u001b[0m                             Traceback (most recent call last)",
      "Cell \u001b[0;32mIn[58], line 2\u001b[0m\n\u001b[1;32m      1\u001b[0m \u001b[38;5;66;03m# Evaluate the model on the test set\u001b[39;00m\n\u001b[0;32m----> 2\u001b[0m test_loss, test_accuracy, recall, precission \u001b[38;5;241m=\u001b[39m \u001b[43mtrained_no_augmented\u001b[49m\u001b[38;5;241;43m.\u001b[39;49m\u001b[43mevaluate\u001b[49m\u001b[43m(\u001b[49m\u001b[43mtest_another_datasets\u001b[49m\u001b[43m)\u001b[49m\n\u001b[1;32m      3\u001b[0m \u001b[38;5;28mprint\u001b[39m(\u001b[38;5;124mf\u001b[39m\u001b[38;5;124m'\u001b[39m\u001b[38;5;124mTest Accuracy: \u001b[39m\u001b[38;5;132;01m{\u001b[39;00mtest_accuracy\u001b[38;5;132;01m:\u001b[39;00m\u001b[38;5;124m.4f\u001b[39m\u001b[38;5;132;01m}\u001b[39;00m\u001b[38;5;124m'\u001b[39m)\n",
      "File \u001b[0;32m/usr/local/lib/python3.11/dist-packages/keras/src/utils/traceback_utils.py:70\u001b[0m, in \u001b[0;36mfilter_traceback.<locals>.error_handler\u001b[0;34m(*args, **kwargs)\u001b[0m\n\u001b[1;32m     67\u001b[0m     filtered_tb \u001b[38;5;241m=\u001b[39m _process_traceback_frames(e\u001b[38;5;241m.\u001b[39m__traceback__)\n\u001b[1;32m     68\u001b[0m     \u001b[38;5;66;03m# To get the full stack trace, call:\u001b[39;00m\n\u001b[1;32m     69\u001b[0m     \u001b[38;5;66;03m# `tf.debugging.disable_traceback_filtering()`\u001b[39;00m\n\u001b[0;32m---> 70\u001b[0m     \u001b[38;5;28;01mraise\u001b[39;00m e\u001b[38;5;241m.\u001b[39mwith_traceback(filtered_tb) \u001b[38;5;28;01mfrom\u001b[39;00m \u001b[38;5;28;01mNone\u001b[39;00m\n\u001b[1;32m     71\u001b[0m \u001b[38;5;28;01mfinally\u001b[39;00m:\n\u001b[1;32m     72\u001b[0m     \u001b[38;5;28;01mdel\u001b[39;00m filtered_tb\n",
      "File \u001b[0;32m/usr/local/lib/python3.11/dist-packages/tensorflow/python/eager/execute.py:60\u001b[0m, in \u001b[0;36mquick_execute\u001b[0;34m(op_name, num_outputs, inputs, attrs, ctx, name)\u001b[0m\n\u001b[1;32m     53\u001b[0m   \u001b[38;5;66;03m# Convert any objects of type core_types.Tensor to Tensor.\u001b[39;00m\n\u001b[1;32m     54\u001b[0m   inputs \u001b[38;5;241m=\u001b[39m [\n\u001b[1;32m     55\u001b[0m       tensor_conversion_registry\u001b[38;5;241m.\u001b[39mconvert(t)\n\u001b[1;32m     56\u001b[0m       \u001b[38;5;28;01mif\u001b[39;00m \u001b[38;5;28misinstance\u001b[39m(t, core_types\u001b[38;5;241m.\u001b[39mTensor)\n\u001b[1;32m     57\u001b[0m       \u001b[38;5;28;01melse\u001b[39;00m t\n\u001b[1;32m     58\u001b[0m       \u001b[38;5;28;01mfor\u001b[39;00m t \u001b[38;5;129;01min\u001b[39;00m inputs\n\u001b[1;32m     59\u001b[0m   ]\n\u001b[0;32m---> 60\u001b[0m   tensors \u001b[38;5;241m=\u001b[39m pywrap_tfe\u001b[38;5;241m.\u001b[39mTFE_Py_Execute(ctx\u001b[38;5;241m.\u001b[39m_handle, device_name, op_name,\n\u001b[1;32m     61\u001b[0m                                       inputs, attrs, num_outputs)\n\u001b[1;32m     62\u001b[0m \u001b[38;5;28;01mexcept\u001b[39;00m core\u001b[38;5;241m.\u001b[39m_NotOkStatusException \u001b[38;5;28;01mas\u001b[39;00m e:\n\u001b[1;32m     63\u001b[0m   \u001b[38;5;28;01mif\u001b[39;00m name \u001b[38;5;129;01mis\u001b[39;00m \u001b[38;5;129;01mnot\u001b[39;00m \u001b[38;5;28;01mNone\u001b[39;00m:\n",
      "\u001b[0;31mNotFoundError\u001b[0m: Graph execution error:\n\nDetected at node ReadFile defined at (most recent call last):\n<stack traces unavailable>\nDetected at node ReadFile defined at (most recent call last):\n<stack traces unavailable>\n2 root error(s) found.\n  (0) NOT_FOUND:  ./another_data_test/NORMAL/IM-0001-0001.jpeg; No such file or directory\n\t [[{{node ReadFile}}]]\n\t [[IteratorGetNext]]\n\t [[IteratorGetNext/_4]]\n  (1) NOT_FOUND:  ./another_data_test/NORMAL/IM-0001-0001.jpeg; No such file or directory\n\t [[{{node ReadFile}}]]\n\t [[IteratorGetNext]]\n0 successful operations.\n0 derived errors ignored. [Op:__inference_test_function_88898]"
     ]
    }
   ],
   "source": [
    "# Evaluate the model on the test set\n",
    "test_loss, test_accuracy, recall, precission = trained_no_augmented.evaluate(test_another_datasets)\n",
    "print(f'Test Accuracy: {test_accuracy:.4f}')"
   ]
  },
  {
   "cell_type": "code",
   "execution_count": 54,
   "metadata": {},
   "outputs": [
    {
     "name": "stdout",
     "output_type": "stream",
     "text": [
      "1/1 [==============================] - 0s 98ms/step\n",
      "1/1 [==============================] - 0s 30ms/step\n",
      "1/1 [==============================] - 0s 28ms/step\n",
      "1/1 [==============================] - 0s 29ms/step\n",
      "1/1 [==============================] - 0s 28ms/step\n",
      "1/1 [==============================] - 0s 30ms/step\n",
      "1/1 [==============================] - 0s 30ms/step\n",
      "1/1 [==============================] - 0s 30ms/step\n",
      "1/1 [==============================] - 0s 30ms/step\n",
      "1/1 [==============================] - 0s 30ms/step\n",
      "1/1 [==============================] - 0s 29ms/step\n",
      "1/1 [==============================] - 0s 31ms/step\n",
      "1/1 [==============================] - 0s 31ms/step\n"
     ]
    },
    {
     "name": "stderr",
     "output_type": "stream",
     "text": [
      "2024-10-18 12:03:57.705574: E tensorflow/core/lib/jpeg/jpeg_mem.cc:327] Premature end of JPEG data. Stopped at line 1312/2200\n",
      "2024-10-18 12:03:57.783762: E tensorflow/core/lib/jpeg/jpeg_mem.cc:327] Premature end of JPEG data. Stopped at line 1232/2297\n",
      "2024-10-18 12:03:57.896495: E tensorflow/core/lib/jpeg/jpeg_mem.cc:327] Premature end of JPEG data. Stopped at line 1560/2067\n"
     ]
    },
    {
     "name": "stdout",
     "output_type": "stream",
     "text": [
      "1/1 [==============================] - 0s 87ms/step\n",
      "1/1 [==============================] - 0s 30ms/step\n"
     ]
    },
    {
     "name": "stderr",
     "output_type": "stream",
     "text": [
      "2024-10-18 12:03:57.968782: E tensorflow/core/lib/jpeg/jpeg_mem.cc:327] Premature end of JPEG data. Stopped at line 1464/2129\n"
     ]
    },
    {
     "ename": "InvalidArgumentError",
     "evalue": "{{function_node __wrapped__IteratorGetNext_output_types_2_device_/job:localhost/replica:0/task:0/device:CPU:0}} jpeg::Uncompress failed. Invalid JPEG data or crop window.\n\t [[{{node decode_image/DecodeImage}}]] [Op:IteratorGetNext] name: ",
     "output_type": "error",
     "traceback": [
      "\u001b[0;31m---------------------------------------------------------------------------\u001b[0m",
      "\u001b[0;31mInvalidArgumentError\u001b[0m                      Traceback (most recent call last)",
      "Cell \u001b[0;32mIn[54], line 7\u001b[0m\n\u001b[1;32m      3\u001b[0m y_true \u001b[38;5;241m=\u001b[39m []\n\u001b[1;32m      5\u001b[0m class_names \u001b[38;5;241m=\u001b[39m [\u001b[38;5;124m'\u001b[39m\u001b[38;5;124mNORMAL\u001b[39m\u001b[38;5;124m'\u001b[39m, \u001b[38;5;124m'\u001b[39m\u001b[38;5;124mPNEUMONIA\u001b[39m\u001b[38;5;124m'\u001b[39m]  \u001b[38;5;66;03m# Assuming 0 is 'NORMAL' and 1 is 'PNEUMONIA'\u001b[39;00m\n\u001b[0;32m----> 7\u001b[0m \u001b[38;5;28;01mfor\u001b[39;00m images, labels \u001b[38;5;129;01min\u001b[39;00m test_another_datasets:\n\u001b[1;32m      8\u001b[0m     y_true\u001b[38;5;241m.\u001b[39mextend(labels\u001b[38;5;241m.\u001b[39mnumpy())\n\u001b[1;32m      9\u001b[0m     predictions \u001b[38;5;241m=\u001b[39m trained_no_augmented\u001b[38;5;241m.\u001b[39mpredict(images)\n",
      "File \u001b[0;32m/usr/local/lib/python3.11/dist-packages/tensorflow/python/data/ops/iterator_ops.py:809\u001b[0m, in \u001b[0;36mOwnedIterator.__next__\u001b[0;34m(self)\u001b[0m\n\u001b[1;32m    807\u001b[0m \u001b[38;5;28;01mdef\u001b[39;00m \u001b[38;5;21m__next__\u001b[39m(\u001b[38;5;28mself\u001b[39m):\n\u001b[1;32m    808\u001b[0m   \u001b[38;5;28;01mtry\u001b[39;00m:\n\u001b[0;32m--> 809\u001b[0m     \u001b[38;5;28;01mreturn\u001b[39;00m \u001b[38;5;28;43mself\u001b[39;49m\u001b[38;5;241;43m.\u001b[39;49m\u001b[43m_next_internal\u001b[49m\u001b[43m(\u001b[49m\u001b[43m)\u001b[49m\n\u001b[1;32m    810\u001b[0m   \u001b[38;5;28;01mexcept\u001b[39;00m errors\u001b[38;5;241m.\u001b[39mOutOfRangeError:\n\u001b[1;32m    811\u001b[0m     \u001b[38;5;28;01mraise\u001b[39;00m \u001b[38;5;167;01mStopIteration\u001b[39;00m\n",
      "File \u001b[0;32m/usr/local/lib/python3.11/dist-packages/tensorflow/python/data/ops/iterator_ops.py:772\u001b[0m, in \u001b[0;36mOwnedIterator._next_internal\u001b[0;34m(self)\u001b[0m\n\u001b[1;32m    769\u001b[0m \u001b[38;5;66;03m# TODO(b/77291417): This runs in sync mode as iterators use an error status\u001b[39;00m\n\u001b[1;32m    770\u001b[0m \u001b[38;5;66;03m# to communicate that there is no more data to iterate over.\u001b[39;00m\n\u001b[1;32m    771\u001b[0m \u001b[38;5;28;01mwith\u001b[39;00m context\u001b[38;5;241m.\u001b[39mexecution_mode(context\u001b[38;5;241m.\u001b[39mSYNC):\n\u001b[0;32m--> 772\u001b[0m   ret \u001b[38;5;241m=\u001b[39m \u001b[43mgen_dataset_ops\u001b[49m\u001b[38;5;241;43m.\u001b[39;49m\u001b[43miterator_get_next\u001b[49m\u001b[43m(\u001b[49m\n\u001b[1;32m    773\u001b[0m \u001b[43m      \u001b[49m\u001b[38;5;28;43mself\u001b[39;49m\u001b[38;5;241;43m.\u001b[39;49m\u001b[43m_iterator_resource\u001b[49m\u001b[43m,\u001b[49m\n\u001b[1;32m    774\u001b[0m \u001b[43m      \u001b[49m\u001b[43moutput_types\u001b[49m\u001b[38;5;241;43m=\u001b[39;49m\u001b[38;5;28;43mself\u001b[39;49m\u001b[38;5;241;43m.\u001b[39;49m\u001b[43m_flat_output_types\u001b[49m\u001b[43m,\u001b[49m\n\u001b[1;32m    775\u001b[0m \u001b[43m      \u001b[49m\u001b[43moutput_shapes\u001b[49m\u001b[38;5;241;43m=\u001b[39;49m\u001b[38;5;28;43mself\u001b[39;49m\u001b[38;5;241;43m.\u001b[39;49m\u001b[43m_flat_output_shapes\u001b[49m\u001b[43m)\u001b[49m\n\u001b[1;32m    777\u001b[0m   \u001b[38;5;28;01mtry\u001b[39;00m:\n\u001b[1;32m    778\u001b[0m     \u001b[38;5;66;03m# Fast path for the case `self._structure` is not a nested structure.\u001b[39;00m\n\u001b[1;32m    779\u001b[0m     \u001b[38;5;28;01mreturn\u001b[39;00m \u001b[38;5;28mself\u001b[39m\u001b[38;5;241m.\u001b[39m_element_spec\u001b[38;5;241m.\u001b[39m_from_compatible_tensor_list(ret)  \u001b[38;5;66;03m# pylint: disable=protected-access\u001b[39;00m\n",
      "File \u001b[0;32m/usr/local/lib/python3.11/dist-packages/tensorflow/python/ops/gen_dataset_ops.py:3028\u001b[0m, in \u001b[0;36miterator_get_next\u001b[0;34m(iterator, output_types, output_shapes, name)\u001b[0m\n\u001b[1;32m   3026\u001b[0m   \u001b[38;5;28;01mreturn\u001b[39;00m _result\n\u001b[1;32m   3027\u001b[0m \u001b[38;5;28;01mexcept\u001b[39;00m _core\u001b[38;5;241m.\u001b[39m_NotOkStatusException \u001b[38;5;28;01mas\u001b[39;00m e:\n\u001b[0;32m-> 3028\u001b[0m   \u001b[43m_ops\u001b[49m\u001b[38;5;241;43m.\u001b[39;49m\u001b[43mraise_from_not_ok_status\u001b[49m\u001b[43m(\u001b[49m\u001b[43me\u001b[49m\u001b[43m,\u001b[49m\u001b[43m \u001b[49m\u001b[43mname\u001b[49m\u001b[43m)\u001b[49m\n\u001b[1;32m   3029\u001b[0m \u001b[38;5;28;01mexcept\u001b[39;00m _core\u001b[38;5;241m.\u001b[39m_FallbackException:\n\u001b[1;32m   3030\u001b[0m   \u001b[38;5;28;01mpass\u001b[39;00m\n",
      "File \u001b[0;32m/usr/local/lib/python3.11/dist-packages/tensorflow/python/framework/ops.py:5888\u001b[0m, in \u001b[0;36mraise_from_not_ok_status\u001b[0;34m(e, name)\u001b[0m\n\u001b[1;32m   5886\u001b[0m \u001b[38;5;28;01mdef\u001b[39;00m \u001b[38;5;21mraise_from_not_ok_status\u001b[39m(e, name) \u001b[38;5;241m-\u001b[39m\u001b[38;5;241m>\u001b[39m NoReturn:\n\u001b[1;32m   5887\u001b[0m   e\u001b[38;5;241m.\u001b[39mmessage \u001b[38;5;241m+\u001b[39m\u001b[38;5;241m=\u001b[39m (\u001b[38;5;124m\"\u001b[39m\u001b[38;5;124m name: \u001b[39m\u001b[38;5;124m\"\u001b[39m \u001b[38;5;241m+\u001b[39m \u001b[38;5;28mstr\u001b[39m(name \u001b[38;5;28;01mif\u001b[39;00m name \u001b[38;5;129;01mis\u001b[39;00m \u001b[38;5;129;01mnot\u001b[39;00m \u001b[38;5;28;01mNone\u001b[39;00m \u001b[38;5;28;01melse\u001b[39;00m \u001b[38;5;124m\"\u001b[39m\u001b[38;5;124m\"\u001b[39m))\n\u001b[0;32m-> 5888\u001b[0m   \u001b[38;5;28;01mraise\u001b[39;00m core\u001b[38;5;241m.\u001b[39m_status_to_exception(e) \u001b[38;5;28;01mfrom\u001b[39;00m \u001b[38;5;28;01mNone\u001b[39;00m\n",
      "\u001b[0;31mInvalidArgumentError\u001b[0m: {{function_node __wrapped__IteratorGetNext_output_types_2_device_/job:localhost/replica:0/task:0/device:CPU:0}} jpeg::Uncompress failed. Invalid JPEG data or crop window.\n\t [[{{node decode_image/DecodeImage}}]] [Op:IteratorGetNext] name: "
     ]
    }
   ],
   "source": [
    "# Predict the test dataset\n",
    "y_pred = []\n",
    "y_true = []\n",
    "\n",
    "class_names = ['NORMAL', 'PNEUMONIA']  # Assuming 0 is 'NORMAL' and 1 is 'PNEUMONIA'\n",
    "\n",
    "for images, labels in test_another_datasets:\n",
    "    y_true.extend(labels.numpy())\n",
    "    predictions = trained_no_augmented.predict(images)\n",
    "    y_pred.extend(predictions)\n",
    "\n",
    "# Convert predictions and true labels to numpy arrays\n",
    "y_pred = np.array(y_pred)\n",
    "y_true = np.array(y_true)\n",
    "\n",
    "# Convert probabilities to binary outcomes\n",
    "y_pred = (y_pred > 0.5).astype(int)\n",
    "\n",
    "# Confusion Matrix\n",
    "print('Confusion Matrix')\n",
    "cm = confusion_matrix(y_true, y_pred)\n",
    "sns.heatmap(cm, annot=True, fmt='d', cmap='Blues', xticklabels=class_names, yticklabels=class_names)\n",
    "plt.xlabel('Predicted')\n",
    "plt.ylabel('True')\n",
    "plt.show()\n",
    "\n",
    "\n",
    "# Classification report and F1 Score\n",
    "print(classification_report(y_true, y_pred, target_names=class_names))\n",
    "f1 = f1_score(y_true, y_pred)\n",
    "print(f'Test F1 Score: {f1:.4f}')"
   ]
  },
  {
   "cell_type": "markdown",
   "metadata": {},
   "source": [
    "### Test Model Augmentation"
   ]
  },
  {
   "cell_type": "code",
   "execution_count": 48,
   "metadata": {},
   "outputs": [
    {
     "name": "stdout",
     "output_type": "stream",
     "text": [
      "37/37 [==============================] - 12s 299ms/step - loss: 0.5971 - accuracy: 0.9658 - precision_1: 0.9755 - recall_1: 0.9778\n",
      "Test Accuracy: 0.9658\n"
     ]
    }
   ],
   "source": [
    "# Evaluate the model on the test set\n",
    "test_loss, test_accuracy, test_precision, test_recall = trained_augmented.evaluate(test_generator)\n",
    "print(f'Test Accuracy: {test_accuracy:.4f}')"
   ]
  },
  {
   "cell_type": "code",
   "execution_count": 49,
   "metadata": {},
   "outputs": [
    {
     "name": "stdout",
     "output_type": "stream",
     "text": [
      "37/37 [==============================] - 12s 308ms/step\n",
      "Confusion Matrix\n"
     ]
    },
    {
     "data": {
      "image/png": "[encoded data removed]",
      "text/plain": [
       "<Figure size 640x480 with 2 Axes>"
      ]
     },
     "metadata": {},
     "output_type": "display_data"
    },
    {
     "name": "stdout",
     "output_type": "stream",
     "text": [
      "              precision    recall  f1-score   support\n",
      "\n",
      "      NORMAL       0.94      0.93      0.94       316\n",
      "   PNEUMONIA       0.98      0.98      0.98       854\n",
      "\n",
      "    accuracy                           0.97      1170\n",
      "   macro avg       0.96      0.96      0.96      1170\n",
      "weighted avg       0.97      0.97      0.97      1170\n",
      "\n",
      "Test F1 Score: 0.9766\n"
     ]
    }
   ],
   "source": [
    "# Make sure the generator is reset before making predictions\n",
    "test_generator.reset()\n",
    "y_pred = trained_augmented.predict(test_generator)\n",
    "y_pred = (y_pred > 0.5).astype(int)\n",
    "\n",
    "# Get true labels\n",
    "y_true = test_generator.classes\n",
    "\n",
    "# Define class names\n",
    "class_names = ['NORMAL', 'PNEUMONIA']  # Assuming 0 is 'NORMAL' and 1 is 'PNEUMONIA'\n",
    "\n",
    "# Confusion Matrix\n",
    "cm = confusion_matrix(y_true, y_pred)\n",
    "print('Confusion Matrix')\n",
    "sns.heatmap(cm, annot=True, fmt='d', cmap='Blues', xticklabels=class_names, yticklabels=class_names)\n",
    "plt.xlabel('Predicted')\n",
    "plt.ylabel('True')\n",
    "plt.title('Confusion Matrix')\n",
    "plt.show()\n",
    "\n",
    "# Classification report and F1 Score\n",
    "print(classification_report(y_true, y_pred, target_names=class_names))\n",
    "f1 = f1_score(y_true, y_pred)\n",
    "print(f'Test F1 Score: {f1:.4f}')"
   ]
  },
  {
   "cell_type": "markdown",
   "metadata": {},
   "source": [
    "### Test with another dataset (Augmentation)"
   ]
  },
  {
   "cell_type": "code",
   "execution_count": null,
   "metadata": {},
   "outputs": [],
   "source": [
    "# Evaluate the model on the test set\n",
    "test_loss, test_accuracy, recall, precission = trained_augmented.evaluate(test_another_datasets)\n",
    "print(f'Test Accuracy: {test_accuracy:.4f}')"
   ]
  },
  {
   "cell_type": "code",
   "execution_count": null,
   "metadata": {},
   "outputs": [],
   "source": [
    "# Predict the test dataset\n",
    "y_pred = []\n",
    "y_true = []\n",
    "\n",
    "class_names = ['NORMAL', 'PNEUMONIA']  # Assuming 0 is 'NORMAL' and 1 is 'PNEUMONIA'\n",
    "\n",
    "for images, labels in test_another_datasets:\n",
    "    y_true.extend(labels.numpy())\n",
    "    predictions = trained_augmented.predict(images)\n",
    "    y_pred.extend(predictions)\n",
    "\n",
    "# Convert predictions and true labels to numpy arrays\n",
    "y_pred = np.array(y_pred)\n",
    "y_true = np.array(y_true)\n",
    "\n",
    "# Convert probabilities to binary outcomes\n",
    "y_pred = (y_pred > 0.5).astype(int)\n",
    "\n",
    "# Confusion Matrix\n",
    "print('Confusion Matrix')\n",
    "cm = confusion_matrix(y_true, y_pred)\n",
    "sns.heatmap(cm, annot=True, fmt='d', cmap='Blues', xticklabels=class_names, yticklabels=class_names)\n",
    "plt.xlabel('Predicted')\n",
    "plt.ylabel('True')\n",
    "plt.show()\n",
    "\n",
    "\n",
    "# Classification report and F1 Score\n",
    "print(classification_report(y_true, y_pred, target_names=class_names))\n",
    "f1 = f1_score(y_true, y_pred)\n",
    "print(f'Test F1 Score: {f1:.4f}')"
   ]
  },
  {
   "cell_type": "markdown",
   "metadata": {},
   "source": [
    "### Test model best hyperparameter tuning"
   ]
  },
  {
   "cell_type": "code",
   "execution_count": null,
   "metadata": {},
   "outputs": [],
   "source": [
    "# Load the best model\n",
    "best_model = load_model('best_model_lr_0.0001_dropout_0.2.h5')  # Replace with the actual best model file\n",
    "\n",
    "# Prepare the test dataset (assuming you've set up your test dataset)\n",
    "\n",
    "# Evaluate on the test dataset\n",
    "test_loss, test_acc = best_model.evaluate(test_dataset)\n",
    "print(f'Test Accuracy: {test_acc:.4f}')"
   ]
  },
  {
   "cell_type": "code",
   "execution_count": null,
   "metadata": {},
   "outputs": [],
   "source": [
    "#  Predict the test dataset\n",
    "y_pred = []\n",
    "y_true = []\n",
    "\n",
    "class_names = ['NORMAL', 'PNEUMONIA']  # Assuming 0 is 'NORMAL' and 1 is 'PNEUMONIA'\n",
    "\n",
    "for images, labels in test_dataset:\n",
    "    y_true.extend(labels.numpy())\n",
    "    predictions = best_model.predict(images)\n",
    "    y_pred.extend(predictions)\n",
    "\n",
    "# Convert predictions and true labels to numpy arrays\n",
    "y_pred = np.array(y_pred)\n",
    "y_true = np.array(y_true)\n",
    "\n",
    "# Convert probabilities to binary outcomes\n",
    "y_pred = (y_pred > 0.5).astype(int)\n",
    "\n",
    "# Confusion Matrix\n",
    "print('Confusion Matrix')\n",
    "cm = confusion_matrix(y_true, y_pred)\n",
    "sns.heatmap(cm, annot=True, fmt='d', cmap='Blues', xticklabels=class_names, yticklabels=class_names)\n",
    "plt.xlabel('Predicted')\n",
    "plt.ylabel('True')\n",
    "plt.show()\n",
    "\n",
    "\n",
    "# Classification report and F1 Score\n",
    "print(classification_report(y_true, y_pred, target_names=class_names))\n",
    "f1 = f1_score(y_true, y_pred)\n",
    "print(f'Test F1 Score: {f1:.4f}')"
   ]
  },
  {
   "cell_type": "code",
   "execution_count": null,
   "metadata": {},
   "outputs": [],
   "source": [
    "#  Predict the test dataset\n",
    "y_pred = []\n",
    "y_true = []\n",
    "\n",
    "class_names = ['NORMAL', 'PNEUMONIA']  # Assuming 0 is 'NORMAL' and 1 is 'PNEUMONIA'\n",
    "\n",
    "for images, labels in test_another_datasets:\n",
    "    y_true.extend(labels.numpy())\n",
    "    predictions = best_model.predict(images)\n",
    "    y_pred.extend(predictions)\n",
    "\n",
    "# Convert predictions and true labels to numpy arrays\n",
    "y_pred = np.array(y_pred)\n",
    "y_true = np.array(y_true)\n",
    "\n",
    "# Convert probabilities to binary outcomes\n",
    "y_pred = (y_pred > 0.5).astype(int)\n",
    "\n",
    "# Confusion Matrix\n",
    "print('Confusion Matrix')\n",
    "cm = confusion_matrix(y_true, y_pred)\n",
    "sns.heatmap(cm, annot=True, fmt='d', cmap='Blues', xticklabels=class_names, yticklabels=class_names)\n",
    "plt.xlabel('Predicted')\n",
    "plt.ylabel('True')\n",
    "plt.show()\n",
    "\n",
    "\n",
    "# Classification report and F1 Score\n",
    "print(classification_report(y_true, y_pred, target_names=class_names))\n",
    "f1 = f1_score(y_true, y_pred)\n",
    "print(f'Test F1 Score: {f1:.4f}')"
   ]
  }
 ],
 "metadata": {
  "accelerator": "GPU",
  "colab": {
   "gpuType": "T4",
   "provenance": []
  },
  "kernelspec": {
   "display_name": "Python 3 (ipykernel)",
   "language": "python",
   "name": "python3"
  },
  "language_info": {
   "codemirror_mode": {
    "name": "ipython",
    "version": 3
   },
   "file_extension": ".py",
   "mimetype": "text/x-python",
   "name": "python",
   "nbconvert_exporter": "python",
   "pygments_lexer": "ipython3",
   "version": "3.11.0rc1"
  }
 },
 "nbformat": 4,
 "nbformat_minor": 4
}
